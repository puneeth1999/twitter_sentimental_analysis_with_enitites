{
 "cells": [
  {
   "cell_type": "code",
   "execution_count": 1,
   "metadata": {},
   "outputs": [
    {
     "name": "stderr",
     "output_type": "stream",
     "text": [
      "Using TensorFlow backend.\n"
     ]
    }
   ],
   "source": [
    "from keras.models import load_model\n",
    "import pandas as pd\n",
    "import re\n",
    "from nltk.stem import WordNetLemmatizer\n",
    "from nltk.corpus import stopwords\n",
    "import pickle\n",
    "from keras.preprocessing.sequence import pad_sequences\n",
    "\n",
    "maxlen = 130"
   ]
  },
  {
   "cell_type": "code",
   "execution_count": 2,
   "metadata": {},
   "outputs": [
    {
     "name": "stderr",
     "output_type": "stream",
     "text": [
      "/home/suraj/Work/Hackathons-And-Challenges/Unisys/social-media-analytics-app/twitterEnv/lib/python3.6/site-packages/tensorflow_core/python/framework/indexed_slices.py:433: UserWarning: Converting sparse IndexedSlices to a dense Tensor of unknown shape. This may consume a large amount of memory.\n",
      "  \"Converting sparse IndexedSlices to a dense Tensor of unknown shape. \"\n"
     ]
    }
   ],
   "source": [
    "loaded_model = load_model('sentimentClassifier.h5')"
   ]
  },
  {
   "cell_type": "code",
   "execution_count": 3,
   "metadata": {},
   "outputs": [],
   "source": [
    "stop_words = set(stopwords.words(\"english\")) \n",
    "lemmatizer = WordNetLemmatizer()\n",
    "\n",
    "def clean_text(text):\n",
    "    text = re.sub(r'[^\\w\\s]','',text, re.UNICODE)\n",
    "    text = text.lower()\n",
    "    text = [lemmatizer.lemmatize(token) for token in text.split(\" \")]\n",
    "    text = [lemmatizer.lemmatize(token, \"v\") for token in text]\n",
    "    text = [word for word in text if not word in stop_words]\n",
    "    text = \" \".join(text)\n",
    "    return text"
   ]
  },
  {
   "cell_type": "code",
   "execution_count": 4,
   "metadata": {},
   "outputs": [],
   "source": [
    "def load_tokenizer(filename):\n",
    "    with open(filename, 'rb') as handle:\n",
    "        tokenizer = pickle.load(handle)\n",
    "    \n",
    "    return tokenizer\n",
    "\n",
    "loaded_tokenizer = load_tokenizer('tokenizer.pickle')"
   ]
  },
  {
   "cell_type": "code",
   "execution_count": 5,
   "metadata": {},
   "outputs": [],
   "source": [
    "def getSentimentByAI(text, tokenizer, model):\n",
    "    surajPred = pd.DataFrame({\"id\" : [1234], \"review\" : [text]})\n",
    "    surajPred[\"review\"]=surajPred.review.apply(lambda x: clean_text(x))\n",
    "    list_sentences_test = surajPred[\"review\"]\n",
    "    list_tokenized_test = tokenizer.texts_to_sequences(list_sentences_test)\n",
    "    X_te = pad_sequences(list_tokenized_test, maxlen=maxlen)\n",
    "    \n",
    "    prediction = loaded_model.predict(X_te)\n",
    "    y_pred = (prediction > 0.5)\n",
    "    return y_pred[0][0]"
   ]
  },
  {
   "cell_type": "markdown",
   "metadata": {},
   "source": [
    "# Testing"
   ]
  },
  {
   "cell_type": "code",
   "execution_count": 6,
   "metadata": {
    "scrolled": true
   },
   "outputs": [
    {
     "data": {
      "text/plain": [
       "False"
      ]
     },
     "execution_count": 6,
     "metadata": {},
     "output_type": "execute_result"
    }
   ],
   "source": [
    "getSentimentByAI(\"food stinked\", loaded_tokenizer, loaded_model)"
   ]
  },
  {
   "cell_type": "markdown",
   "metadata": {},
   "source": [
    "# Loading from the database"
   ]
  },
  {
   "cell_type": "code",
   "execution_count": 8,
   "metadata": {},
   "outputs": [
    {
     "name": "stdout",
     "output_type": "stream",
     "text": [
      "Collecting sqlalchemy\n",
      "  Downloading SQLAlchemy-1.3.13.tar.gz (6.0 MB)\n",
      "\u001b[K     |████████████████████████████████| 6.0 MB 1.5 MB/s eta 0:00:01\n",
      "\u001b[?25hBuilding wheels for collected packages: sqlalchemy\n",
      "  Building wheel for sqlalchemy (setup.py) ... \u001b[?25ldone\n",
      "\u001b[?25h  Created wheel for sqlalchemy: filename=SQLAlchemy-1.3.13-cp36-cp36m-linux_x86_64.whl size=1217180 sha256=0180846e4277f3bcb5c4fa4c3f2a6bded1eff825a51d65b5a86b70a1819f8a78\n",
      "  Stored in directory: /home/suraj/.cache/pip/wheels/28/3e/f9/8eca04781258bb6956ffba37e4e6e6951e5b3a16d4494b91cb\n",
      "Successfully built sqlalchemy\n",
      "Installing collected packages: sqlalchemy\n",
      "Successfully installed sqlalchemy-1.3.13\n"
     ]
    }
   ],
   "source": [
    "!pip3 install sqlalchemy"
   ]
  },
  {
   "cell_type": "code",
   "execution_count": 10,
   "metadata": {
    "scrolled": true
   },
   "outputs": [],
   "source": [
    "from sqlalchemy import create_engine\n",
    "\n",
    "dbUrl = 'YOUR DATABASE URL'\n",
    "engine = create_engine(dbUrl)"
   ]
  },
  {
   "cell_type": "code",
   "execution_count": 17,
   "metadata": {},
   "outputs": [],
   "source": [
    "df = pd.read_sql_query('select * from twitterops_tweet',con=engine)"
   ]
  },
  {
   "cell_type": "code",
   "execution_count": 18,
   "metadata": {},
   "outputs": [
    {
     "data": {
      "text/html": [
       "<div>\n",
       "<style scoped>\n",
       "    .dataframe tbody tr th:only-of-type {\n",
       "        vertical-align: middle;\n",
       "    }\n",
       "\n",
       "    .dataframe tbody tr th {\n",
       "        vertical-align: top;\n",
       "    }\n",
       "\n",
       "    .dataframe thead th {\n",
       "        text-align: right;\n",
       "    }\n",
       "</style>\n",
       "<table border=\"1\" class=\"dataframe\">\n",
       "  <thead>\n",
       "    <tr style=\"text-align: right;\">\n",
       "      <th></th>\n",
       "      <th>id</th>\n",
       "      <th>tweet_id</th>\n",
       "      <th>datetime</th>\n",
       "      <th>text</th>\n",
       "      <th>sentiment</th>\n",
       "      <th>customer_id</th>\n",
       "      <th>html</th>\n",
       "    </tr>\n",
       "  </thead>\n",
       "  <tbody>\n",
       "    <tr>\n",
       "      <th>0</th>\n",
       "      <td>1</td>\n",
       "      <td>1221841391736606720</td>\n",
       "      <td>2020-01-27 17:04:23+00:00</td>\n",
       "      <td>@BLRAirport Two terrorists going to serve</td>\n",
       "      <td>neutral</td>\n",
       "      <td>1</td>\n",
       "      <td>&lt;blockquote class=\"twitter-tweet\"&gt;&lt;p lang=\"en\"...</td>\n",
       "    </tr>\n",
       "    <tr>\n",
       "      <th>1</th>\n",
       "      <td>2</td>\n",
       "      <td>1221840246045839361</td>\n",
       "      <td>2020-01-27 16:59:50+00:00</td>\n",
       "      <td>Bengaluru airport welcomed 33 million pax in 2...</td>\n",
       "      <td>neutral</td>\n",
       "      <td>2</td>\n",
       "      <td>&lt;blockquote class=\"twitter-tweet\"&gt;&lt;p lang=\"en\"...</td>\n",
       "    </tr>\n",
       "    <tr>\n",
       "      <th>2</th>\n",
       "      <td>3</td>\n",
       "      <td>1221838735014187008</td>\n",
       "      <td>2020-01-27 16:53:49+00:00</td>\n",
       "      <td>To know more such interesting facts, follow th...</td>\n",
       "      <td>neutral</td>\n",
       "      <td>3</td>\n",
       "      <td>&lt;blockquote class=\"twitter-tweet\"&gt;&lt;p lang=\"en\"...</td>\n",
       "    </tr>\n",
       "    <tr>\n",
       "      <th>3</th>\n",
       "      <td>4</td>\n",
       "      <td>1221838463495917568</td>\n",
       "      <td>2020-01-27 16:52:45+00:00</td>\n",
       "      <td>@BLRAirport Excellent Staff Service by Krishna...</td>\n",
       "      <td>neutral</td>\n",
       "      <td>4</td>\n",
       "      <td>&lt;blockquote class=\"twitter-tweet\"&gt;&lt;p lang=\"en\"...</td>\n",
       "    </tr>\n",
       "    <tr>\n",
       "      <th>4</th>\n",
       "      <td>5</td>\n",
       "      <td>1221822560121184256</td>\n",
       "      <td>2020-01-27 15:49:33+00:00</td>\n",
       "      <td>Follow the BLR airport for such tasty facts.</td>\n",
       "      <td>neutral</td>\n",
       "      <td>5</td>\n",
       "      <td>&lt;blockquote class=\"twitter-tweet\"&gt;&lt;p lang=\"en\"...</td>\n",
       "    </tr>\n",
       "  </tbody>\n",
       "</table>\n",
       "</div>"
      ],
      "text/plain": [
       "   id             tweet_id                  datetime  \\\n",
       "0   1  1221841391736606720 2020-01-27 17:04:23+00:00   \n",
       "1   2  1221840246045839361 2020-01-27 16:59:50+00:00   \n",
       "2   3  1221838735014187008 2020-01-27 16:53:49+00:00   \n",
       "3   4  1221838463495917568 2020-01-27 16:52:45+00:00   \n",
       "4   5  1221822560121184256 2020-01-27 15:49:33+00:00   \n",
       "\n",
       "                                                text sentiment  customer_id  \\\n",
       "0          @BLRAirport Two terrorists going to serve   neutral            1   \n",
       "1  Bengaluru airport welcomed 33 million pax in 2...   neutral            2   \n",
       "2  To know more such interesting facts, follow th...   neutral            3   \n",
       "3  @BLRAirport Excellent Staff Service by Krishna...   neutral            4   \n",
       "4       Follow the BLR airport for such tasty facts.   neutral            5   \n",
       "\n",
       "                                                html  \n",
       "0  <blockquote class=\"twitter-tweet\"><p lang=\"en\"...  \n",
       "1  <blockquote class=\"twitter-tweet\"><p lang=\"en\"...  \n",
       "2  <blockquote class=\"twitter-tweet\"><p lang=\"en\"...  \n",
       "3  <blockquote class=\"twitter-tweet\"><p lang=\"en\"...  \n",
       "4  <blockquote class=\"twitter-tweet\"><p lang=\"en\"...  "
      ]
     },
     "execution_count": 18,
     "metadata": {},
     "output_type": "execute_result"
    }
   ],
   "source": [
    "df.head()"
   ]
  },
  {
   "cell_type": "code",
   "execution_count": 22,
   "metadata": {
    "scrolled": true
   },
   "outputs": [],
   "source": [
    "tif = df.loc[0]['text']"
   ]
  },
  {
   "cell_type": "code",
   "execution_count": 27,
   "metadata": {},
   "outputs": [
    {
     "data": {
      "text/plain": [
       "6"
      ]
     },
     "execution_count": 27,
     "metadata": {},
     "output_type": "execute_result"
    }
   ],
   "source": [
    "len(df[df['sentiment'] == 'positive'])"
   ]
  },
  {
   "cell_type": "code",
   "execution_count": 26,
   "metadata": {},
   "outputs": [
    {
     "data": {
      "text/plain": [
       "1"
      ]
     },
     "execution_count": 26,
     "metadata": {},
     "output_type": "execute_result"
    }
   ],
   "source": [
    "len(df[df['sentiment'] == 'negative'])"
   ]
  },
  {
   "cell_type": "code",
   "execution_count": 23,
   "metadata": {
    "scrolled": true
   },
   "outputs": [
    {
     "data": {
      "text/plain": [
       "False"
      ]
     },
     "execution_count": 23,
     "metadata": {},
     "output_type": "execute_result"
    }
   ],
   "source": [
    "getSentimentByAI(tif, loaded_tokenizer, loaded_model)"
   ]
  },
  {
   "cell_type": "code",
   "execution_count": 39,
   "metadata": {},
   "outputs": [
    {
     "name": "stderr",
     "output_type": "stream",
     "text": [
      "/home/suraj/Work/Hackathons-And-Challenges/Unisys/social-media-analytics-app/twitterEnv/lib/python3.6/site-packages/pandas/core/indexing.py:205: SettingWithCopyWarning: \n",
      "A value is trying to be set on a copy of a slice from a DataFrame\n",
      "\n",
      "See the caveats in the documentation: http://pandas.pydata.org/pandas-docs/stable/user_guide/indexing.html#returning-a-view-versus-a-copy\n",
      "  self._setitem_with_indexer(indexer, value)\n"
     ]
    }
   ],
   "source": [
    "for i in range(len(df)):\n",
    "    tif = df.loc[i]['text']\n",
    "    sentiment = getSentimentByAI(tif, loaded_tokenizer, loaded_model)\n",
    "    \n",
    "    if(sentiment == True):\n",
    "#         print('This is positive')\n",
    "        (df['sentiment']).loc[i] = 'positive'\n",
    "    elif(sentiment == False):\n",
    "#         print('This is negative')\n",
    "        (df['sentiment']).loc[i] = 'negative'"
   ]
  },
  {
   "cell_type": "code",
   "execution_count": 45,
   "metadata": {},
   "outputs": [
    {
     "data": {
      "text/html": [
       "<div>\n",
       "<style scoped>\n",
       "    .dataframe tbody tr th:only-of-type {\n",
       "        vertical-align: middle;\n",
       "    }\n",
       "\n",
       "    .dataframe tbody tr th {\n",
       "        vertical-align: top;\n",
       "    }\n",
       "\n",
       "    .dataframe thead th {\n",
       "        text-align: right;\n",
       "    }\n",
       "</style>\n",
       "<table border=\"1\" class=\"dataframe\">\n",
       "  <thead>\n",
       "    <tr style=\"text-align: right;\">\n",
       "      <th></th>\n",
       "      <th>id</th>\n",
       "      <th>tweet_id</th>\n",
       "      <th>datetime</th>\n",
       "      <th>text</th>\n",
       "      <th>sentiment</th>\n",
       "      <th>customer_id</th>\n",
       "      <th>html</th>\n",
       "    </tr>\n",
       "  </thead>\n",
       "  <tbody>\n",
       "    <tr>\n",
       "      <th>0</th>\n",
       "      <td>1</td>\n",
       "      <td>1221841391736606720</td>\n",
       "      <td>2020-01-27 17:04:23+00:00</td>\n",
       "      <td>@BLRAirport Two terrorists going to serve</td>\n",
       "      <td>negative</td>\n",
       "      <td>1</td>\n",
       "      <td>&lt;blockquote class=\"twitter-tweet\"&gt;&lt;p lang=\"en\"...</td>\n",
       "    </tr>\n",
       "    <tr>\n",
       "      <th>1</th>\n",
       "      <td>2</td>\n",
       "      <td>1221840246045839361</td>\n",
       "      <td>2020-01-27 16:59:50+00:00</td>\n",
       "      <td>Bengaluru airport welcomed 33 million pax in 2...</td>\n",
       "      <td>positive</td>\n",
       "      <td>2</td>\n",
       "      <td>&lt;blockquote class=\"twitter-tweet\"&gt;&lt;p lang=\"en\"...</td>\n",
       "    </tr>\n",
       "    <tr>\n",
       "      <th>2</th>\n",
       "      <td>3</td>\n",
       "      <td>1221838735014187008</td>\n",
       "      <td>2020-01-27 16:53:49+00:00</td>\n",
       "      <td>To know more such interesting facts, follow th...</td>\n",
       "      <td>negative</td>\n",
       "      <td>3</td>\n",
       "      <td>&lt;blockquote class=\"twitter-tweet\"&gt;&lt;p lang=\"en\"...</td>\n",
       "    </tr>\n",
       "    <tr>\n",
       "      <th>3</th>\n",
       "      <td>4</td>\n",
       "      <td>1221838463495917568</td>\n",
       "      <td>2020-01-27 16:52:45+00:00</td>\n",
       "      <td>@BLRAirport Excellent Staff Service by Krishna...</td>\n",
       "      <td>positive</td>\n",
       "      <td>4</td>\n",
       "      <td>&lt;blockquote class=\"twitter-tweet\"&gt;&lt;p lang=\"en\"...</td>\n",
       "    </tr>\n",
       "    <tr>\n",
       "      <th>4</th>\n",
       "      <td>5</td>\n",
       "      <td>1221822560121184256</td>\n",
       "      <td>2020-01-27 15:49:33+00:00</td>\n",
       "      <td>Follow the BLR airport for such tasty facts.</td>\n",
       "      <td>negative</td>\n",
       "      <td>5</td>\n",
       "      <td>&lt;blockquote class=\"twitter-tweet\"&gt;&lt;p lang=\"en\"...</td>\n",
       "    </tr>\n",
       "  </tbody>\n",
       "</table>\n",
       "</div>"
      ],
      "text/plain": [
       "   id             tweet_id                  datetime  \\\n",
       "0   1  1221841391736606720 2020-01-27 17:04:23+00:00   \n",
       "1   2  1221840246045839361 2020-01-27 16:59:50+00:00   \n",
       "2   3  1221838735014187008 2020-01-27 16:53:49+00:00   \n",
       "3   4  1221838463495917568 2020-01-27 16:52:45+00:00   \n",
       "4   5  1221822560121184256 2020-01-27 15:49:33+00:00   \n",
       "\n",
       "                                                text sentiment  customer_id  \\\n",
       "0          @BLRAirport Two terrorists going to serve  negative            1   \n",
       "1  Bengaluru airport welcomed 33 million pax in 2...  positive            2   \n",
       "2  To know more such interesting facts, follow th...  negative            3   \n",
       "3  @BLRAirport Excellent Staff Service by Krishna...  positive            4   \n",
       "4       Follow the BLR airport for such tasty facts.  negative            5   \n",
       "\n",
       "                                                html  \n",
       "0  <blockquote class=\"twitter-tweet\"><p lang=\"en\"...  \n",
       "1  <blockquote class=\"twitter-tweet\"><p lang=\"en\"...  \n",
       "2  <blockquote class=\"twitter-tweet\"><p lang=\"en\"...  \n",
       "3  <blockquote class=\"twitter-tweet\"><p lang=\"en\"...  \n",
       "4  <blockquote class=\"twitter-tweet\"><p lang=\"en\"...  "
      ]
     },
     "execution_count": 45,
     "metadata": {},
     "output_type": "execute_result"
    }
   ],
   "source": [
    "df.head()"
   ]
  },
  {
   "cell_type": "code",
   "execution_count": 41,
   "metadata": {},
   "outputs": [
    {
     "data": {
      "text/plain": [
       "40"
      ]
     },
     "execution_count": 41,
     "metadata": {},
     "output_type": "execute_result"
    }
   ],
   "source": [
    "len(df[df['sentiment'] == 'positive'])"
   ]
  },
  {
   "cell_type": "code",
   "execution_count": 42,
   "metadata": {},
   "outputs": [
    {
     "data": {
      "text/plain": [
       "37"
      ]
     },
     "execution_count": 42,
     "metadata": {},
     "output_type": "execute_result"
    }
   ],
   "source": [
    "len(df[df['sentiment'] == 'negative'])"
   ]
  },
  {
   "cell_type": "code",
   "execution_count": 43,
   "metadata": {},
   "outputs": [
    {
     "data": {
      "text/plain": [
       "77"
      ]
     },
     "execution_count": 43,
     "metadata": {},
     "output_type": "execute_result"
    }
   ],
   "source": [
    "len(df)"
   ]
  },
  {
   "cell_type": "code",
   "execution_count": 44,
   "metadata": {},
   "outputs": [],
   "source": [
    "df.to_sql('temp_table', engine, if_exists='replace')"
   ]
  },
  {
   "cell_type": "code",
   "execution_count": 50,
   "metadata": {},
   "outputs": [
    {
     "data": {
      "text/plain": [
       "'UPDATE temp_table set sentiment = \"positive\" where tweet_id = 1234;'"
      ]
     },
     "execution_count": 50,
     "metadata": {},
     "output_type": "execute_result"
    }
   ],
   "source": [
    "queryStr = \"UPDATE temp_table set sentiment = \\\"\"+\"positive\"+\"\\\" where tweet_id = \"+str(1234)+\";\"\n",
    "queryStr"
   ]
  },
  {
   "cell_type": "code",
   "execution_count": 66,
   "metadata": {},
   "outputs": [
    {
     "name": "stdout",
     "output_type": "stream",
     "text": [
      "Error while fetching data from PostgreSQL no results to fetch\n",
      "PostgreSQL connection is closed\n"
     ]
    }
   ],
   "source": [
    "import psycopg2\n",
    "\n",
    "try:\n",
    "    connection = psycopg2.connect(user=\"USERNMAE HERE\",\n",
    "                                  password=\"PASSWORD HERE\",\n",
    "                                  host=\"HOST HERE\",\n",
    "                                  port=\"5432\",\n",
    "                                  database=\"ddutv3dsi8c1se USE YOUR OWN DATABASE\")\n",
    "    cursor = connection.cursor()\n",
    "    record = cursor.fetchone()\n",
    "    print(record)\n",
    "    \n",
    "    for i in range(len(df)):\n",
    "        sentiment = (df.iloc[i])[\"sentiment\"]\n",
    "        cust = (df.loc[i])[\"customer_id\"]\n",
    "        sql_update_query = \"\"\"Update twitterops_tweet set sentiment = %s where customer_id = %s\"\"\"\n",
    "        cursor.execute(sql_update_query, (sentiment, cust))\n",
    "        connection.commit()\n",
    "        count = cursor.rowcount\n",
    "        print(count, \"Record Updated successfully \")\n",
    "        \n",
    "except (Exception, psycopg2.Error) as error :\n",
    "    print (\"Error while fetching data from PostgreSQL\", error)\n",
    "\n",
    "finally:\n",
    "    #closing database connection.\n",
    "    if(connection):\n",
    "        cursor.close()\n",
    "        connection.close()\n",
    "        print(\"PostgreSQL connection is closed\")"
   ]
  },
  {
   "cell_type": "code",
   "execution_count": 63,
   "metadata": {},
   "outputs": [
    {
     "data": {
      "text/plain": [
       "'negative'"
      ]
     },
     "execution_count": 63,
     "metadata": {},
     "output_type": "execute_result"
    }
   ],
   "source": [
    "(df.iloc[0])[\"sentiment\"]"
   ]
  },
  {
   "cell_type": "code",
   "execution_count": 69,
   "metadata": {},
   "outputs": [
    {
     "name": "stdout",
     "output_type": "stream",
     "text": [
      "Table Before updating record \n",
      "(3, '1221838735014187008', datetime.datetime(2020, 1, 27, 16, 53, 49, tzinfo=psycopg2.tz.FixedOffsetTimezone(offset=0, name=None)), 'To know more such interesting facts, follow the B L Rairport', 'negative', 3, '<blockquote class=\"twitter-tweet\"><p lang=\"en\" dir=\"ltr\">To know more  such interesting facts, follow the <a href=\"https://twitter.com/hashtag/BLRairport?src=hash&amp;ref_src=twsrc%5Etfw\">#BLRairport</a> <a href=\"https://t.co/vMqx700lqi\">pic.twitter.com/vMqx700lqi</a></p>&mdash; BLR Airport (@BLRAirport) <a href=\"https://twitter.com/BLRAirport/status/1211649540576595969?ref_src=twsrc%5Etfw\">December 30, 2019</a></blockquote>\\n<script async src=\"https://platform.twitter.com/widgets.js\" charset=\"utf-8\"></script>\\n')\n",
      "1 Record Updated successfully \n",
      "Table After updating record \n",
      "(3, '1221838735014187008', datetime.datetime(2020, 1, 27, 16, 53, 49, tzinfo=psycopg2.tz.FixedOffsetTimezone(offset=0, name=None)), 'To know more such interesting facts, follow the B L Rairport', 'positive', 3, '<blockquote class=\"twitter-tweet\"><p lang=\"en\" dir=\"ltr\">To know more  such interesting facts, follow the <a href=\"https://twitter.com/hashtag/BLRairport?src=hash&amp;ref_src=twsrc%5Etfw\">#BLRairport</a> <a href=\"https://t.co/vMqx700lqi\">pic.twitter.com/vMqx700lqi</a></p>&mdash; BLR Airport (@BLRAirport) <a href=\"https://twitter.com/BLRAirport/status/1211649540576595969?ref_src=twsrc%5Etfw\">December 30, 2019</a></blockquote>\\n<script async src=\"https://platform.twitter.com/widgets.js\" charset=\"utf-8\"></script>\\n')\n",
      "PostgreSQL connection is closed\n"
     ]
    }
   ],
   "source": [
    "import psycopg2\n",
    "\n",
    "def updateTable(customer_id, sentiment):\n",
    "    try:\n",
    "        connection = psycopg2.connect(user=\"USER\",\n",
    "                                  password=\"PASS\",\n",
    "                                  host=\"HOST\",\n",
    "                                  port=\"5432\",\n",
    "                                  database=\"DB\")\n",
    "        cursor = connection.cursor()\n",
    "\n",
    "        print(\"Table Before updating record \")\n",
    "        sql_select_query = \"\"\"select * from twitterops_tweet where customer_id = %s\"\"\"\n",
    "        cursor.execute(sql_select_query, (customer_id, ))\n",
    "        record = cursor.fetchone()\n",
    "        print(record)\n",
    "\n",
    "        # Update single record now\n",
    "        sql_update_query = \"\"\"Update twitterops_tweet set sentiment = %s where customer_id = %s\"\"\"\n",
    "        cursor.execute(sql_update_query, (sentiment, customer_id))\n",
    "        connection.commit()\n",
    "        count = cursor.rowcount\n",
    "        print(count, \"Record Updated successfully \")\n",
    "\n",
    "        print(\"Table After updating record \")\n",
    "        sql_select_query = \"\"\"select * from twitterops_tweet where customer_id = %s\"\"\"\n",
    "        cursor.execute(sql_select_query, (customer_id,))\n",
    "        record = cursor.fetchone()\n",
    "        print(record)\n",
    "\n",
    "    except (Exception, psycopg2.Error) as error:\n",
    "        print(\"Error in update operation\", error)\n",
    "\n",
    "    finally:\n",
    "        # closing database connection.\n",
    "        if (connection):\n",
    "            cursor.close()\n",
    "            connection.close()\n",
    "            print(\"PostgreSQL connection is closed\")\n",
    "\n",
    "\n",
    "# updateTable(3, \"positive\")"
   ]
  },
  {
   "cell_type": "code",
   "execution_count": 71,
   "metadata": {},
   "outputs": [
    {
     "data": {
      "text/plain": [
       "numpy.int64"
      ]
     },
     "execution_count": 71,
     "metadata": {},
     "output_type": "execute_result"
    }
   ],
   "source": [
    "type((df.iloc[0])[\"customer_id\"])"
   ]
  },
  {
   "cell_type": "code",
   "execution_count": 72,
   "metadata": {},
   "outputs": [
    {
     "data": {
      "text/plain": [
       "12"
      ]
     },
     "execution_count": 72,
     "metadata": {},
     "output_type": "execute_result"
    }
   ],
   "source": [
    "(df.iloc[i])[\"customer_id\"]"
   ]
  },
  {
   "cell_type": "code",
   "execution_count": 74,
   "metadata": {},
   "outputs": [
    {
     "data": {
      "text/plain": [
       "int"
      ]
     },
     "execution_count": 74,
     "metadata": {},
     "output_type": "execute_result"
    }
   ],
   "source": [
    "type(int((df.iloc[i])[\"customer_id\"]))"
   ]
  },
  {
   "cell_type": "code",
   "execution_count": 75,
   "metadata": {
    "scrolled": true
   },
   "outputs": [
    {
     "name": "stdout",
     "output_type": "stream",
     "text": [
      "Table Before updating record \n",
      "(1, '1221841391736606720', datetime.datetime(2020, 1, 27, 17, 4, 23, tzinfo=psycopg2.tz.FixedOffsetTimezone(offset=0, name=None)), '@BLRAirport Two terrorists going to serve', 'negative', 1, '<blockquote class=\"twitter-tweet\"><p lang=\"en\" dir=\"ltr\">Two terrorists going to serve terrorist</p>&mdash; Virendra Rawat (@Virendraahd1) <a href=\"https://twitter.com/Virendraahd1/status/1221841391736606720?ref_src=twsrc%5Etfw\">January 27, 2020</a></blockquote>\\n<script async src=\"https://platform.twitter.com/widgets.js\" charset=\"utf-8\"></script>\\n')\n",
      "1 Record Updated successfully \n",
      "Table After updating record \n",
      "(1, '1221841391736606720', datetime.datetime(2020, 1, 27, 17, 4, 23, tzinfo=psycopg2.tz.FixedOffsetTimezone(offset=0, name=None)), '@BLRAirport Two terrorists going to serve', 'negative', 1, '<blockquote class=\"twitter-tweet\"><p lang=\"en\" dir=\"ltr\">Two terrorists going to serve terrorist</p>&mdash; Virendra Rawat (@Virendraahd1) <a href=\"https://twitter.com/Virendraahd1/status/1221841391736606720?ref_src=twsrc%5Etfw\">January 27, 2020</a></blockquote>\\n<script async src=\"https://platform.twitter.com/widgets.js\" charset=\"utf-8\"></script>\\n')\n",
      "PostgreSQL connection is closed\n",
      "Table Before updating record \n",
      "(2, '1221840246045839361', datetime.datetime(2020, 1, 27, 16, 59, 50, tzinfo=psycopg2.tz.FixedOffsetTimezone(offset=0, name=None)), 'Bengaluru airport welcomed 33 million pax in 2019 My B L R @BLRAirport', 'negative', 2, '<blockquote class=\"twitter-tweet\"><p lang=\"en\" dir=\"ltr\">Bengaluru airport welcomed 33 million pax in 2019<a href=\"https://twitter.com/hashtag/KempegowdaAirport?src=hash&amp;ref_src=twsrc%5Etfw\">#KempegowdaAirport</a> <a href=\"https://twitter.com/hashtag/Bengaluru?src=hash&amp;ref_src=twsrc%5Etfw\">#Bengaluru</a> <a href=\"https://twitter.com/hashtag/KIAB?src=hash&amp;ref_src=twsrc%5Etfw\">#KIAB</a> <a href=\"https://twitter.com/hashtag/passengers?src=hash&amp;ref_src=twsrc%5Etfw\">#passengers</a> <a href=\"https://twitter.com/hashtag/Indianaviation?src=hash&amp;ref_src=twsrc%5Etfw\">#Indianaviation</a> <a href=\"https://twitter.com/hashtag/Travel?src=hash&amp;ref_src=twsrc%5Etfw\">#Travel</a> <a href=\"https://twitter.com/hashtag/Airport?src=hash&amp;ref_src=twsrc%5Etfw\">#Airport</a> <a href=\"https://twitter.com/hashtag/BengaluruAirport?src=hash&amp;ref_src=twsrc%5Etfw\">#BengaluruAirport</a> <a href=\"https://twitter.com/hashtag/NammaBengaluru?src=hash&amp;ref_src=twsrc%5Etfw\">#NammaBengaluru</a> <a href=\"https://twitter.com/hashtag/TravelTales?src=hash&amp;ref_src=twsrc%5Etfw\">#TravelTales</a> <a href=\"https://twitter.com/hashtag/Journey?src=hash&amp;ref_src=twsrc%5Etfw\">#Journey</a> <a href=\"https://twitter.com/hashtag/BLRairport?src=hash&amp;ref_src=twsrc%5Etfw\">#BLRairport</a> <a href=\"https://twitter.com/hashtag/MyBLR?src=hash&amp;ref_src=twsrc%5Etfw\">#MyBLR</a> <a href=\"https://twitter.com/BLRAirport?ref_src=twsrc%5Etfw\">@BLRAirport</a> <a href=\"https://t.co/t34Tr6tiUF\">https://t.co/t34Tr6tiUF</a></p>&mdash; PenNews (@pennewstweet) <a href=\"https://twitter.com/pennewstweet/status/1221840246045839361?ref_src=twsrc%5Etfw\">January 27, 2020</a></blockquote>\\n<script async src=\"https://platform.twitter.com/widgets.js\" charset=\"utf-8\"></script>\\n')\n",
      "1 Record Updated successfully \n",
      "Table After updating record \n",
      "(2, '1221840246045839361', datetime.datetime(2020, 1, 27, 16, 59, 50, tzinfo=psycopg2.tz.FixedOffsetTimezone(offset=0, name=None)), 'Bengaluru airport welcomed 33 million pax in 2019 My B L R @BLRAirport', 'positive', 2, '<blockquote class=\"twitter-tweet\"><p lang=\"en\" dir=\"ltr\">Bengaluru airport welcomed 33 million pax in 2019<a href=\"https://twitter.com/hashtag/KempegowdaAirport?src=hash&amp;ref_src=twsrc%5Etfw\">#KempegowdaAirport</a> <a href=\"https://twitter.com/hashtag/Bengaluru?src=hash&amp;ref_src=twsrc%5Etfw\">#Bengaluru</a> <a href=\"https://twitter.com/hashtag/KIAB?src=hash&amp;ref_src=twsrc%5Etfw\">#KIAB</a> <a href=\"https://twitter.com/hashtag/passengers?src=hash&amp;ref_src=twsrc%5Etfw\">#passengers</a> <a href=\"https://twitter.com/hashtag/Indianaviation?src=hash&amp;ref_src=twsrc%5Etfw\">#Indianaviation</a> <a href=\"https://twitter.com/hashtag/Travel?src=hash&amp;ref_src=twsrc%5Etfw\">#Travel</a> <a href=\"https://twitter.com/hashtag/Airport?src=hash&amp;ref_src=twsrc%5Etfw\">#Airport</a> <a href=\"https://twitter.com/hashtag/BengaluruAirport?src=hash&amp;ref_src=twsrc%5Etfw\">#BengaluruAirport</a> <a href=\"https://twitter.com/hashtag/NammaBengaluru?src=hash&amp;ref_src=twsrc%5Etfw\">#NammaBengaluru</a> <a href=\"https://twitter.com/hashtag/TravelTales?src=hash&amp;ref_src=twsrc%5Etfw\">#TravelTales</a> <a href=\"https://twitter.com/hashtag/Journey?src=hash&amp;ref_src=twsrc%5Etfw\">#Journey</a> <a href=\"https://twitter.com/hashtag/BLRairport?src=hash&amp;ref_src=twsrc%5Etfw\">#BLRairport</a> <a href=\"https://twitter.com/hashtag/MyBLR?src=hash&amp;ref_src=twsrc%5Etfw\">#MyBLR</a> <a href=\"https://twitter.com/BLRAirport?ref_src=twsrc%5Etfw\">@BLRAirport</a> <a href=\"https://t.co/t34Tr6tiUF\">https://t.co/t34Tr6tiUF</a></p>&mdash; PenNews (@pennewstweet) <a href=\"https://twitter.com/pennewstweet/status/1221840246045839361?ref_src=twsrc%5Etfw\">January 27, 2020</a></blockquote>\\n<script async src=\"https://platform.twitter.com/widgets.js\" charset=\"utf-8\"></script>\\n')\n",
      "PostgreSQL connection is closed\n",
      "Table Before updating record \n",
      "(3, '1221838735014187008', datetime.datetime(2020, 1, 27, 16, 53, 49, tzinfo=psycopg2.tz.FixedOffsetTimezone(offset=0, name=None)), 'To know more such interesting facts, follow the B L Rairport', 'positive', 3, '<blockquote class=\"twitter-tweet\"><p lang=\"en\" dir=\"ltr\">To know more  such interesting facts, follow the <a href=\"https://twitter.com/hashtag/BLRairport?src=hash&amp;ref_src=twsrc%5Etfw\">#BLRairport</a> <a href=\"https://t.co/vMqx700lqi\">pic.twitter.com/vMqx700lqi</a></p>&mdash; BLR Airport (@BLRAirport) <a href=\"https://twitter.com/BLRAirport/status/1211649540576595969?ref_src=twsrc%5Etfw\">December 30, 2019</a></blockquote>\\n<script async src=\"https://platform.twitter.com/widgets.js\" charset=\"utf-8\"></script>\\n')\n",
      "1 Record Updated successfully \n",
      "Table After updating record \n",
      "(3, '1221838735014187008', datetime.datetime(2020, 1, 27, 16, 53, 49, tzinfo=psycopg2.tz.FixedOffsetTimezone(offset=0, name=None)), 'To know more such interesting facts, follow the B L Rairport', 'negative', 3, '<blockquote class=\"twitter-tweet\"><p lang=\"en\" dir=\"ltr\">To know more  such interesting facts, follow the <a href=\"https://twitter.com/hashtag/BLRairport?src=hash&amp;ref_src=twsrc%5Etfw\">#BLRairport</a> <a href=\"https://t.co/vMqx700lqi\">pic.twitter.com/vMqx700lqi</a></p>&mdash; BLR Airport (@BLRAirport) <a href=\"https://twitter.com/BLRAirport/status/1211649540576595969?ref_src=twsrc%5Etfw\">December 30, 2019</a></blockquote>\\n<script async src=\"https://platform.twitter.com/widgets.js\" charset=\"utf-8\"></script>\\n')\n",
      "PostgreSQL connection is closed\n",
      "Table Before updating record \n",
      "(4, '1221838463495917568', datetime.datetime(2020, 1, 27, 16, 52, 45, tzinfo=psycopg2.tz.FixedOffsetTimezone(offset=0, name=None)), '@BLRAirport Excellent Staff Service by Krishna and Radhika at Lounge. Food Service also Good. Thank You for hospitality at Blr', 'positive', 4, '<blockquote class=\"twitter-tweet\"><p lang=\"en\" dir=\"ltr\"><a href=\"https://twitter.com/BLRAirport?ref_src=twsrc%5Etfw\">@BLRAirport</a>  Excellent Staff Service by Krishna and Radhika at Lounge. Food Service also Good. Thank You  for hospitality at Blr Aiprort.</p>&mdash; Jayesh Agarwal (@srisri1956) <a href=\"https://twitter.com/srisri1956/status/1221838463495917568?ref_src=twsrc%5Etfw\">January 27, 2020</a></blockquote>\\n<script async src=\"https://platform.twitter.com/widgets.js\" charset=\"utf-8\"></script>\\n')\n",
      "1 Record Updated successfully \n",
      "Table After updating record \n",
      "(4, '1221838463495917568', datetime.datetime(2020, 1, 27, 16, 52, 45, tzinfo=psycopg2.tz.FixedOffsetTimezone(offset=0, name=None)), '@BLRAirport Excellent Staff Service by Krishna and Radhika at Lounge. Food Service also Good. Thank You for hospitality at Blr', 'positive', 4, '<blockquote class=\"twitter-tweet\"><p lang=\"en\" dir=\"ltr\"><a href=\"https://twitter.com/BLRAirport?ref_src=twsrc%5Etfw\">@BLRAirport</a>  Excellent Staff Service by Krishna and Radhika at Lounge. Food Service also Good. Thank You  for hospitality at Blr Aiprort.</p>&mdash; Jayesh Agarwal (@srisri1956) <a href=\"https://twitter.com/srisri1956/status/1221838463495917568?ref_src=twsrc%5Etfw\">January 27, 2020</a></blockquote>\\n<script async src=\"https://platform.twitter.com/widgets.js\" charset=\"utf-8\"></script>\\n')\n",
      "PostgreSQL connection is closed\n"
     ]
    },
    {
     "name": "stdout",
     "output_type": "stream",
     "text": [
      "Table Before updating record \n",
      "(5, '1221822560121184256', datetime.datetime(2020, 1, 27, 15, 49, 33, tzinfo=psycopg2.tz.FixedOffsetTimezone(offset=0, name=None)), 'Follow the BLR airport for such tasty facts.', 'positive', 5, '<blockquote class=\"twitter-tweet\"><p lang=\"en\" dir=\"ltr\">Follow the BLR airport for such tasty facts. <a href=\"https://t.co/WNaYFvs8yR\">pic.twitter.com/WNaYFvs8yR</a></p>&mdash; BLR Airport (@BLRAirport) <a href=\"https://twitter.com/BLRAirport/status/1212601517343031296?ref_src=twsrc%5Etfw\">January 2, 2020</a></blockquote>\\n<script async src=\"https://platform.twitter.com/widgets.js\" charset=\"utf-8\"></script>\\n')\n",
      "1 Record Updated successfully \n",
      "Table After updating record \n",
      "(5, '1221822560121184256', datetime.datetime(2020, 1, 27, 15, 49, 33, tzinfo=psycopg2.tz.FixedOffsetTimezone(offset=0, name=None)), 'Follow the BLR airport for such tasty facts.', 'negative', 5, '<blockquote class=\"twitter-tweet\"><p lang=\"en\" dir=\"ltr\">Follow the BLR airport for such tasty facts. <a href=\"https://t.co/WNaYFvs8yR\">pic.twitter.com/WNaYFvs8yR</a></p>&mdash; BLR Airport (@BLRAirport) <a href=\"https://twitter.com/BLRAirport/status/1212601517343031296?ref_src=twsrc%5Etfw\">January 2, 2020</a></blockquote>\\n<script async src=\"https://platform.twitter.com/widgets.js\" charset=\"utf-8\"></script>\\n')\n",
      "PostgreSQL connection is closed\n",
      "Table Before updating record \n",
      "(6, '1221819016894799873', datetime.datetime(2020, 1, 27, 15, 35, 28, tzinfo=psycopg2.tz.FixedOffsetTimezone(offset=0, name=None)), '@BLRAirport Hello sar call me', 'negative', 6, '<blockquote class=\"twitter-tweet\"><p lang=\"en\" dir=\"ltr\">Hello sar call me 9334666801</p>&mdash; VIKASH RAVI SHANKAR (@VIKASHRAVISHAN1) <a href=\"https://twitter.com/VIKASHRAVISHAN1/status/1221819016894799873?ref_src=twsrc%5Etfw\">January 27, 2020</a></blockquote>\\n<script async src=\"https://platform.twitter.com/widgets.js\" charset=\"utf-8\"></script>\\n')\n",
      "1 Record Updated successfully \n",
      "Table After updating record \n",
      "(6, '1221819016894799873', datetime.datetime(2020, 1, 27, 15, 35, 28, tzinfo=psycopg2.tz.FixedOffsetTimezone(offset=0, name=None)), '@BLRAirport Hello sar call me', 'negative', 6, '<blockquote class=\"twitter-tweet\"><p lang=\"en\" dir=\"ltr\">Hello sar call me 9334666801</p>&mdash; VIKASH RAVI SHANKAR (@VIKASHRAVISHAN1) <a href=\"https://twitter.com/VIKASHRAVISHAN1/status/1221819016894799873?ref_src=twsrc%5Etfw\">January 27, 2020</a></blockquote>\\n<script async src=\"https://platform.twitter.com/widgets.js\" charset=\"utf-8\"></script>\\n')\n",
      "PostgreSQL connection is closed\n",
      "Table Before updating record \n",
      "(7, '1221811497656913927', datetime.datetime(2020, 1, 27, 15, 5, 35, tzinfo=psycopg2.tz.FixedOffsetTimezone(offset=0, name=None)), 'Bengaluru airport received 33.65 mn fliers in 2019; Singapore, Dubai top destinations @BLRAirport Read:', 'negative', 7, '<blockquote class=\"twitter-tweet\"><p lang=\"en\" dir=\"ltr\">Bengaluru airport received 33.65 mn fliers in 2019; Singapore, Dubai top destinations <a href=\"https://twitter.com/BLRAirport?ref_src=twsrc%5Etfw\">@BLRAirport</a><br><br>Read: <a href=\"https://t.co/idO4uhX7aa\">https://t.co/idO4uhX7aa</a> <a href=\"https://t.co/IMM22mOH0C\">pic.twitter.com/IMM22mOH0C</a></p>&mdash; Darshan Devaiah B P (@DarshanDevaiahB) <a href=\"https://twitter.com/DarshanDevaiahB/status/1221808946328952835?ref_src=twsrc%5Etfw\">January 27, 2020</a></blockquote>\\n<script async src=\"https://platform.twitter.com/widgets.js\" charset=\"utf-8\"></script>\\n')\n",
      "1 Record Updated successfully \n",
      "Table After updating record \n",
      "(7, '1221811497656913927', datetime.datetime(2020, 1, 27, 15, 5, 35, tzinfo=psycopg2.tz.FixedOffsetTimezone(offset=0, name=None)), 'Bengaluru airport received 33.65 mn fliers in 2019; Singapore, Dubai top destinations @BLRAirport Read:', 'positive', 7, '<blockquote class=\"twitter-tweet\"><p lang=\"en\" dir=\"ltr\">Bengaluru airport received 33.65 mn fliers in 2019; Singapore, Dubai top destinations <a href=\"https://twitter.com/BLRAirport?ref_src=twsrc%5Etfw\">@BLRAirport</a><br><br>Read: <a href=\"https://t.co/idO4uhX7aa\">https://t.co/idO4uhX7aa</a> <a href=\"https://t.co/IMM22mOH0C\">pic.twitter.com/IMM22mOH0C</a></p>&mdash; Darshan Devaiah B P (@DarshanDevaiahB) <a href=\"https://twitter.com/DarshanDevaiahB/status/1221808946328952835?ref_src=twsrc%5Etfw\">January 27, 2020</a></blockquote>\\n<script async src=\"https://platform.twitter.com/widgets.js\" charset=\"utf-8\"></script>\\n')\n",
      "PostgreSQL connection is closed\n",
      "Table Before updating record \n",
      "(8, '1221808946328952835', datetime.datetime(2020, 1, 27, 14, 55, 27, tzinfo=psycopg2.tz.FixedOffsetTimezone(offset=0, name=None)), 'Bengaluru airport received 33.65 mn fliers in 2019; Singapore, Dubai top destinations @BLRAirport Read:', 'negative', 8, '<blockquote class=\"twitter-tweet\"><p lang=\"en\" dir=\"ltr\">Bengaluru airport received 33.65 mn fliers in 2019; Singapore, Dubai top destinations <a href=\"https://twitter.com/BLRAirport?ref_src=twsrc%5Etfw\">@BLRAirport</a><br><br>Read: <a href=\"https://t.co/idO4uhX7aa\">https://t.co/idO4uhX7aa</a> <a href=\"https://t.co/IMM22mOH0C\">pic.twitter.com/IMM22mOH0C</a></p>&mdash; Darshan Devaiah B P (@DarshanDevaiahB) <a href=\"https://twitter.com/DarshanDevaiahB/status/1221808946328952835?ref_src=twsrc%5Etfw\">January 27, 2020</a></blockquote>\\n<script async src=\"https://platform.twitter.com/widgets.js\" charset=\"utf-8\"></script>\\n')\n",
      "1 Record Updated successfully \n",
      "Table After updating record \n",
      "(8, '1221808946328952835', datetime.datetime(2020, 1, 27, 14, 55, 27, tzinfo=psycopg2.tz.FixedOffsetTimezone(offset=0, name=None)), 'Bengaluru airport received 33.65 mn fliers in 2019; Singapore, Dubai top destinations @BLRAirport Read:', 'positive', 8, '<blockquote class=\"twitter-tweet\"><p lang=\"en\" dir=\"ltr\">Bengaluru airport received 33.65 mn fliers in 2019; Singapore, Dubai top destinations <a href=\"https://twitter.com/BLRAirport?ref_src=twsrc%5Etfw\">@BLRAirport</a><br><br>Read: <a href=\"https://t.co/idO4uhX7aa\">https://t.co/idO4uhX7aa</a> <a href=\"https://t.co/IMM22mOH0C\">pic.twitter.com/IMM22mOH0C</a></p>&mdash; Darshan Devaiah B P (@DarshanDevaiahB) <a href=\"https://twitter.com/DarshanDevaiahB/status/1221808946328952835?ref_src=twsrc%5Etfw\">January 27, 2020</a></blockquote>\\n<script async src=\"https://platform.twitter.com/widgets.js\" charset=\"utf-8\"></script>\\n')\n",
      "PostgreSQL connection is closed\n",
      "Table Before updating record \n",
      "(10, '1221806405646077952', datetime.datetime(2020, 1, 27, 14, 45, 21, tzinfo=psycopg2.tz.FixedOffsetTimezone(offset=0, name=None)), \"@BLRAviation @khabri_lal @BLRAirport I think it's a matter of time, also feel that they are pre emptying 6e launch potentially as\", 'negative', 9, '<blockquote class=\"twitter-tweet\"><p lang=\"en\" dir=\"ltr\">I think it&#39;s a matter of time, also feel that they are pre emptying 6e launch potentially as well....</p>&mdash; Vikram (@vikramv1) <a href=\"https://twitter.com/vikramv1/status/1221806405646077952?ref_src=twsrc%5Etfw\">January 27, 2020</a></blockquote>\\n<script async src=\"https://platform.twitter.com/widgets.js\" charset=\"utf-8\"></script>\\n')\n",
      "2 Record Updated successfully \n",
      "Table After updating record \n",
      "(10, '1221806405646077952', datetime.datetime(2020, 1, 27, 14, 45, 21, tzinfo=psycopg2.tz.FixedOffsetTimezone(offset=0, name=None)), \"@BLRAviation @khabri_lal @BLRAirport I think it's a matter of time, also feel that they are pre emptying 6e launch potentially as\", 'positive', 9, '<blockquote class=\"twitter-tweet\"><p lang=\"en\" dir=\"ltr\">I think it&#39;s a matter of time, also feel that they are pre emptying 6e launch potentially as well....</p>&mdash; Vikram (@vikramv1) <a href=\"https://twitter.com/vikramv1/status/1221806405646077952?ref_src=twsrc%5Etfw\">January 27, 2020</a></blockquote>\\n<script async src=\"https://platform.twitter.com/widgets.js\" charset=\"utf-8\"></script>\\n')\n",
      "PostgreSQL connection is closed\n",
      "Table Before updating record \n",
      "(10, '1221806405646077952', datetime.datetime(2020, 1, 27, 14, 45, 21, tzinfo=psycopg2.tz.FixedOffsetTimezone(offset=0, name=None)), \"@BLRAviation @khabri_lal @BLRAirport I think it's a matter of time, also feel that they are pre emptying 6e launch potentially as\", 'positive', 9, '<blockquote class=\"twitter-tweet\"><p lang=\"en\" dir=\"ltr\">I think it&#39;s a matter of time, also feel that they are pre emptying 6e launch potentially as well....</p>&mdash; Vikram (@vikramv1) <a href=\"https://twitter.com/vikramv1/status/1221806405646077952?ref_src=twsrc%5Etfw\">January 27, 2020</a></blockquote>\\n<script async src=\"https://platform.twitter.com/widgets.js\" charset=\"utf-8\"></script>\\n')\n"
     ]
    },
    {
     "name": "stdout",
     "output_type": "stream",
     "text": [
      "2 Record Updated successfully \n",
      "Table After updating record \n",
      "(10, '1221806405646077952', datetime.datetime(2020, 1, 27, 14, 45, 21, tzinfo=psycopg2.tz.FixedOffsetTimezone(offset=0, name=None)), \"@BLRAviation @khabri_lal @BLRAirport I think it's a matter of time, also feel that they are pre emptying 6e launch potentially as\", 'positive', 9, '<blockquote class=\"twitter-tweet\"><p lang=\"en\" dir=\"ltr\">I think it&#39;s a matter of time, also feel that they are pre emptying 6e launch potentially as well....</p>&mdash; Vikram (@vikramv1) <a href=\"https://twitter.com/vikramv1/status/1221806405646077952?ref_src=twsrc%5Etfw\">January 27, 2020</a></blockquote>\\n<script async src=\"https://platform.twitter.com/widgets.js\" charset=\"utf-8\"></script>\\n')\n",
      "PostgreSQL connection is closed\n",
      "Table Before updating record \n",
      "(56, '1221843217118826504', datetime.datetime(2020, 1, 27, 17, 11, 38, tzinfo=psycopg2.tz.FixedOffsetTimezone(offset=0, name=None)), 'A Mysterious Discovery on Western Global Airlines via', 'negative', 52, '<blockquote class=\"twitter-tweet\"><p lang=\"en\" dir=\"ltr\">A Mysterious Discovery on Western Global Airlines <a href=\"https://t.co/pwx9uhOTLj\">https://t.co/pwx9uhOTLj</a> via <a href=\"https://twitter.com/YouTube?ref_src=twsrc%5Etfw\">@YouTube</a></p>&mdash; Wilson Pitts (@pluguglyboxing) <a href=\"https://twitter.com/pluguglyboxing/status/1221843217118826504?ref_src=twsrc%5Etfw\">January 27, 2020</a></blockquote>\\n<script async src=\"https://platform.twitter.com/widgets.js\" charset=\"utf-8\"></script>\\n')\n",
      "1 Record Updated successfully \n",
      "Table After updating record \n",
      "(56, '1221843217118826504', datetime.datetime(2020, 1, 27, 17, 11, 38, tzinfo=psycopg2.tz.FixedOffsetTimezone(offset=0, name=None)), 'A Mysterious Discovery on Western Global Airlines via', 'negative', 52, '<blockquote class=\"twitter-tweet\"><p lang=\"en\" dir=\"ltr\">A Mysterious Discovery on Western Global Airlines <a href=\"https://t.co/pwx9uhOTLj\">https://t.co/pwx9uhOTLj</a> via <a href=\"https://twitter.com/YouTube?ref_src=twsrc%5Etfw\">@YouTube</a></p>&mdash; Wilson Pitts (@pluguglyboxing) <a href=\"https://twitter.com/pluguglyboxing/status/1221843217118826504?ref_src=twsrc%5Etfw\">January 27, 2020</a></blockquote>\\n<script async src=\"https://platform.twitter.com/widgets.js\" charset=\"utf-8\"></script>\\n')\n",
      "PostgreSQL connection is closed\n",
      "Table Before updating record \n",
      "(11, '1221840109340770304', datetime.datetime(2020, 1, 27, 16, 59, 17, tzinfo=psycopg2.tz.FixedOffsetTimezone(offset=0, name=None)), 'Kempegowda International Airport (KIA) handled 33.65 million passengers in 2019. International passenger traffic saw 14 % growth &amp; domestic passenger 2.6 % B L R', 'negative', 10, '<blockquote class=\"twitter-tweet\"><p lang=\"en\" dir=\"ltr\">Kempegowda International Airport (KIA) handled 33.65 million passengers in 2019. International passenger traffic saw 14 %  growth &amp; domestic passenger 2.6 % <a href=\"https://twitter.com/hashtag/BengaluruAirport?src=hash&amp;ref_src=twsrc%5Etfw\">#BengaluruAirport</a> <a href=\"https://twitter.com/hashtag/BLR?src=hash&amp;ref_src=twsrc%5Etfw\">#BLR</a> <a href=\"https://t.co/1ULLPBBo22\">pic.twitter.com/1ULLPBBo22</a></p>&mdash; Abhishek Ab (@abhish656) <a href=\"https://twitter.com/abhish656/status/1221840109340770304?ref_src=twsrc%5Etfw\">January 27, 2020</a></blockquote>\\n<script async src=\"https://platform.twitter.com/widgets.js\" charset=\"utf-8\"></script>\\n')\n",
      "1 Record Updated successfully \n",
      "Table After updating record \n",
      "(11, '1221840109340770304', datetime.datetime(2020, 1, 27, 16, 59, 17, tzinfo=psycopg2.tz.FixedOffsetTimezone(offset=0, name=None)), 'Kempegowda International Airport (KIA) handled 33.65 million passengers in 2019. International passenger traffic saw 14 % growth &amp; domestic passenger 2.6 % B L R', 'positive', 10, '<blockquote class=\"twitter-tweet\"><p lang=\"en\" dir=\"ltr\">Kempegowda International Airport (KIA) handled 33.65 million passengers in 2019. International passenger traffic saw 14 %  growth &amp; domestic passenger 2.6 % <a href=\"https://twitter.com/hashtag/BengaluruAirport?src=hash&amp;ref_src=twsrc%5Etfw\">#BengaluruAirport</a> <a href=\"https://twitter.com/hashtag/BLR?src=hash&amp;ref_src=twsrc%5Etfw\">#BLR</a> <a href=\"https://t.co/1ULLPBBo22\">pic.twitter.com/1ULLPBBo22</a></p>&mdash; Abhishek Ab (@abhish656) <a href=\"https://twitter.com/abhish656/status/1221840109340770304?ref_src=twsrc%5Etfw\">January 27, 2020</a></blockquote>\\n<script async src=\"https://platform.twitter.com/widgets.js\" charset=\"utf-8\"></script>\\n')\n",
      "PostgreSQL connection is closed\n",
      "Table Before updating record \n",
      "(12, '1221700588108300293', datetime.datetime(2020, 1, 27, 7, 44, 52, tzinfo=psycopg2.tz.FixedOffsetTimezone(offset=0, name=None)), 'No Coronavirus Threat In Bengaluru; Airport Officials Screen 392 Passengers Video Link Kannada News', 'negative', 11, '<blockquote class=\"twitter-tweet\"><p lang=\"en\" dir=\"ltr\">No Coronavirus Threat In Bengaluru; Airport Officials Screen 392 Passengers<br><br>Video Link ► <a href=\"https://t.co/rTJohjVu7O\">https://t.co/rTJohjVu7O</a><a href=\"https://twitter.com/hashtag/China?src=hash&amp;ref_src=twsrc%5Etfw\">#China</a> <a href=\"https://twitter.com/hashtag/Coronavirus?src=hash&amp;ref_src=twsrc%5Etfw\">#Coronavirus</a> <a href=\"https://twitter.com/hashtag/virusthreat?src=hash&amp;ref_src=twsrc%5Etfw\">#virusthreat</a> <a href=\"https://twitter.com/hashtag/bengaluruairport?src=hash&amp;ref_src=twsrc%5Etfw\">#bengaluruairport</a> <a href=\"https://twitter.com/hashtag/kial?src=hash&amp;ref_src=twsrc%5Etfw\">#kial</a> <a href=\"https://twitter.com/hashtag/TV9Kannada?src=hash&amp;ref_src=twsrc%5Etfw\">#TV9Kannada</a> <a href=\"https://twitter.com/hashtag/KannadaNews?src=hash&amp;ref_src=twsrc%5Etfw\">#KannadaNews</a> <a href=\"https://t.co/0gQbigWdOc\">pic.twitter.com/0gQbigWdOc</a></p>&mdash; TV9 Kannada (@tv9kannada) <a href=\"https://twitter.com/tv9kannada/status/1221700588108300293?ref_src=twsrc%5Etfw\">January 27, 2020</a></blockquote>\\n<script async src=\"https://platform.twitter.com/widgets.js\" charset=\"utf-8\"></script>\\n')\n",
      "1 Record Updated successfully \n",
      "Table After updating record \n",
      "(12, '1221700588108300293', datetime.datetime(2020, 1, 27, 7, 44, 52, tzinfo=psycopg2.tz.FixedOffsetTimezone(offset=0, name=None)), 'No Coronavirus Threat In Bengaluru; Airport Officials Screen 392 Passengers Video Link Kannada News', 'positive', 11, '<blockquote class=\"twitter-tweet\"><p lang=\"en\" dir=\"ltr\">No Coronavirus Threat In Bengaluru; Airport Officials Screen 392 Passengers<br><br>Video Link ► <a href=\"https://t.co/rTJohjVu7O\">https://t.co/rTJohjVu7O</a><a href=\"https://twitter.com/hashtag/China?src=hash&amp;ref_src=twsrc%5Etfw\">#China</a> <a href=\"https://twitter.com/hashtag/Coronavirus?src=hash&amp;ref_src=twsrc%5Etfw\">#Coronavirus</a> <a href=\"https://twitter.com/hashtag/virusthreat?src=hash&amp;ref_src=twsrc%5Etfw\">#virusthreat</a> <a href=\"https://twitter.com/hashtag/bengaluruairport?src=hash&amp;ref_src=twsrc%5Etfw\">#bengaluruairport</a> <a href=\"https://twitter.com/hashtag/kial?src=hash&amp;ref_src=twsrc%5Etfw\">#kial</a> <a href=\"https://twitter.com/hashtag/TV9Kannada?src=hash&amp;ref_src=twsrc%5Etfw\">#TV9Kannada</a> <a href=\"https://twitter.com/hashtag/KannadaNews?src=hash&amp;ref_src=twsrc%5Etfw\">#KannadaNews</a> <a href=\"https://t.co/0gQbigWdOc\">pic.twitter.com/0gQbigWdOc</a></p>&mdash; TV9 Kannada (@tv9kannada) <a href=\"https://twitter.com/tv9kannada/status/1221700588108300293?ref_src=twsrc%5Etfw\">January 27, 2020</a></blockquote>\\n<script async src=\"https://platform.twitter.com/widgets.js\" charset=\"utf-8\"></script>\\n')\n",
      "PostgreSQL connection is closed\n",
      "Table Before updating record \n",
      "(14, '1221678985408417792', datetime.datetime(2020, 1, 27, 6, 19, 2, tzinfo=psycopg2.tz.FixedOffsetTimezone(offset=0, name=None)), \"iTWEET:On a busy day, Bengaluru Airport is all about Stress Relief! As you stand in the long queues to enter &amp; as you stand in longer &amp; slower queues to pass through security, it's S T R E S S! And once through: K I A L @BLRAirport\", 'negative', 12, '<blockquote class=\"twitter-tweet\"><p lang=\"en\" dir=\"ltr\">iTWEET:On a busy day, <a href=\"https://twitter.com/hashtag/BengaluruAirport?src=hash&amp;ref_src=twsrc%5Etfw\">#BengaluruAirport</a> is all about <a href=\"https://twitter.com/hashtag/StressRelief?src=hash&amp;ref_src=twsrc%5Etfw\">#StressRelief</a>! As you stand in the long queues to enter &amp; as you stand in longer &amp; slower queues to pass through security, it&#39;s <a href=\"https://twitter.com/hashtag/STRESS?src=hash&amp;ref_src=twsrc%5Etfw\">#STRESS</a>! And once through: <a href=\"https://twitter.com/hashtag/RELIEF?src=hash&amp;ref_src=twsrc%5Etfw\">#RELIEF</a>! <a href=\"https://twitter.com/hashtag/Bengaluru?src=hash&amp;ref_src=twsrc%5Etfw\">#Bengaluru</a> <a href=\"https://twitter.com/hashtag/KIAL?src=hash&amp;ref_src=twsrc%5Etfw\">#KIAL</a> <a href=\"https://twitter.com/BLRAirport?ref_src=twsrc%5Etfw\">@BLRAirport</a> <a href=\"https://twitter.com/hashtag/India?src=hash&amp;ref_src=twsrc%5Etfw\">#India</a></p>&mdash; Harish Bijoor (@harishbijoor) <a href=\"https://twitter.com/harishbijoor/status/1221632765654982658?ref_src=twsrc%5Etfw\">January 27, 2020</a></blockquote>\\n<script async src=\"https://platform.twitter.com/widgets.js\" charset=\"utf-8\"></script>\\n')\n"
     ]
    },
    {
     "name": "stdout",
     "output_type": "stream",
     "text": [
      "2 Record Updated successfully \n",
      "Table After updating record \n",
      "(14, '1221678985408417792', datetime.datetime(2020, 1, 27, 6, 19, 2, tzinfo=psycopg2.tz.FixedOffsetTimezone(offset=0, name=None)), \"iTWEET:On a busy day, Bengaluru Airport is all about Stress Relief! As you stand in the long queues to enter &amp; as you stand in longer &amp; slower queues to pass through security, it's S T R E S S! And once through: K I A L @BLRAirport\", 'positive', 12, '<blockquote class=\"twitter-tweet\"><p lang=\"en\" dir=\"ltr\">iTWEET:On a busy day, <a href=\"https://twitter.com/hashtag/BengaluruAirport?src=hash&amp;ref_src=twsrc%5Etfw\">#BengaluruAirport</a> is all about <a href=\"https://twitter.com/hashtag/StressRelief?src=hash&amp;ref_src=twsrc%5Etfw\">#StressRelief</a>! As you stand in the long queues to enter &amp; as you stand in longer &amp; slower queues to pass through security, it&#39;s <a href=\"https://twitter.com/hashtag/STRESS?src=hash&amp;ref_src=twsrc%5Etfw\">#STRESS</a>! And once through: <a href=\"https://twitter.com/hashtag/RELIEF?src=hash&amp;ref_src=twsrc%5Etfw\">#RELIEF</a>! <a href=\"https://twitter.com/hashtag/Bengaluru?src=hash&amp;ref_src=twsrc%5Etfw\">#Bengaluru</a> <a href=\"https://twitter.com/hashtag/KIAL?src=hash&amp;ref_src=twsrc%5Etfw\">#KIAL</a> <a href=\"https://twitter.com/BLRAirport?ref_src=twsrc%5Etfw\">@BLRAirport</a> <a href=\"https://twitter.com/hashtag/India?src=hash&amp;ref_src=twsrc%5Etfw\">#India</a></p>&mdash; Harish Bijoor (@harishbijoor) <a href=\"https://twitter.com/harishbijoor/status/1221632765654982658?ref_src=twsrc%5Etfw\">January 27, 2020</a></blockquote>\\n<script async src=\"https://platform.twitter.com/widgets.js\" charset=\"utf-8\"></script>\\n')\n",
      "PostgreSQL connection is closed\n",
      "Table Before updating record \n",
      "(14, '1221678985408417792', datetime.datetime(2020, 1, 27, 6, 19, 2, tzinfo=psycopg2.tz.FixedOffsetTimezone(offset=0, name=None)), \"iTWEET:On a busy day, Bengaluru Airport is all about Stress Relief! As you stand in the long queues to enter &amp; as you stand in longer &amp; slower queues to pass through security, it's S T R E S S! And once through: K I A L @BLRAirport\", 'positive', 12, '<blockquote class=\"twitter-tweet\"><p lang=\"en\" dir=\"ltr\">iTWEET:On a busy day, <a href=\"https://twitter.com/hashtag/BengaluruAirport?src=hash&amp;ref_src=twsrc%5Etfw\">#BengaluruAirport</a> is all about <a href=\"https://twitter.com/hashtag/StressRelief?src=hash&amp;ref_src=twsrc%5Etfw\">#StressRelief</a>! As you stand in the long queues to enter &amp; as you stand in longer &amp; slower queues to pass through security, it&#39;s <a href=\"https://twitter.com/hashtag/STRESS?src=hash&amp;ref_src=twsrc%5Etfw\">#STRESS</a>! And once through: <a href=\"https://twitter.com/hashtag/RELIEF?src=hash&amp;ref_src=twsrc%5Etfw\">#RELIEF</a>! <a href=\"https://twitter.com/hashtag/Bengaluru?src=hash&amp;ref_src=twsrc%5Etfw\">#Bengaluru</a> <a href=\"https://twitter.com/hashtag/KIAL?src=hash&amp;ref_src=twsrc%5Etfw\">#KIAL</a> <a href=\"https://twitter.com/BLRAirport?ref_src=twsrc%5Etfw\">@BLRAirport</a> <a href=\"https://twitter.com/hashtag/India?src=hash&amp;ref_src=twsrc%5Etfw\">#India</a></p>&mdash; Harish Bijoor (@harishbijoor) <a href=\"https://twitter.com/harishbijoor/status/1221632765654982658?ref_src=twsrc%5Etfw\">January 27, 2020</a></blockquote>\\n<script async src=\"https://platform.twitter.com/widgets.js\" charset=\"utf-8\"></script>\\n')\n",
      "2 Record Updated successfully \n",
      "Table After updating record \n",
      "(14, '1221678985408417792', datetime.datetime(2020, 1, 27, 6, 19, 2, tzinfo=psycopg2.tz.FixedOffsetTimezone(offset=0, name=None)), \"iTWEET:On a busy day, Bengaluru Airport is all about Stress Relief! As you stand in the long queues to enter &amp; as you stand in longer &amp; slower queues to pass through security, it's S T R E S S! And once through: K I A L @BLRAirport\", 'negative', 12, '<blockquote class=\"twitter-tweet\"><p lang=\"en\" dir=\"ltr\">iTWEET:On a busy day, <a href=\"https://twitter.com/hashtag/BengaluruAirport?src=hash&amp;ref_src=twsrc%5Etfw\">#BengaluruAirport</a> is all about <a href=\"https://twitter.com/hashtag/StressRelief?src=hash&amp;ref_src=twsrc%5Etfw\">#StressRelief</a>! As you stand in the long queues to enter &amp; as you stand in longer &amp; slower queues to pass through security, it&#39;s <a href=\"https://twitter.com/hashtag/STRESS?src=hash&amp;ref_src=twsrc%5Etfw\">#STRESS</a>! And once through: <a href=\"https://twitter.com/hashtag/RELIEF?src=hash&amp;ref_src=twsrc%5Etfw\">#RELIEF</a>! <a href=\"https://twitter.com/hashtag/Bengaluru?src=hash&amp;ref_src=twsrc%5Etfw\">#Bengaluru</a> <a href=\"https://twitter.com/hashtag/KIAL?src=hash&amp;ref_src=twsrc%5Etfw\">#KIAL</a> <a href=\"https://twitter.com/BLRAirport?ref_src=twsrc%5Etfw\">@BLRAirport</a> <a href=\"https://twitter.com/hashtag/India?src=hash&amp;ref_src=twsrc%5Etfw\">#India</a></p>&mdash; Harish Bijoor (@harishbijoor) <a href=\"https://twitter.com/harishbijoor/status/1221632765654982658?ref_src=twsrc%5Etfw\">January 27, 2020</a></blockquote>\\n<script async src=\"https://platform.twitter.com/widgets.js\" charset=\"utf-8\"></script>\\n')\n",
      "PostgreSQL connection is closed\n",
      "Table Before updating record \n",
      "(15, '1221672745856950273', datetime.datetime(2020, 1, 27, 5, 54, 14, tzinfo=psycopg2.tz.FixedOffsetTimezone(offset=0, name=None)), \"Celebrating 71 years of enabling the right to choose! What's one freedom of choice that you enjoy exercising? . . . Happy Republic Day2020\", 'negative', 13, '<blockquote class=\"twitter-tweet\"><p lang=\"en\" dir=\"ltr\">Celebrating 71 years of enabling the right to choose!<br>What&#39;s one freedom of choice that you enjoy exercising?<br>.<br>.<br>.<a href=\"https://twitter.com/hashtag/RepublicDay?src=hash&amp;ref_src=twsrc%5Etfw\">#RepublicDay</a> <a href=\"https://twitter.com/hashtag/MyBLR?src=hash&amp;ref_src=twsrc%5Etfw\">#MyBLR</a> <a href=\"https://twitter.com/hashtag/BLRairport?src=hash&amp;ref_src=twsrc%5Etfw\">#BLRairport</a> <a href=\"https://twitter.com/hashtag/Bengaluru?src=hash&amp;ref_src=twsrc%5Etfw\">#Bengaluru</a> <a href=\"https://twitter.com/hashtag/Airport?src=hash&amp;ref_src=twsrc%5Etfw\">#Airport</a> <a href=\"https://twitter.com/hashtag/BengaluruAirport?src=hash&amp;ref_src=twsrc%5Etfw\">#BengaluruAirport</a> <a href=\"https://twitter.com/hashtag/NammaBengaluru?src=hash&amp;ref_src=twsrc%5Etfw\">#NammaBengaluru</a> <a href=\"https://twitter.com/hashtag/Travel?src=hash&amp;ref_src=twsrc%5Etfw\">#Travel</a> <a href=\"https://twitter.com/hashtag/India?src=hash&amp;ref_src=twsrc%5Etfw\">#India</a> <a href=\"https://twitter.com/hashtag/IndianAirport?src=hash&amp;ref_src=twsrc%5Etfw\">#IndianAirport</a> <a href=\"https://twitter.com/hashtag/RepublicDay2020?src=hash&amp;ref_src=twsrc%5Etfw\">#RepublicDay2020</a> <a href=\"https://twitter.com/hashtag/HappyRepublicDay2020?src=hash&amp;ref_src=twsrc%5Etfw\">#HappyRepublicDay2020</a> <a href=\"https://t.co/xOTorIspdB\">pic.twitter.com/xOTorIspdB</a></p>&mdash; BLR Airport (@BLRAirport) <a href=\"https://twitter.com/BLRAirport/status/1221306415647612928?ref_src=twsrc%5Etfw\">January 26, 2020</a></blockquote>\\n<script async src=\"https://platform.twitter.com/widgets.js\" charset=\"utf-8\"></script>\\n')\n",
      "1 Record Updated successfully \n",
      "Table After updating record \n",
      "(15, '1221672745856950273', datetime.datetime(2020, 1, 27, 5, 54, 14, tzinfo=psycopg2.tz.FixedOffsetTimezone(offset=0, name=None)), \"Celebrating 71 years of enabling the right to choose! What's one freedom of choice that you enjoy exercising? . . . Happy Republic Day2020\", 'positive', 13, '<blockquote class=\"twitter-tweet\"><p lang=\"en\" dir=\"ltr\">Celebrating 71 years of enabling the right to choose!<br>What&#39;s one freedom of choice that you enjoy exercising?<br>.<br>.<br>.<a href=\"https://twitter.com/hashtag/RepublicDay?src=hash&amp;ref_src=twsrc%5Etfw\">#RepublicDay</a> <a href=\"https://twitter.com/hashtag/MyBLR?src=hash&amp;ref_src=twsrc%5Etfw\">#MyBLR</a> <a href=\"https://twitter.com/hashtag/BLRairport?src=hash&amp;ref_src=twsrc%5Etfw\">#BLRairport</a> <a href=\"https://twitter.com/hashtag/Bengaluru?src=hash&amp;ref_src=twsrc%5Etfw\">#Bengaluru</a> <a href=\"https://twitter.com/hashtag/Airport?src=hash&amp;ref_src=twsrc%5Etfw\">#Airport</a> <a href=\"https://twitter.com/hashtag/BengaluruAirport?src=hash&amp;ref_src=twsrc%5Etfw\">#BengaluruAirport</a> <a href=\"https://twitter.com/hashtag/NammaBengaluru?src=hash&amp;ref_src=twsrc%5Etfw\">#NammaBengaluru</a> <a href=\"https://twitter.com/hashtag/Travel?src=hash&amp;ref_src=twsrc%5Etfw\">#Travel</a> <a href=\"https://twitter.com/hashtag/India?src=hash&amp;ref_src=twsrc%5Etfw\">#India</a> <a href=\"https://twitter.com/hashtag/IndianAirport?src=hash&amp;ref_src=twsrc%5Etfw\">#IndianAirport</a> <a href=\"https://twitter.com/hashtag/RepublicDay2020?src=hash&amp;ref_src=twsrc%5Etfw\">#RepublicDay2020</a> <a href=\"https://twitter.com/hashtag/HappyRepublicDay2020?src=hash&amp;ref_src=twsrc%5Etfw\">#HappyRepublicDay2020</a> <a href=\"https://t.co/xOTorIspdB\">pic.twitter.com/xOTorIspdB</a></p>&mdash; BLR Airport (@BLRAirport) <a href=\"https://twitter.com/BLRAirport/status/1221306415647612928?ref_src=twsrc%5Etfw\">January 26, 2020</a></blockquote>\\n<script async src=\"https://platform.twitter.com/widgets.js\" charset=\"utf-8\"></script>\\n')\n",
      "PostgreSQL connection is closed\n"
     ]
    },
    {
     "name": "stdout",
     "output_type": "stream",
     "text": [
      "Table Before updating record \n",
      "(23, '1221843000109731841', datetime.datetime(2020, 1, 27, 17, 10, 46, tzinfo=psycopg2.tz.FixedOffsetTimezone(offset=0, name=None)), '@reedahkh Ai until it kills like 100 before they will start running upandan. Even at that some selfish men will be finding contract of supply at the ministry. This is a very serious issue that needs urgent attention at our airports to be', 'negative', 20, '<blockquote class=\"twitter-tweet\"><p lang=\"en\" dir=\"ltr\">Ai until it kills like 100 before they will start running upandan. Even at that some selfish men will be finding contract of supply at the ministry. This is a very serious issue that needs urgent attention at our airports to be precise</p>&mdash; Muhammed Tijjani (@MuhammedTijjan7) <a href=\"https://twitter.com/MuhammedTijjan7/status/1221843000109731841?ref_src=twsrc%5Etfw\">January 27, 2020</a></blockquote>\\n<script async src=\"https://platform.twitter.com/widgets.js\" charset=\"utf-8\"></script>\\n')\n",
      "1 Record Updated successfully \n",
      "Table After updating record \n",
      "(23, '1221843000109731841', datetime.datetime(2020, 1, 27, 17, 10, 46, tzinfo=psycopg2.tz.FixedOffsetTimezone(offset=0, name=None)), '@reedahkh Ai until it kills like 100 before they will start running upandan. Even at that some selfish men will be finding contract of supply at the ministry. This is a very serious issue that needs urgent attention at our airports to be', 'negative', 20, '<blockquote class=\"twitter-tweet\"><p lang=\"en\" dir=\"ltr\">Ai until it kills like 100 before they will start running upandan. Even at that some selfish men will be finding contract of supply at the ministry. This is a very serious issue that needs urgent attention at our airports to be precise</p>&mdash; Muhammed Tijjani (@MuhammedTijjan7) <a href=\"https://twitter.com/MuhammedTijjan7/status/1221843000109731841?ref_src=twsrc%5Etfw\">January 27, 2020</a></blockquote>\\n<script async src=\"https://platform.twitter.com/widgets.js\" charset=\"utf-8\"></script>\\n')\n",
      "PostgreSQL connection is closed\n",
      "Table Before updating record \n",
      "(17, '1221632765654982658', datetime.datetime(2020, 1, 27, 3, 15, 22, tzinfo=psycopg2.tz.FixedOffsetTimezone(offset=0, name=None)), \"iTWEET:On a busy day, Bengaluru Airport is all about Stress Relief! As you stand in the long queues to enter &amp; as you stand in longer &amp; slower queues to pass through security, it's S T R E S S! And once through: K I A L @BLRAirport\", 'negative', 14, '<blockquote class=\"twitter-tweet\"><p lang=\"en\" dir=\"ltr\">iTWEET:On a busy day, <a href=\"https://twitter.com/hashtag/BengaluruAirport?src=hash&amp;ref_src=twsrc%5Etfw\">#BengaluruAirport</a> is all about <a href=\"https://twitter.com/hashtag/StressRelief?src=hash&amp;ref_src=twsrc%5Etfw\">#StressRelief</a>! As you stand in the long queues to enter &amp; as you stand in longer &amp; slower queues to pass through security, it&#39;s <a href=\"https://twitter.com/hashtag/STRESS?src=hash&amp;ref_src=twsrc%5Etfw\">#STRESS</a>! And once through: <a href=\"https://twitter.com/hashtag/RELIEF?src=hash&amp;ref_src=twsrc%5Etfw\">#RELIEF</a>! <a href=\"https://twitter.com/hashtag/Bengaluru?src=hash&amp;ref_src=twsrc%5Etfw\">#Bengaluru</a> <a href=\"https://twitter.com/hashtag/KIAL?src=hash&amp;ref_src=twsrc%5Etfw\">#KIAL</a> <a href=\"https://twitter.com/BLRAirport?ref_src=twsrc%5Etfw\">@BLRAirport</a> <a href=\"https://twitter.com/hashtag/India?src=hash&amp;ref_src=twsrc%5Etfw\">#India</a></p>&mdash; Harish Bijoor (@harishbijoor) <a href=\"https://twitter.com/harishbijoor/status/1221632765654982658?ref_src=twsrc%5Etfw\">January 27, 2020</a></blockquote>\\n<script async src=\"https://platform.twitter.com/widgets.js\" charset=\"utf-8\"></script>\\n')\n",
      "2 Record Updated successfully \n",
      "Table After updating record \n",
      "(16, '1221633943449088000', datetime.datetime(2020, 1, 27, 3, 20, 3, tzinfo=psycopg2.tz.FixedOffsetTimezone(offset=0, name=None)), 'iTWEET:Overheard at Bengaluru Airport! Stressed-out queue-assistant to stressed-out lady passenger in a hurry: \"I can\\'t help you! You have to catch the flight! The flight will not catch you\"! How true! But how rude as well!#KIAL Bengaluru', 'positive', 14, '<blockquote class=\"twitter-tweet\"><p lang=\"en\" dir=\"ltr\">iTWEET:Overheard at <a href=\"https://twitter.com/hashtag/BengaluruAirport?src=hash&amp;ref_src=twsrc%5Etfw\">#BengaluruAirport</a>! Stressed-out queue-assistant to stressed-out lady passenger in a hurry: &quot;I can&#39;t help you! You have to catch the flight! The flight will not catch you&quot;! How true! But how rude as well!<a href=\"https://twitter.com/hashtag/KIAL?src=hash&amp;ref_src=twsrc%5Etfw\">#KIAL</a> <a href=\"https://twitter.com/hashtag/Bengaluru?src=hash&amp;ref_src=twsrc%5Etfw\">#Bengaluru</a> <a href=\"https://twitter.com/BLRAirport?ref_src=twsrc%5Etfw\">@BLRAirport</a></p>&mdash; Harish Bijoor (@harishbijoor) <a href=\"https://twitter.com/harishbijoor/status/1221633943449088000?ref_src=twsrc%5Etfw\">January 27, 2020</a></blockquote>\\n<script async src=\"https://platform.twitter.com/widgets.js\" charset=\"utf-8\"></script>\\n')\n",
      "PostgreSQL connection is closed\n",
      "Table Before updating record \n",
      "(16, '1221633943449088000', datetime.datetime(2020, 1, 27, 3, 20, 3, tzinfo=psycopg2.tz.FixedOffsetTimezone(offset=0, name=None)), 'iTWEET:Overheard at Bengaluru Airport! Stressed-out queue-assistant to stressed-out lady passenger in a hurry: \"I can\\'t help you! You have to catch the flight! The flight will not catch you\"! How true! But how rude as well!#KIAL Bengaluru', 'positive', 14, '<blockquote class=\"twitter-tweet\"><p lang=\"en\" dir=\"ltr\">iTWEET:Overheard at <a href=\"https://twitter.com/hashtag/BengaluruAirport?src=hash&amp;ref_src=twsrc%5Etfw\">#BengaluruAirport</a>! Stressed-out queue-assistant to stressed-out lady passenger in a hurry: &quot;I can&#39;t help you! You have to catch the flight! The flight will not catch you&quot;! How true! But how rude as well!<a href=\"https://twitter.com/hashtag/KIAL?src=hash&amp;ref_src=twsrc%5Etfw\">#KIAL</a> <a href=\"https://twitter.com/hashtag/Bengaluru?src=hash&amp;ref_src=twsrc%5Etfw\">#Bengaluru</a> <a href=\"https://twitter.com/BLRAirport?ref_src=twsrc%5Etfw\">@BLRAirport</a></p>&mdash; Harish Bijoor (@harishbijoor) <a href=\"https://twitter.com/harishbijoor/status/1221633943449088000?ref_src=twsrc%5Etfw\">January 27, 2020</a></blockquote>\\n<script async src=\"https://platform.twitter.com/widgets.js\" charset=\"utf-8\"></script>\\n')\n",
      "2 Record Updated successfully \n",
      "Table After updating record \n",
      "(16, '1221633943449088000', datetime.datetime(2020, 1, 27, 3, 20, 3, tzinfo=psycopg2.tz.FixedOffsetTimezone(offset=0, name=None)), 'iTWEET:Overheard at Bengaluru Airport! Stressed-out queue-assistant to stressed-out lady passenger in a hurry: \"I can\\'t help you! You have to catch the flight! The flight will not catch you\"! How true! But how rude as well!#KIAL Bengaluru', 'negative', 14, '<blockquote class=\"twitter-tweet\"><p lang=\"en\" dir=\"ltr\">iTWEET:Overheard at <a href=\"https://twitter.com/hashtag/BengaluruAirport?src=hash&amp;ref_src=twsrc%5Etfw\">#BengaluruAirport</a>! Stressed-out queue-assistant to stressed-out lady passenger in a hurry: &quot;I can&#39;t help you! You have to catch the flight! The flight will not catch you&quot;! How true! But how rude as well!<a href=\"https://twitter.com/hashtag/KIAL?src=hash&amp;ref_src=twsrc%5Etfw\">#KIAL</a> <a href=\"https://twitter.com/hashtag/Bengaluru?src=hash&amp;ref_src=twsrc%5Etfw\">#Bengaluru</a> <a href=\"https://twitter.com/BLRAirport?ref_src=twsrc%5Etfw\">@BLRAirport</a></p>&mdash; Harish Bijoor (@harishbijoor) <a href=\"https://twitter.com/harishbijoor/status/1221633943449088000?ref_src=twsrc%5Etfw\">January 27, 2020</a></blockquote>\\n<script async src=\"https://platform.twitter.com/widgets.js\" charset=\"utf-8\"></script>\\n')\n",
      "PostgreSQL connection is closed\n",
      "Table Before updating record \n",
      "(18, '1221469398055170054', datetime.datetime(2020, 1, 26, 16, 26, 12, tzinfo=psycopg2.tz.FixedOffsetTimezone(offset=0, name=None)), 'Coronavirus outbreak in China what it means for Europe W H O @WHO Europe', 'negative', 15, '<blockquote class=\"twitter-tweet\"><p lang=\"en\" dir=\"ltr\">Coronavirus outbreak in China – what it means for Europe<a href=\"https://twitter.com/hashtag/coronarovirus?src=hash&amp;ref_src=twsrc%5Etfw\">#coronarovirus</a> <a href=\"https://twitter.com/hashtag/CoronaOutbreak?src=hash&amp;ref_src=twsrc%5Etfw\">#CoronaOutbreak</a> <a href=\"https://twitter.com/hashtag/coronavirus?src=hash&amp;ref_src=twsrc%5Etfw\">#coronavirus</a> <a href=\"https://twitter.com/hashtag/CoronavirusOutbreak?src=hash&amp;ref_src=twsrc%5Etfw\">#CoronavirusOutbreak</a> <a href=\"https://twitter.com/hashtag/ChinaVirus?src=hash&amp;ref_src=twsrc%5Etfw\">#ChinaVirus</a> <a href=\"https://twitter.com/hashtag/WuhanCoronavirus?src=hash&amp;ref_src=twsrc%5Etfw\">#WuhanCoronavirus</a> <a href=\"https://twitter.com/hashtag/screeningmechanism?src=hash&amp;ref_src=twsrc%5Etfw\">#screeningmechanism</a> <a href=\"https://twitter.com/hashtag/prevention?src=hash&amp;ref_src=twsrc%5Etfw\">#prevention</a> <a href=\"https://twitter.com/hashtag/Bengaluruairport?src=hash&amp;ref_src=twsrc%5Etfw\">#Bengaluruairport</a> <a href=\"https://twitter.com/hashtag/WHO?src=hash&amp;ref_src=twsrc%5Etfw\">#WHO</a> <a href=\"https://twitter.com/WHO?ref_src=twsrc%5Etfw\">@WHO</a> <a href=\"https://twitter.com/hashtag/VirusCorona?src=hash&amp;ref_src=twsrc%5Etfw\">#VirusCorona</a> <a href=\"https://twitter.com/hashtag/VirusChina?src=hash&amp;ref_src=twsrc%5Etfw\">#VirusChina</a> <a href=\"https://twitter.com/hashtag/Europe?src=hash&amp;ref_src=twsrc%5Etfw\">#Europe</a><a href=\"https://t.co/N84SewC6TH\">https://t.co/N84SewC6TH</a></p>&mdash; PenNews (@pennewstweet) <a href=\"https://twitter.com/pennewstweet/status/1221468537476173825?ref_src=twsrc%5Etfw\">January 26, 2020</a></blockquote>\\n<script async src=\"https://platform.twitter.com/widgets.js\" charset=\"utf-8\"></script>\\n')\n"
     ]
    },
    {
     "name": "stdout",
     "output_type": "stream",
     "text": [
      "1 Record Updated successfully \n",
      "Table After updating record \n",
      "(18, '1221469398055170054', datetime.datetime(2020, 1, 26, 16, 26, 12, tzinfo=psycopg2.tz.FixedOffsetTimezone(offset=0, name=None)), 'Coronavirus outbreak in China what it means for Europe W H O @WHO Europe', 'positive', 15, '<blockquote class=\"twitter-tweet\"><p lang=\"en\" dir=\"ltr\">Coronavirus outbreak in China – what it means for Europe<a href=\"https://twitter.com/hashtag/coronarovirus?src=hash&amp;ref_src=twsrc%5Etfw\">#coronarovirus</a> <a href=\"https://twitter.com/hashtag/CoronaOutbreak?src=hash&amp;ref_src=twsrc%5Etfw\">#CoronaOutbreak</a> <a href=\"https://twitter.com/hashtag/coronavirus?src=hash&amp;ref_src=twsrc%5Etfw\">#coronavirus</a> <a href=\"https://twitter.com/hashtag/CoronavirusOutbreak?src=hash&amp;ref_src=twsrc%5Etfw\">#CoronavirusOutbreak</a> <a href=\"https://twitter.com/hashtag/ChinaVirus?src=hash&amp;ref_src=twsrc%5Etfw\">#ChinaVirus</a> <a href=\"https://twitter.com/hashtag/WuhanCoronavirus?src=hash&amp;ref_src=twsrc%5Etfw\">#WuhanCoronavirus</a> <a href=\"https://twitter.com/hashtag/screeningmechanism?src=hash&amp;ref_src=twsrc%5Etfw\">#screeningmechanism</a> <a href=\"https://twitter.com/hashtag/prevention?src=hash&amp;ref_src=twsrc%5Etfw\">#prevention</a> <a href=\"https://twitter.com/hashtag/Bengaluruairport?src=hash&amp;ref_src=twsrc%5Etfw\">#Bengaluruairport</a> <a href=\"https://twitter.com/hashtag/WHO?src=hash&amp;ref_src=twsrc%5Etfw\">#WHO</a> <a href=\"https://twitter.com/WHO?ref_src=twsrc%5Etfw\">@WHO</a> <a href=\"https://twitter.com/hashtag/VirusCorona?src=hash&amp;ref_src=twsrc%5Etfw\">#VirusCorona</a> <a href=\"https://twitter.com/hashtag/VirusChina?src=hash&amp;ref_src=twsrc%5Etfw\">#VirusChina</a> <a href=\"https://twitter.com/hashtag/Europe?src=hash&amp;ref_src=twsrc%5Etfw\">#Europe</a><a href=\"https://t.co/N84SewC6TH\">https://t.co/N84SewC6TH</a></p>&mdash; PenNews (@pennewstweet) <a href=\"https://twitter.com/pennewstweet/status/1221468537476173825?ref_src=twsrc%5Etfw\">January 26, 2020</a></blockquote>\\n<script async src=\"https://platform.twitter.com/widgets.js\" charset=\"utf-8\"></script>\\n')\n",
      "PostgreSQL connection is closed\n",
      "Table Before updating record \n",
      "(19, '1221843107165167618', datetime.datetime(2020, 1, 27, 17, 11, 12, tzinfo=psycopg2.tz.FixedOffsetTimezone(offset=0, name=None)), '@KyCocaineBear @Acosta Does anyone have any sense of why CNN is still watched voluntarily (excepting airports, where you are', 'negative', 16, '<blockquote class=\"twitter-tweet\"><p lang=\"en\" dir=\"ltr\">Does anyone have any sense of why CNN is still watched voluntarily (excepting airports, where you are trapped)?</p>&mdash; Matthew A Newgarden (@a_newgarden) <a href=\"https://twitter.com/a_newgarden/status/1221843107165167618?ref_src=twsrc%5Etfw\">January 27, 2020</a></blockquote>\\n<script async src=\"https://platform.twitter.com/widgets.js\" charset=\"utf-8\"></script>\\n')\n",
      "1 Record Updated successfully \n",
      "Table After updating record \n",
      "(19, '1221843107165167618', datetime.datetime(2020, 1, 27, 17, 11, 12, tzinfo=psycopg2.tz.FixedOffsetTimezone(offset=0, name=None)), '@KyCocaineBear @Acosta Does anyone have any sense of why CNN is still watched voluntarily (excepting airports, where you are', 'negative', 16, '<blockquote class=\"twitter-tweet\"><p lang=\"en\" dir=\"ltr\">Does anyone have any sense of why CNN is still watched voluntarily (excepting airports, where you are trapped)?</p>&mdash; Matthew A Newgarden (@a_newgarden) <a href=\"https://twitter.com/a_newgarden/status/1221843107165167618?ref_src=twsrc%5Etfw\">January 27, 2020</a></blockquote>\\n<script async src=\"https://platform.twitter.com/widgets.js\" charset=\"utf-8\"></script>\\n')\n",
      "PostgreSQL connection is closed\n",
      "Table Before updating record \n",
      "(30, '1221843209686409216', datetime.datetime(2020, 1, 27, 17, 11, 36, tzinfo=psycopg2.tz.FixedOffsetTimezone(offset=0, name=None)), \"But also--since we're talking about international space, guess which airport is a major regional transportation hub (answer: Taoyuan) &amp; aviation authorities in Taiwan ALSO don't have a seat at the table? Any coordination between @icao &amp; the @WHO should include Taiwan's input.\", 'negative', 17, '<blockquote class=\"twitter-tweet\"><p lang=\"en\" dir=\"ltr\">But also--since we&#39;re talking about international space, guess which airport is a major regional transportation hub (answer: Taoyuan) &amp; aviation authorities in Taiwan ALSO don&#39;t have a seat at the table? Any coordination between <a href=\"https://twitter.com/icao?ref_src=twsrc%5Etfw\">@icao</a> &amp; the <a href=\"https://twitter.com/WHO?ref_src=twsrc%5Etfw\">@WHO</a> should include Taiwan&#39;s input. 2/</p>&mdash; Jessica Drun (@jessicadrun) <a href=\"https://twitter.com/jessicadrun/status/1219663696416378880?ref_src=twsrc%5Etfw\">January 21, 2020</a></blockquote>\\n<script async src=\"https://platform.twitter.com/widgets.js\" charset=\"utf-8\"></script>\\n')\n",
      "2 Record Updated successfully \n",
      "Table After updating record \n",
      "(30, '1221843209686409216', datetime.datetime(2020, 1, 27, 17, 11, 36, tzinfo=psycopg2.tz.FixedOffsetTimezone(offset=0, name=None)), \"But also--since we're talking about international space, guess which airport is a major regional transportation hub (answer: Taoyuan) &amp; aviation authorities in Taiwan ALSO don't have a seat at the table? Any coordination between @icao &amp; the @WHO should include Taiwan's input.\", 'negative', 17, '<blockquote class=\"twitter-tweet\"><p lang=\"en\" dir=\"ltr\">But also--since we&#39;re talking about international space, guess which airport is a major regional transportation hub (answer: Taoyuan) &amp; aviation authorities in Taiwan ALSO don&#39;t have a seat at the table? Any coordination between <a href=\"https://twitter.com/icao?ref_src=twsrc%5Etfw\">@icao</a> &amp; the <a href=\"https://twitter.com/WHO?ref_src=twsrc%5Etfw\">@WHO</a> should include Taiwan&#39;s input. 2/</p>&mdash; Jessica Drun (@jessicadrun) <a href=\"https://twitter.com/jessicadrun/status/1219663696416378880?ref_src=twsrc%5Etfw\">January 21, 2020</a></blockquote>\\n<script async src=\"https://platform.twitter.com/widgets.js\" charset=\"utf-8\"></script>\\n')\n",
      "PostgreSQL connection is closed\n",
      "Table Before updating record \n",
      "(21, '1221843065259749378', datetime.datetime(2020, 1, 27, 17, 11, 2, tzinfo=psycopg2.tz.FixedOffsetTimezone(offset=0, name=None)), 'In order to check the spread of Lassa fever into the state, Kwara State Government has begun intensive surveillance and screenings at its borders and the Ilorin International Airports. To further tighten preparation for the outbreak of -', 'negative', 18, '<blockquote class=\"twitter-tweet\"><p lang=\"en\" dir=\"ltr\">In order to check the spread of Lassa fever into the state, Kwara State Government has begun intensive surveillance and screenings at its borders and the Ilorin International Airports. To further tighten preparation for the outbreak of… <a href=\"https://t.co/LTk7coCINq\">https://t.co/LTk7coCINq</a>  - TheWhistler</p>&mdash; The Whistler NG (@TheWhistlerNG) <a href=\"https://twitter.com/TheWhistlerNG/status/1221843065259749378?ref_src=twsrc%5Etfw\">January 27, 2020</a></blockquote>\\n<script async src=\"https://platform.twitter.com/widgets.js\" charset=\"utf-8\"></script>\\n')\n",
      "1 Record Updated successfully \n",
      "Table After updating record \n",
      "(21, '1221843065259749378', datetime.datetime(2020, 1, 27, 17, 11, 2, tzinfo=psycopg2.tz.FixedOffsetTimezone(offset=0, name=None)), 'In order to check the spread of Lassa fever into the state, Kwara State Government has begun intensive surveillance and screenings at its borders and the Ilorin International Airports. To further tighten preparation for the outbreak of -', 'positive', 18, '<blockquote class=\"twitter-tweet\"><p lang=\"en\" dir=\"ltr\">In order to check the spread of Lassa fever into the state, Kwara State Government has begun intensive surveillance and screenings at its borders and the Ilorin International Airports. To further tighten preparation for the outbreak of… <a href=\"https://t.co/LTk7coCINq\">https://t.co/LTk7coCINq</a>  - TheWhistler</p>&mdash; The Whistler NG (@TheWhistlerNG) <a href=\"https://twitter.com/TheWhistlerNG/status/1221843065259749378?ref_src=twsrc%5Etfw\">January 27, 2020</a></blockquote>\\n<script async src=\"https://platform.twitter.com/widgets.js\" charset=\"utf-8\"></script>\\n')\n",
      "PostgreSQL connection is closed\n"
     ]
    },
    {
     "name": "stdout",
     "output_type": "stream",
     "text": [
      "Table Before updating record \n",
      "(22, '1221843042891522048', datetime.datetime(2020, 1, 27, 17, 10, 56, tzinfo=psycopg2.tz.FixedOffsetTimezone(offset=0, name=None)), '@MY_Airports Tq malaysian love you dear. We all really appreciate what you sacrifice for the service.... But take care all', 'negative', 19, '<blockquote class=\"twitter-tweet\"><p lang=\"en\" dir=\"ltr\">Tq malaysian love you dear. We all really appreciate what you sacrifice for the service.... 🙏😭😭.. But take care all staff..</p>&mdash; Cik penyu (@erulnyyzam) <a href=\"https://twitter.com/erulnyyzam/status/1221843042891522048?ref_src=twsrc%5Etfw\">January 27, 2020</a></blockquote>\\n<script async src=\"https://platform.twitter.com/widgets.js\" charset=\"utf-8\"></script>\\n')\n",
      "1 Record Updated successfully \n",
      "Table After updating record \n",
      "(22, '1221843042891522048', datetime.datetime(2020, 1, 27, 17, 10, 56, tzinfo=psycopg2.tz.FixedOffsetTimezone(offset=0, name=None)), '@MY_Airports Tq malaysian love you dear. We all really appreciate what you sacrifice for the service.... But take care all', 'negative', 19, '<blockquote class=\"twitter-tweet\"><p lang=\"en\" dir=\"ltr\">Tq malaysian love you dear. We all really appreciate what you sacrifice for the service.... 🙏😭😭.. But take care all staff..</p>&mdash; Cik penyu (@erulnyyzam) <a href=\"https://twitter.com/erulnyyzam/status/1221843042891522048?ref_src=twsrc%5Etfw\">January 27, 2020</a></blockquote>\\n<script async src=\"https://platform.twitter.com/widgets.js\" charset=\"utf-8\"></script>\\n')\n",
      "PostgreSQL connection is closed\n",
      "Table Before updating record \n",
      "(24, '1221842922024448002', datetime.datetime(2020, 1, 27, 17, 10, 28, tzinfo=psycopg2.tz.FixedOffsetTimezone(offset=0, name=None)), '@bongosaloon @Corrrine Thats my concern...as a parent you want them home,but theres more chance of it spreading in airports than anywhere else...bloody globetrotting kids...I blame the', 'negative', 21, '<blockquote class=\"twitter-tweet\"><p lang=\"en\" dir=\"ltr\">That’s my concern...as a parent you want them home,but there’s more chance of it spreading in airports than anywhere else...bloody globetrotting kids...I blame the parents!</p>&mdash; Steve Kaye (@SteveKa77805601) <a href=\"https://twitter.com/SteveKa77805601/status/1221842922024448002?ref_src=twsrc%5Etfw\">January 27, 2020</a></blockquote>\\n<script async src=\"https://platform.twitter.com/widgets.js\" charset=\"utf-8\"></script>\\n')\n",
      "1 Record Updated successfully \n",
      "Table After updating record \n",
      "(24, '1221842922024448002', datetime.datetime(2020, 1, 27, 17, 10, 28, tzinfo=psycopg2.tz.FixedOffsetTimezone(offset=0, name=None)), '@bongosaloon @Corrrine Thats my concern...as a parent you want them home,but theres more chance of it spreading in airports than anywhere else...bloody globetrotting kids...I blame the', 'negative', 21, '<blockquote class=\"twitter-tweet\"><p lang=\"en\" dir=\"ltr\">That’s my concern...as a parent you want them home,but there’s more chance of it spreading in airports than anywhere else...bloody globetrotting kids...I blame the parents!</p>&mdash; Steve Kaye (@SteveKa77805601) <a href=\"https://twitter.com/SteveKa77805601/status/1221842922024448002?ref_src=twsrc%5Etfw\">January 27, 2020</a></blockquote>\\n<script async src=\"https://platform.twitter.com/widgets.js\" charset=\"utf-8\"></script>\\n')\n",
      "PostgreSQL connection is closed\n",
      "Table Before updating record \n",
      "(25, '1221842894090203136', datetime.datetime(2020, 1, 27, 17, 10, 21, tzinfo=psycopg2.tz.FixedOffsetTimezone(offset=0, name=None)), 'BREAKING NEWS: This is not a scene from some apocalyptic horror movie, this is a coronavirus outbreak in China. The SARS like virus has already spread to four countries and infected more than 1700 people. US airports are monitored. Be on alert, stay safe!', 'negative', 22, '<blockquote class=\"twitter-tweet\"><p lang=\"en\" dir=\"ltr\">BREAKING NEWS: This is not a scene from some apocalyptic horror movie, this is a <a href=\"https://twitter.com/hashtag/coronavirus?src=hash&amp;ref_src=twsrc%5Etfw\">#coronavirus</a> outbreak in China. The SARS like virus has already spread to four countries and infected more than 1700 people. US airports are monitored. Be on alert, stay safe! <a href=\"https://t.co/PIc7NYvsGO\">pic.twitter.com/PIc7NYvsGO</a></p>&mdash; Max Howroute▫️ (@howroute) <a href=\"https://twitter.com/howroute/status/1219285703798022147?ref_src=twsrc%5Etfw\">January 20, 2020</a></blockquote>\\n<script async src=\"https://platform.twitter.com/widgets.js\" charset=\"utf-8\"></script>\\n')\n",
      "1 Record Updated successfully \n",
      "Table After updating record \n",
      "(25, '1221842894090203136', datetime.datetime(2020, 1, 27, 17, 10, 21, tzinfo=psycopg2.tz.FixedOffsetTimezone(offset=0, name=None)), 'BREAKING NEWS: This is not a scene from some apocalyptic horror movie, this is a coronavirus outbreak in China. The SARS like virus has already spread to four countries and infected more than 1700 people. US airports are monitored. Be on alert, stay safe!', 'negative', 22, '<blockquote class=\"twitter-tweet\"><p lang=\"en\" dir=\"ltr\">BREAKING NEWS: This is not a scene from some apocalyptic horror movie, this is a <a href=\"https://twitter.com/hashtag/coronavirus?src=hash&amp;ref_src=twsrc%5Etfw\">#coronavirus</a> outbreak in China. The SARS like virus has already spread to four countries and infected more than 1700 people. US airports are monitored. Be on alert, stay safe! <a href=\"https://t.co/PIc7NYvsGO\">pic.twitter.com/PIc7NYvsGO</a></p>&mdash; Max Howroute▫️ (@howroute) <a href=\"https://twitter.com/howroute/status/1219285703798022147?ref_src=twsrc%5Etfw\">January 20, 2020</a></blockquote>\\n<script async src=\"https://platform.twitter.com/widgets.js\" charset=\"utf-8\"></script>\\n')\n",
      "PostgreSQL connection is closed\n",
      "Table Before updating record \n",
      "(26, '1221842861995413504', datetime.datetime(2020, 1, 27, 17, 10, 13, tzinfo=psycopg2.tz.FixedOffsetTimezone(offset=0, name=None)), '@Waraabe110 @zainab_carta @khadarlooge Nonsense. Sister is right. You can also have most modern aircrafts and airports. And flights would still be canceled.', 'negative', 23, '<blockquote class=\"twitter-tweet\"><p lang=\"en\" dir=\"ltr\">Nonsense. Sister is right. You can also have most modern aircrafts and airports. And flights would still be canceled. <a href=\"https://t.co/q6Pw1dDE2x\">https://t.co/q6Pw1dDE2x</a></p>&mdash; Nabad iyo Caano (@VancitySam) <a href=\"https://twitter.com/VancitySam/status/1221842861995413504?ref_src=twsrc%5Etfw\">January 27, 2020</a></blockquote>\\n<script async src=\"https://platform.twitter.com/widgets.js\" charset=\"utf-8\"></script>\\n')\n",
      "1 Record Updated successfully \n",
      "Table After updating record \n",
      "(26, '1221842861995413504', datetime.datetime(2020, 1, 27, 17, 10, 13, tzinfo=psycopg2.tz.FixedOffsetTimezone(offset=0, name=None)), '@Waraabe110 @zainab_carta @khadarlooge Nonsense. Sister is right. You can also have most modern aircrafts and airports. And flights would still be canceled.', 'positive', 23, '<blockquote class=\"twitter-tweet\"><p lang=\"en\" dir=\"ltr\">Nonsense. Sister is right. You can also have most modern aircrafts and airports. And flights would still be canceled. <a href=\"https://t.co/q6Pw1dDE2x\">https://t.co/q6Pw1dDE2x</a></p>&mdash; Nabad iyo Caano (@VancitySam) <a href=\"https://twitter.com/VancitySam/status/1221842861995413504?ref_src=twsrc%5Etfw\">January 27, 2020</a></blockquote>\\n<script async src=\"https://platform.twitter.com/widgets.js\" charset=\"utf-8\"></script>\\n')\n",
      "PostgreSQL connection is closed\n",
      "Table Before updating record \n",
      "(27, '1221842843343499264', datetime.datetime(2020, 1, 27, 17, 10, 9, tzinfo=psycopg2.tz.FixedOffsetTimezone(offset=0, name=None)), 'Do you want to pay more airport taxes? Of course not! Consumers like you already pay $6.9 billion per year in taxes supporting U.S. airports. Tweet at your elected officials: New taxes on air travel just wont', 'negative', 24, '<blockquote class=\"twitter-tweet\"><p lang=\"en\" dir=\"ltr\">Do you want to pay more airport taxes? Of course not! Consumers like you already pay $6.9 billion per year in taxes supporting U.S. airports. Tweet at your elected officials: New taxes on air travel just won’t fly.</p>&mdash; StopAirTaxNow (@StopAirTaxNow) <a href=\"https://twitter.com/StopAirTaxNow/status/1219648262241759232?ref_src=twsrc%5Etfw\">January 21, 2020</a></blockquote>\\n<script async src=\"https://platform.twitter.com/widgets.js\" charset=\"utf-8\"></script>\\n')\n"
     ]
    },
    {
     "name": "stdout",
     "output_type": "stream",
     "text": [
      "1 Record Updated successfully \n",
      "Table After updating record \n",
      "(27, '1221842843343499264', datetime.datetime(2020, 1, 27, 17, 10, 9, tzinfo=psycopg2.tz.FixedOffsetTimezone(offset=0, name=None)), 'Do you want to pay more airport taxes? Of course not! Consumers like you already pay $6.9 billion per year in taxes supporting U.S. airports. Tweet at your elected officials: New taxes on air travel just wont', 'negative', 24, '<blockquote class=\"twitter-tweet\"><p lang=\"en\" dir=\"ltr\">Do you want to pay more airport taxes? Of course not! Consumers like you already pay $6.9 billion per year in taxes supporting U.S. airports. Tweet at your elected officials: New taxes on air travel just won’t fly.</p>&mdash; StopAirTaxNow (@StopAirTaxNow) <a href=\"https://twitter.com/StopAirTaxNow/status/1219648262241759232?ref_src=twsrc%5Etfw\">January 21, 2020</a></blockquote>\\n<script async src=\"https://platform.twitter.com/widgets.js\" charset=\"utf-8\"></script>\\n')\n",
      "PostgreSQL connection is closed\n",
      "Table Before updating record \n",
      "(28, '1221843220977659904', datetime.datetime(2020, 1, 27, 17, 11, 39, tzinfo=psycopg2.tz.FixedOffsetTimezone(offset=0, name=None)), '@RogerHallamCS21 In Kent, theres a DCO to open a massively polluting aviation freight hub at Manston. The sponsor is planting a few trees in mitigation. That wont be enough for the CO2 alone but what about particulates and noise pollution? It just wont work. Stop the DCO, climate', 'negative', 25, '<blockquote class=\"twitter-tweet\"><p lang=\"en\" dir=\"ltr\">In Kent, there’s a DCO to open a massively polluting aviation freight hub at Manston. The sponsor is planting a few trees in mitigation. That won’t be enough for the CO2 alone but what about particulates and noise pollution? It just won’t work. Stop the DCO, climate first.</p>&mdash; Climate First (@ClimateFirst2) <a href=\"https://twitter.com/ClimateFirst2/status/1221493885177925635?ref_src=twsrc%5Etfw\">January 26, 2020</a></blockquote>\\n<script async src=\"https://platform.twitter.com/widgets.js\" charset=\"utf-8\"></script>\\n')\n",
      "1 Record Updated successfully \n",
      "Table After updating record \n",
      "(28, '1221843220977659904', datetime.datetime(2020, 1, 27, 17, 11, 39, tzinfo=psycopg2.tz.FixedOffsetTimezone(offset=0, name=None)), '@RogerHallamCS21 In Kent, theres a DCO to open a massively polluting aviation freight hub at Manston. The sponsor is planting a few trees in mitigation. That wont be enough for the CO2 alone but what about particulates and noise pollution? It just wont work. Stop the DCO, climate', 'positive', 25, '<blockquote class=\"twitter-tweet\"><p lang=\"en\" dir=\"ltr\">In Kent, there’s a DCO to open a massively polluting aviation freight hub at Manston. The sponsor is planting a few trees in mitigation. That won’t be enough for the CO2 alone but what about particulates and noise pollution? It just won’t work. Stop the DCO, climate first.</p>&mdash; Climate First (@ClimateFirst2) <a href=\"https://twitter.com/ClimateFirst2/status/1221493885177925635?ref_src=twsrc%5Etfw\">January 26, 2020</a></blockquote>\\n<script async src=\"https://platform.twitter.com/widgets.js\" charset=\"utf-8\"></script>\\n')\n",
      "PostgreSQL connection is closed\n",
      "Table Before updating record \n",
      "(29, '1221843214505668609', datetime.datetime(2020, 1, 27, 17, 11, 37, tzinfo=psycopg2.tz.FixedOffsetTimezone(offset=0, name=None)), 'ICYMI: @CAA_Kenya has completed work on drones draft regulations and the agency is expected to seek approval from parliament next month when it resumes from recess. cc @ke_aviation @Le_Butter_Fly @ClanSewe @bankelele @mwarv @truthslinger', 'negative', 26, '<blockquote class=\"twitter-tweet\"><p lang=\"en\" dir=\"ltr\">ICYMI: <a href=\"https://twitter.com/CAA_Kenya?ref_src=twsrc%5Etfw\">@CAA_Kenya</a> has completed work on drones draft regulations and the agency is expected to seek approval from parliament next month when it resumes from recess. <a href=\"https://t.co/TQWoYGxpBy\">https://t.co/TQWoYGxpBy</a> cc <a href=\"https://twitter.com/ke_aviation?ref_src=twsrc%5Etfw\">@ke_aviation</a> <a href=\"https://twitter.com/Le_Butter_Fly?ref_src=twsrc%5Etfw\">@Le_Butter_Fly</a> <a href=\"https://twitter.com/ClanSewe?ref_src=twsrc%5Etfw\">@ClanSewe</a> <a href=\"https://twitter.com/bankelele?ref_src=twsrc%5Etfw\">@bankelele</a> <a href=\"https://twitter.com/mwarv?ref_src=twsrc%5Etfw\">@mwarv</a> <a href=\"https://twitter.com/truthslinger?ref_src=twsrc%5Etfw\">@truthslinger</a> <a href=\"https://twitter.com/droid254?ref_src=twsrc%5Etfw\">@droid254</a></p>&mdash; mmnjug™ (@mmnjug) <a href=\"https://twitter.com/mmnjug/status/1221832278491484161?ref_src=twsrc%5Etfw\">January 27, 2020</a></blockquote>\\n<script async src=\"https://platform.twitter.com/widgets.js\" charset=\"utf-8\"></script>\\n')\n",
      "1 Record Updated successfully \n",
      "Table After updating record \n",
      "(29, '1221843214505668609', datetime.datetime(2020, 1, 27, 17, 11, 37, tzinfo=psycopg2.tz.FixedOffsetTimezone(offset=0, name=None)), 'ICYMI: @CAA_Kenya has completed work on drones draft regulations and the agency is expected to seek approval from parliament next month when it resumes from recess. cc @ke_aviation @Le_Butter_Fly @ClanSewe @bankelele @mwarv @truthslinger', 'negative', 26, '<blockquote class=\"twitter-tweet\"><p lang=\"en\" dir=\"ltr\">ICYMI: <a href=\"https://twitter.com/CAA_Kenya?ref_src=twsrc%5Etfw\">@CAA_Kenya</a> has completed work on drones draft regulations and the agency is expected to seek approval from parliament next month when it resumes from recess. <a href=\"https://t.co/TQWoYGxpBy\">https://t.co/TQWoYGxpBy</a> cc <a href=\"https://twitter.com/ke_aviation?ref_src=twsrc%5Etfw\">@ke_aviation</a> <a href=\"https://twitter.com/Le_Butter_Fly?ref_src=twsrc%5Etfw\">@Le_Butter_Fly</a> <a href=\"https://twitter.com/ClanSewe?ref_src=twsrc%5Etfw\">@ClanSewe</a> <a href=\"https://twitter.com/bankelele?ref_src=twsrc%5Etfw\">@bankelele</a> <a href=\"https://twitter.com/mwarv?ref_src=twsrc%5Etfw\">@mwarv</a> <a href=\"https://twitter.com/truthslinger?ref_src=twsrc%5Etfw\">@truthslinger</a> <a href=\"https://twitter.com/droid254?ref_src=twsrc%5Etfw\">@droid254</a></p>&mdash; mmnjug™ (@mmnjug) <a href=\"https://twitter.com/mmnjug/status/1221832278491484161?ref_src=twsrc%5Etfw\">January 27, 2020</a></blockquote>\\n<script async src=\"https://platform.twitter.com/widgets.js\" charset=\"utf-8\"></script>\\n')\n",
      "PostgreSQL connection is closed\n",
      "Table Before updating record \n",
      "(30, '1221843209686409216', datetime.datetime(2020, 1, 27, 17, 11, 36, tzinfo=psycopg2.tz.FixedOffsetTimezone(offset=0, name=None)), \"But also--since we're talking about international space, guess which airport is a major regional transportation hub (answer: Taoyuan) &amp; aviation authorities in Taiwan ALSO don't have a seat at the table? Any coordination between @icao &amp; the @WHO should include Taiwan's input.\", 'negative', 17, '<blockquote class=\"twitter-tweet\"><p lang=\"en\" dir=\"ltr\">But also--since we&#39;re talking about international space, guess which airport is a major regional transportation hub (answer: Taoyuan) &amp; aviation authorities in Taiwan ALSO don&#39;t have a seat at the table? Any coordination between <a href=\"https://twitter.com/icao?ref_src=twsrc%5Etfw\">@icao</a> &amp; the <a href=\"https://twitter.com/WHO?ref_src=twsrc%5Etfw\">@WHO</a> should include Taiwan&#39;s input. 2/</p>&mdash; Jessica Drun (@jessicadrun) <a href=\"https://twitter.com/jessicadrun/status/1219663696416378880?ref_src=twsrc%5Etfw\">January 21, 2020</a></blockquote>\\n<script async src=\"https://platform.twitter.com/widgets.js\" charset=\"utf-8\"></script>\\n')\n",
      "2 Record Updated successfully \n",
      "Table After updating record \n",
      "(30, '1221843209686409216', datetime.datetime(2020, 1, 27, 17, 11, 36, tzinfo=psycopg2.tz.FixedOffsetTimezone(offset=0, name=None)), \"But also--since we're talking about international space, guess which airport is a major regional transportation hub (answer: Taoyuan) &amp; aviation authorities in Taiwan ALSO don't have a seat at the table? Any coordination between @icao &amp; the @WHO should include Taiwan's input.\", 'positive', 17, '<blockquote class=\"twitter-tweet\"><p lang=\"en\" dir=\"ltr\">But also--since we&#39;re talking about international space, guess which airport is a major regional transportation hub (answer: Taoyuan) &amp; aviation authorities in Taiwan ALSO don&#39;t have a seat at the table? Any coordination between <a href=\"https://twitter.com/icao?ref_src=twsrc%5Etfw\">@icao</a> &amp; the <a href=\"https://twitter.com/WHO?ref_src=twsrc%5Etfw\">@WHO</a> should include Taiwan&#39;s input. 2/</p>&mdash; Jessica Drun (@jessicadrun) <a href=\"https://twitter.com/jessicadrun/status/1219663696416378880?ref_src=twsrc%5Etfw\">January 21, 2020</a></blockquote>\\n<script async src=\"https://platform.twitter.com/widgets.js\" charset=\"utf-8\"></script>\\n')\n",
      "PostgreSQL connection is closed\n"
     ]
    },
    {
     "name": "stdout",
     "output_type": "stream",
     "text": [
      "Table Before updating record \n",
      "(31, '1221843198244352005', datetime.datetime(2020, 1, 27, 17, 11, 33, tzinfo=psycopg2.tz.FixedOffsetTimezone(offset=0, name=None)), '@jessicadrun @tomgrundy @icao @UN The Secretary General of the @icao is Fang Liu, former Deputy Director of the General Administration of Civil Aviation of China (CAAC). So, presumably a CCP lackey. Incidentally, originally from Wuhan.', 'negative', 27, '<blockquote class=\"twitter-tweet\"><p lang=\"en\" dir=\"ltr\">The Secretary General of the <a href=\"https://twitter.com/icao?ref_src=twsrc%5Etfw\">@icao</a> is Fang Liu, former Deputy Director of the General Administration of Civil Aviation of China (CAAC). So, presumably a CCP lackey. <br><br>Incidentally, originally from <a href=\"https://twitter.com/hashtag/Wuhan?src=hash&amp;ref_src=twsrc%5Etfw\">#Wuhan</a>. <a href=\"https://t.co/Kawo9FmvPI\">pic.twitter.com/Kawo9FmvPI</a></p>&mdash; 𝕿𝖍𝖊 𝕴𝖈𝖊 𝕸𝖆𝖓 𝖔𝖋 𝕳𝕶 🇭🇰☂🖖😷 (@the_ice_man_24) <a href=\"https://twitter.com/the_ice_man_24/status/1221006175962988544?ref_src=twsrc%5Etfw\">January 25, 2020</a></blockquote>\\n<script async src=\"https://platform.twitter.com/widgets.js\" charset=\"utf-8\"></script>\\n')\n",
      "1 Record Updated successfully \n",
      "Table After updating record \n",
      "(31, '1221843198244352005', datetime.datetime(2020, 1, 27, 17, 11, 33, tzinfo=psycopg2.tz.FixedOffsetTimezone(offset=0, name=None)), '@jessicadrun @tomgrundy @icao @UN The Secretary General of the @icao is Fang Liu, former Deputy Director of the General Administration of Civil Aviation of China (CAAC). So, presumably a CCP lackey. Incidentally, originally from Wuhan.', 'negative', 27, '<blockquote class=\"twitter-tweet\"><p lang=\"en\" dir=\"ltr\">The Secretary General of the <a href=\"https://twitter.com/icao?ref_src=twsrc%5Etfw\">@icao</a> is Fang Liu, former Deputy Director of the General Administration of Civil Aviation of China (CAAC). So, presumably a CCP lackey. <br><br>Incidentally, originally from <a href=\"https://twitter.com/hashtag/Wuhan?src=hash&amp;ref_src=twsrc%5Etfw\">#Wuhan</a>. <a href=\"https://t.co/Kawo9FmvPI\">pic.twitter.com/Kawo9FmvPI</a></p>&mdash; 𝕿𝖍𝖊 𝕴𝖈𝖊 𝕸𝖆𝖓 𝖔𝖋 𝕳𝕶 🇭🇰☂🖖😷 (@the_ice_man_24) <a href=\"https://twitter.com/the_ice_man_24/status/1221006175962988544?ref_src=twsrc%5Etfw\">January 25, 2020</a></blockquote>\\n<script async src=\"https://platform.twitter.com/widgets.js\" charset=\"utf-8\"></script>\\n')\n",
      "PostgreSQL connection is closed\n",
      "Table Before updating record \n",
      "(32, '1221843189633441793', datetime.datetime(2020, 1, 27, 17, 11, 31, tzinfo=psycopg2.tz.FixedOffsetTimezone(offset=0, name=None)), 'Minister for Aviation Division Ghulam Sarwar Khan on Friday informed the Senate that Pakistan International Airlines (PIA) losses have surged to Rs 416 billion, Nov 2019 :2', 'negative', 28, '<blockquote class=\"twitter-tweet\"><p lang=\"en\" dir=\"ltr\">Minister for Aviation Division Ghulam Sarwar Khan on Friday informed the Senate that Pakistan International Airlines (PIA) losses have surged to Rs 416 billion, Nov 2019 :2 <a href=\"https://t.co/VCGTHlE6xG\">https://t.co/VCGTHlE6xG</a></p>&mdash; Dr Humma Saeef (@HummaSaif) <a href=\"https://twitter.com/HummaSaif/status/1221841684876746754?ref_src=twsrc%5Etfw\">January 27, 2020</a></blockquote>\\n<script async src=\"https://platform.twitter.com/widgets.js\" charset=\"utf-8\"></script>\\n')\n",
      "1 Record Updated successfully \n",
      "Table After updating record \n",
      "(32, '1221843189633441793', datetime.datetime(2020, 1, 27, 17, 11, 31, tzinfo=psycopg2.tz.FixedOffsetTimezone(offset=0, name=None)), 'Minister for Aviation Division Ghulam Sarwar Khan on Friday informed the Senate that Pakistan International Airlines (PIA) losses have surged to Rs 416 billion, Nov 2019 :2', 'positive', 28, '<blockquote class=\"twitter-tweet\"><p lang=\"en\" dir=\"ltr\">Minister for Aviation Division Ghulam Sarwar Khan on Friday informed the Senate that Pakistan International Airlines (PIA) losses have surged to Rs 416 billion, Nov 2019 :2 <a href=\"https://t.co/VCGTHlE6xG\">https://t.co/VCGTHlE6xG</a></p>&mdash; Dr Humma Saeef (@HummaSaif) <a href=\"https://twitter.com/HummaSaif/status/1221841684876746754?ref_src=twsrc%5Etfw\">January 27, 2020</a></blockquote>\\n<script async src=\"https://platform.twitter.com/widgets.js\" charset=\"utf-8\"></script>\\n')\n",
      "PostgreSQL connection is closed\n",
      "Table Before updating record \n",
      "(33, '1221843157584769025', datetime.datetime(2020, 1, 27, 17, 11, 24, tzinfo=psycopg2.tz.FixedOffsetTimezone(offset=0, name=None)), 'At Aero &amp; Marine Tax Professionals we share only GOOD news, promotion, job postings and sales material from anyone in the aviation and vessel industry. It is my duty to assist the positive attitudes of ALL PEOPLE and sales efforts in the industry. Sales', 'negative', 29, '<blockquote class=\"twitter-tweet\"><p lang=\"en\" dir=\"ltr\">At Aero &amp; Marine Tax Professionals we share only GOOD news, promotion, job postings and sales material from anyone in the aviation and vessel industry. It is my duty to assist the positive attitudes of ALL PEOPLE and sales efforts in the industry. Sales m…<a href=\"https://t.co/OCAgfIQkFB\">https://t.co/OCAgfIQkFB</a></p>&mdash; Thomas Alston (@aeromarinetax) <a href=\"https://twitter.com/aeromarinetax/status/1221843157584769025?ref_src=twsrc%5Etfw\">January 27, 2020</a></blockquote>\\n<script async src=\"https://platform.twitter.com/widgets.js\" charset=\"utf-8\"></script>\\n')\n",
      "1 Record Updated successfully \n",
      "Table After updating record \n",
      "(33, '1221843157584769025', datetime.datetime(2020, 1, 27, 17, 11, 24, tzinfo=psycopg2.tz.FixedOffsetTimezone(offset=0, name=None)), 'At Aero &amp; Marine Tax Professionals we share only GOOD news, promotion, job postings and sales material from anyone in the aviation and vessel industry. It is my duty to assist the positive attitudes of ALL PEOPLE and sales efforts in the industry. Sales', 'negative', 29, '<blockquote class=\"twitter-tweet\"><p lang=\"en\" dir=\"ltr\">At Aero &amp; Marine Tax Professionals we share only GOOD news, promotion, job postings and sales material from anyone in the aviation and vessel industry. It is my duty to assist the positive attitudes of ALL PEOPLE and sales efforts in the industry. Sales m…<a href=\"https://t.co/OCAgfIQkFB\">https://t.co/OCAgfIQkFB</a></p>&mdash; Thomas Alston (@aeromarinetax) <a href=\"https://twitter.com/aeromarinetax/status/1221843157584769025?ref_src=twsrc%5Etfw\">January 27, 2020</a></blockquote>\\n<script async src=\"https://platform.twitter.com/widgets.js\" charset=\"utf-8\"></script>\\n')\n",
      "PostgreSQL connection is closed\n",
      "Table Before updating record \n",
      "(34, '1221843156133666816', datetime.datetime(2020, 1, 27, 17, 11, 23, tzinfo=psycopg2.tz.FixedOffsetTimezone(offset=0, name=None)), '3 20+ year old @Delta @Boeing planes land on runway 24R at @flyLAXairport on January 12th, 2020. 777-232(ER) - 20 years 757-251 - 23 years 767-332(ER) - 29 years lax', 'negative', 30, '<blockquote class=\"twitter-tweet\"><p lang=\"en\" dir=\"ltr\">3️⃣ 20+ year old <a href=\"https://twitter.com/Delta?ref_src=twsrc%5Etfw\">@Delta</a> <a href=\"https://twitter.com/Boeing?ref_src=twsrc%5Etfw\">@Boeing</a> planes land on runway 24R at <a href=\"https://twitter.com/flyLAXairport?ref_src=twsrc%5Etfw\">@flyLAXairport</a> on January 12th, 2020. <br>✈️ 777-232(ER) - 20 years <br>✈️ 757-251 - 23 years  <br>✈️ 767-332(ER) - 29 years <a href=\"https://twitter.com/hashtag/planespotting?src=hash&amp;ref_src=twsrc%5Etfw\">#planespotting</a> <a href=\"https://twitter.com/hashtag/planespotter?src=hash&amp;ref_src=twsrc%5Etfw\">#planespotter</a> <a href=\"https://twitter.com/hashtag/avgeek?src=hash&amp;ref_src=twsrc%5Etfw\">#avgeek</a> <a href=\"https://twitter.com/hashtag/aviation?src=hash&amp;ref_src=twsrc%5Etfw\">#aviation</a> <a href=\"https://twitter.com/hashtag/airplanes?src=hash&amp;ref_src=twsrc%5Etfw\">#airplanes</a> <a href=\"https://twitter.com/hashtag/boeing?src=hash&amp;ref_src=twsrc%5Etfw\">#boeing</a> <a href=\"https://twitter.com/hashtag/deltaairlines?src=hash&amp;ref_src=twsrc%5Etfw\">#deltaairlines</a> <a href=\"https://twitter.com/hashtag/lax?src=hash&amp;ref_src=twsrc%5Etfw\">#lax</a> <a href=\"https://t.co/s9cr2fdCrB\">pic.twitter.com/s9cr2fdCrB</a></p>&mdash; AIRLINE VIDEOS (@airlinevideos) <a href=\"https://twitter.com/airlinevideos/status/1221826890140274688?ref_src=twsrc%5Etfw\">January 27, 2020</a></blockquote>\\n<script async src=\"https://platform.twitter.com/widgets.js\" charset=\"utf-8\"></script>\\n')\n"
     ]
    },
    {
     "name": "stdout",
     "output_type": "stream",
     "text": [
      "1 Record Updated successfully \n",
      "Table After updating record \n",
      "(34, '1221843156133666816', datetime.datetime(2020, 1, 27, 17, 11, 23, tzinfo=psycopg2.tz.FixedOffsetTimezone(offset=0, name=None)), '3 20+ year old @Delta @Boeing planes land on runway 24R at @flyLAXairport on January 12th, 2020. 777-232(ER) - 20 years 757-251 - 23 years 767-332(ER) - 29 years lax', 'negative', 30, '<blockquote class=\"twitter-tweet\"><p lang=\"en\" dir=\"ltr\">3️⃣ 20+ year old <a href=\"https://twitter.com/Delta?ref_src=twsrc%5Etfw\">@Delta</a> <a href=\"https://twitter.com/Boeing?ref_src=twsrc%5Etfw\">@Boeing</a> planes land on runway 24R at <a href=\"https://twitter.com/flyLAXairport?ref_src=twsrc%5Etfw\">@flyLAXairport</a> on January 12th, 2020. <br>✈️ 777-232(ER) - 20 years <br>✈️ 757-251 - 23 years  <br>✈️ 767-332(ER) - 29 years <a href=\"https://twitter.com/hashtag/planespotting?src=hash&amp;ref_src=twsrc%5Etfw\">#planespotting</a> <a href=\"https://twitter.com/hashtag/planespotter?src=hash&amp;ref_src=twsrc%5Etfw\">#planespotter</a> <a href=\"https://twitter.com/hashtag/avgeek?src=hash&amp;ref_src=twsrc%5Etfw\">#avgeek</a> <a href=\"https://twitter.com/hashtag/aviation?src=hash&amp;ref_src=twsrc%5Etfw\">#aviation</a> <a href=\"https://twitter.com/hashtag/airplanes?src=hash&amp;ref_src=twsrc%5Etfw\">#airplanes</a> <a href=\"https://twitter.com/hashtag/boeing?src=hash&amp;ref_src=twsrc%5Etfw\">#boeing</a> <a href=\"https://twitter.com/hashtag/deltaairlines?src=hash&amp;ref_src=twsrc%5Etfw\">#deltaairlines</a> <a href=\"https://twitter.com/hashtag/lax?src=hash&amp;ref_src=twsrc%5Etfw\">#lax</a> <a href=\"https://t.co/s9cr2fdCrB\">pic.twitter.com/s9cr2fdCrB</a></p>&mdash; AIRLINE VIDEOS (@airlinevideos) <a href=\"https://twitter.com/airlinevideos/status/1221826890140274688?ref_src=twsrc%5Etfw\">January 27, 2020</a></blockquote>\\n<script async src=\"https://platform.twitter.com/widgets.js\" charset=\"utf-8\"></script>\\n')\n",
      "PostgreSQL connection is closed\n",
      "Table Before updating record \n",
      "(35, '1221843148479127552', datetime.datetime(2020, 1, 27, 17, 11, 22, tzinfo=psycopg2.tz.FixedOffsetTimezone(offset=0, name=None)), 'Minister for Aviation Division Ghulam Sarwar Khan on Friday informed the Senate that Pakistan International Airlines (PIA) losses have surged to Rs 416 billion, Nov 2019 :2', 'negative', 31, '<blockquote class=\"twitter-tweet\"><p lang=\"en\" dir=\"ltr\">Minister for Aviation Division Ghulam Sarwar Khan on Friday informed the Senate that Pakistan International Airlines (PIA) losses have surged to Rs 416 billion, Nov 2019 :2 <a href=\"https://t.co/VCGTHlE6xG\">https://t.co/VCGTHlE6xG</a></p>&mdash; Dr Humma Saeef (@HummaSaif) <a href=\"https://twitter.com/HummaSaif/status/1221841684876746754?ref_src=twsrc%5Etfw\">January 27, 2020</a></blockquote>\\n<script async src=\"https://platform.twitter.com/widgets.js\" charset=\"utf-8\"></script>\\n')\n",
      "1 Record Updated successfully \n",
      "Table After updating record \n",
      "(35, '1221843148479127552', datetime.datetime(2020, 1, 27, 17, 11, 22, tzinfo=psycopg2.tz.FixedOffsetTimezone(offset=0, name=None)), 'Minister for Aviation Division Ghulam Sarwar Khan on Friday informed the Senate that Pakistan International Airlines (PIA) losses have surged to Rs 416 billion, Nov 2019 :2', 'positive', 31, '<blockquote class=\"twitter-tweet\"><p lang=\"en\" dir=\"ltr\">Minister for Aviation Division Ghulam Sarwar Khan on Friday informed the Senate that Pakistan International Airlines (PIA) losses have surged to Rs 416 billion, Nov 2019 :2 <a href=\"https://t.co/VCGTHlE6xG\">https://t.co/VCGTHlE6xG</a></p>&mdash; Dr Humma Saeef (@HummaSaif) <a href=\"https://twitter.com/HummaSaif/status/1221841684876746754?ref_src=twsrc%5Etfw\">January 27, 2020</a></blockquote>\\n<script async src=\"https://platform.twitter.com/widgets.js\" charset=\"utf-8\"></script>\\n')\n",
      "PostgreSQL connection is closed\n",
      "Table Before updating record \n",
      "(36, '1221843146025267202', datetime.datetime(2020, 1, 27, 17, 11, 21, tzinfo=psycopg2.tz.FixedOffsetTimezone(offset=0, name=None)), \"The International Civil Aviation Organization, @icao, which is a specialized U.N. agency, is apparently now blocking people on Twitter for making references to the fact that it excludes Taiwan (Taiwan's inclusion in international organizations a big issue for China)\", 'negative', 32, '<blockquote class=\"twitter-tweet\"><p lang=\"en\" dir=\"ltr\">The International Civil Aviation Organization, <a href=\"https://twitter.com/icao?ref_src=twsrc%5Etfw\">@icao</a>, which is a specialized U.N. agency, is apparently now blocking people on Twitter for making references to the fact that it excludes Taiwan (Taiwan&#39;s inclusion in international organizations a big issue for China) <a href=\"https://t.co/RrQghfxLaW\">pic.twitter.com/RrQghfxLaW</a></p>&mdash; Robbie Gramer (@RobbieGramer) <a href=\"https://twitter.com/RobbieGramer/status/1221834738966650883?ref_src=twsrc%5Etfw\">January 27, 2020</a></blockquote>\\n<script async src=\"https://platform.twitter.com/widgets.js\" charset=\"utf-8\"></script>\\n')\n",
      "1 Record Updated successfully \n",
      "Table After updating record \n",
      "(36, '1221843146025267202', datetime.datetime(2020, 1, 27, 17, 11, 21, tzinfo=psycopg2.tz.FixedOffsetTimezone(offset=0, name=None)), \"The International Civil Aviation Organization, @icao, which is a specialized U.N. agency, is apparently now blocking people on Twitter for making references to the fact that it excludes Taiwan (Taiwan's inclusion in international organizations a big issue for China)\", 'positive', 32, '<blockquote class=\"twitter-tweet\"><p lang=\"en\" dir=\"ltr\">The International Civil Aviation Organization, <a href=\"https://twitter.com/icao?ref_src=twsrc%5Etfw\">@icao</a>, which is a specialized U.N. agency, is apparently now blocking people on Twitter for making references to the fact that it excludes Taiwan (Taiwan&#39;s inclusion in international organizations a big issue for China) <a href=\"https://t.co/RrQghfxLaW\">pic.twitter.com/RrQghfxLaW</a></p>&mdash; Robbie Gramer (@RobbieGramer) <a href=\"https://twitter.com/RobbieGramer/status/1221834738966650883?ref_src=twsrc%5Etfw\">January 27, 2020</a></blockquote>\\n<script async src=\"https://platform.twitter.com/widgets.js\" charset=\"utf-8\"></script>\\n')\n",
      "PostgreSQL connection is closed\n",
      "Table Before updating record \n",
      "(37, '1221843236244873216', datetime.datetime(2020, 1, 27, 17, 11, 42, tzinfo=psycopg2.tz.FixedOffsetTimezone(offset=0, name=None)), '8 Wubei residents just landed in Hong Kong international airport and trying to force their way through the custom. coronarvirus', 'negative', 33, '<blockquote class=\"twitter-tweet\"><p lang=\"en\" dir=\"ltr\">8 <a href=\"https://twitter.com/hashtag/Wubei?src=hash&amp;ref_src=twsrc%5Etfw\">#Wubei</a> residents just landed in <a href=\"https://twitter.com/hashtag/HongKong?src=hash&amp;ref_src=twsrc%5Etfw\">#HongKong</a> international airport and trying to force their way through the custom.<a href=\"https://twitter.com/hashtag/coronarvirus?src=hash&amp;ref_src=twsrc%5Etfw\">#coronarvirus</a> <a href=\"https://t.co/7BK56iPqhJ\">pic.twitter.com/7BK56iPqhJ</a></p>&mdash; GongJai 港仔🇭🇰 (@HeungGongJai) <a href=\"https://twitter.com/HeungGongJai/status/1221826602511634432?ref_src=twsrc%5Etfw\">January 27, 2020</a></blockquote>\\n<script async src=\"https://platform.twitter.com/widgets.js\" charset=\"utf-8\"></script>\\n')\n",
      "1 Record Updated successfully \n",
      "Table After updating record \n",
      "(37, '1221843236244873216', datetime.datetime(2020, 1, 27, 17, 11, 42, tzinfo=psycopg2.tz.FixedOffsetTimezone(offset=0, name=None)), '8 Wubei residents just landed in Hong Kong international airport and trying to force their way through the custom. coronarvirus', 'positive', 33, '<blockquote class=\"twitter-tweet\"><p lang=\"en\" dir=\"ltr\">8 <a href=\"https://twitter.com/hashtag/Wubei?src=hash&amp;ref_src=twsrc%5Etfw\">#Wubei</a> residents just landed in <a href=\"https://twitter.com/hashtag/HongKong?src=hash&amp;ref_src=twsrc%5Etfw\">#HongKong</a> international airport and trying to force their way through the custom.<a href=\"https://twitter.com/hashtag/coronarvirus?src=hash&amp;ref_src=twsrc%5Etfw\">#coronarvirus</a> <a href=\"https://t.co/7BK56iPqhJ\">pic.twitter.com/7BK56iPqhJ</a></p>&mdash; GongJai 港仔🇭🇰 (@HeungGongJai) <a href=\"https://twitter.com/HeungGongJai/status/1221826602511634432?ref_src=twsrc%5Etfw\">January 27, 2020</a></blockquote>\\n<script async src=\"https://platform.twitter.com/widgets.js\" charset=\"utf-8\"></script>\\n')\n",
      "PostgreSQL connection is closed\n"
     ]
    },
    {
     "name": "stdout",
     "output_type": "stream",
     "text": [
      "Table Before updating record \n",
      "(38, '1221843235833892864', datetime.datetime(2020, 1, 27, 17, 11, 42, tzinfo=psycopg2.tz.FixedOffsetTimezone(offset=0, name=None)), 'Tonight another Iranian student is in @CBP detention. This time in Detroit airport. He has a valid visa &amp; admission to start a Ph.D program in Michigan State U. An officer told his friends not to wait as he will be deported tomorrow. They asked me to not publish his name for now.', 'negative', 34, '<blockquote class=\"twitter-tweet\"><p lang=\"en\" dir=\"ltr\">Tonight another Iranian student is in <a href=\"https://twitter.com/CBP?ref_src=twsrc%5Etfw\">@CBP</a> detention. This time in Detroit airport. He has a valid visa &amp; admission to start a Ph.D program in Michigan State U. An officer told his friends not to wait as he will be deported tomorrow. They asked me to not publish his name for now. <a href=\"https://t.co/sqfrYW4FQ6\">https://t.co/sqfrYW4FQ6</a></p>&mdash; Bahman Kalbasi (@BahmanKalbasi) <a href=\"https://twitter.com/BahmanKalbasi/status/1221632758826569728?ref_src=twsrc%5Etfw\">January 27, 2020</a></blockquote>\\n<script async src=\"https://platform.twitter.com/widgets.js\" charset=\"utf-8\"></script>\\n')\n",
      "1 Record Updated successfully \n",
      "Table After updating record \n",
      "(38, '1221843235833892864', datetime.datetime(2020, 1, 27, 17, 11, 42, tzinfo=psycopg2.tz.FixedOffsetTimezone(offset=0, name=None)), 'Tonight another Iranian student is in @CBP detention. This time in Detroit airport. He has a valid visa &amp; admission to start a Ph.D program in Michigan State U. An officer told his friends not to wait as he will be deported tomorrow. They asked me to not publish his name for now.', 'negative', 34, '<blockquote class=\"twitter-tweet\"><p lang=\"en\" dir=\"ltr\">Tonight another Iranian student is in <a href=\"https://twitter.com/CBP?ref_src=twsrc%5Etfw\">@CBP</a> detention. This time in Detroit airport. He has a valid visa &amp; admission to start a Ph.D program in Michigan State U. An officer told his friends not to wait as he will be deported tomorrow. They asked me to not publish his name for now. <a href=\"https://t.co/sqfrYW4FQ6\">https://t.co/sqfrYW4FQ6</a></p>&mdash; Bahman Kalbasi (@BahmanKalbasi) <a href=\"https://twitter.com/BahmanKalbasi/status/1221632758826569728?ref_src=twsrc%5Etfw\">January 27, 2020</a></blockquote>\\n<script async src=\"https://platform.twitter.com/widgets.js\" charset=\"utf-8\"></script>\\n')\n",
      "PostgreSQL connection is closed\n",
      "Table Before updating record \n",
      "(66, '1221843248920125440', datetime.datetime(2020, 1, 27, 17, 11, 45, tzinfo=psycopg2.tz.FixedOffsetTimezone(offset=0, name=None)), 'Mashs wings or KFC wings', 'negative', 62, '<blockquote class=\"twitter-tweet\"><p lang=\"en\" dir=\"ltr\">Mash’s wings or KFC wings hmmmm</p>&mdash; ❾¾ (@_afra99) <a href=\"https://twitter.com/_afra99/status/1221843248920125440?ref_src=twsrc%5Etfw\">January 27, 2020</a></blockquote>\\n<script async src=\"https://platform.twitter.com/widgets.js\" charset=\"utf-8\"></script>\\n')\n",
      "1 Record Updated successfully \n",
      "Table After updating record \n",
      "(66, '1221843248920125440', datetime.datetime(2020, 1, 27, 17, 11, 45, tzinfo=psycopg2.tz.FixedOffsetTimezone(offset=0, name=None)), 'Mashs wings or KFC wings', 'negative', 62, '<blockquote class=\"twitter-tweet\"><p lang=\"en\" dir=\"ltr\">Mash’s wings or KFC wings hmmmm</p>&mdash; ❾¾ (@_afra99) <a href=\"https://twitter.com/_afra99/status/1221843248920125440?ref_src=twsrc%5Etfw\">January 27, 2020</a></blockquote>\\n<script async src=\"https://platform.twitter.com/widgets.js\" charset=\"utf-8\"></script>\\n')\n",
      "PostgreSQL connection is closed\n",
      "Table Before updating record \n",
      "(39, '1221843235384913923', datetime.datetime(2020, 1, 27, 17, 11, 42, tzinfo=psycopg2.tz.FixedOffsetTimezone(offset=0, name=None)), 'To all the healthcare workers, airline crews - pilots , cabin crew, ground staff, airport staff. police, immigration officers.. THANK YOU. You are doing a great job working for the nation despite of the current threat of Coronavirus', 'negative', 35, '<blockquote class=\"twitter-tweet\"><p lang=\"en\" dir=\"ltr\">To all the healthcare workers, airline crews - pilots , cabin crew, ground staff, airport staff. police, immigration officers.. THANK YOU.<br><br>You are doing a great job working for the nation despite of the current threat of Coronavirus .</p>&mdash; Nimelesh (@HausofHilton) <a href=\"https://twitter.com/HausofHilton/status/1220909818401054720?ref_src=twsrc%5Etfw\">January 25, 2020</a></blockquote>\\n<script async src=\"https://platform.twitter.com/widgets.js\" charset=\"utf-8\"></script>\\n')\n",
      "1 Record Updated successfully \n",
      "Table After updating record \n",
      "(39, '1221843235384913923', datetime.datetime(2020, 1, 27, 17, 11, 42, tzinfo=psycopg2.tz.FixedOffsetTimezone(offset=0, name=None)), 'To all the healthcare workers, airline crews - pilots , cabin crew, ground staff, airport staff. police, immigration officers.. THANK YOU. You are doing a great job working for the nation despite of the current threat of Coronavirus', 'positive', 35, '<blockquote class=\"twitter-tweet\"><p lang=\"en\" dir=\"ltr\">To all the healthcare workers, airline crews - pilots , cabin crew, ground staff, airport staff. police, immigration officers.. THANK YOU.<br><br>You are doing a great job working for the nation despite of the current threat of Coronavirus .</p>&mdash; Nimelesh (@HausofHilton) <a href=\"https://twitter.com/HausofHilton/status/1220909818401054720?ref_src=twsrc%5Etfw\">January 25, 2020</a></blockquote>\\n<script async src=\"https://platform.twitter.com/widgets.js\" charset=\"utf-8\"></script>\\n')\n",
      "PostgreSQL connection is closed\n",
      "Table Before updating record \n",
      "(40, '1221843233795215361', datetime.datetime(2020, 1, 27, 17, 11, 42, tzinfo=psycopg2.tz.FixedOffsetTimezone(offset=0, name=None)), 'Ive just came back in Hong Kong from the trip. Every single person wearing mask here at Hong Kong Airport because of the coronavirus.. hope everybody will be safe! Take care of', 'negative', 36, '<blockquote class=\"twitter-tweet\"><p lang=\"en\" dir=\"ltr\">I’ve just came back in Hong Kong from the trip. Every single person wearing mask 😷 here at Hong Kong Airport because of the coronavirus.. hope everybody will be safe! Take care of yourself!</p>&mdash; Soo Choi⁷ 💜 came back in HK (@choi_bts2) <a href=\"https://twitter.com/choi_bts2/status/1221814035512848387?ref_src=twsrc%5Etfw\">January 27, 2020</a></blockquote>\\n<script async src=\"https://platform.twitter.com/widgets.js\" charset=\"utf-8\"></script>\\n')\n",
      "1 Record Updated successfully \n",
      "Table After updating record \n",
      "(40, '1221843233795215361', datetime.datetime(2020, 1, 27, 17, 11, 42, tzinfo=psycopg2.tz.FixedOffsetTimezone(offset=0, name=None)), 'Ive just came back in Hong Kong from the trip. Every single person wearing mask here at Hong Kong Airport because of the coronavirus.. hope everybody will be safe! Take care of', 'positive', 36, '<blockquote class=\"twitter-tweet\"><p lang=\"en\" dir=\"ltr\">I’ve just came back in Hong Kong from the trip. Every single person wearing mask 😷 here at Hong Kong Airport because of the coronavirus.. hope everybody will be safe! Take care of yourself!</p>&mdash; Soo Choi⁷ 💜 came back in HK (@choi_bts2) <a href=\"https://twitter.com/choi_bts2/status/1221814035512848387?ref_src=twsrc%5Etfw\">January 27, 2020</a></blockquote>\\n<script async src=\"https://platform.twitter.com/widgets.js\" charset=\"utf-8\"></script>\\n')\n",
      "PostgreSQL connection is closed\n",
      "Table Before updating record \n",
      "(41, '1221843225826283522', datetime.datetime(2020, 1, 27, 17, 11, 40, tzinfo=psycopg2.tz.FixedOffsetTimezone(offset=0, name=None)), 'yall my moms arguing with my dad on the phone because of some real-estate fees and telling him this is americas last chance and shes been waiting for one last reason to leave balad bint 60 weshka ready and dressed to head to the airport like shit lady take me with', 'negative', 37, '<blockquote class=\"twitter-tweet\"><p lang=\"en\" dir=\"ltr\">yall my moms arguing with my dad on the phone because of some real-estate fees and telling him this is americas last chance and shes been waiting for one last reason to leave “el balad bint 60 weshka” ready and dressed to head to the airport like shit lady take me with u</p>&mdash; nadin (@pissykitty123) <a href=\"https://twitter.com/pissykitty123/status/1221843225826283522?ref_src=twsrc%5Etfw\">January 27, 2020</a></blockquote>\\n<script async src=\"https://platform.twitter.com/widgets.js\" charset=\"utf-8\"></script>\\n')\n"
     ]
    },
    {
     "name": "stdout",
     "output_type": "stream",
     "text": [
      "1 Record Updated successfully \n",
      "Table After updating record \n",
      "(41, '1221843225826283522', datetime.datetime(2020, 1, 27, 17, 11, 40, tzinfo=psycopg2.tz.FixedOffsetTimezone(offset=0, name=None)), 'yall my moms arguing with my dad on the phone because of some real-estate fees and telling him this is americas last chance and shes been waiting for one last reason to leave balad bint 60 weshka ready and dressed to head to the airport like shit lady take me with', 'negative', 37, '<blockquote class=\"twitter-tweet\"><p lang=\"en\" dir=\"ltr\">yall my moms arguing with my dad on the phone because of some real-estate fees and telling him this is americas last chance and shes been waiting for one last reason to leave “el balad bint 60 weshka” ready and dressed to head to the airport like shit lady take me with u</p>&mdash; nadin (@pissykitty123) <a href=\"https://twitter.com/pissykitty123/status/1221843225826283522?ref_src=twsrc%5Etfw\">January 27, 2020</a></blockquote>\\n<script async src=\"https://platform.twitter.com/widgets.js\" charset=\"utf-8\"></script>\\n')\n",
      "PostgreSQL connection is closed\n",
      "Table Before updating record \n",
      "(42, '1221843212974747653', datetime.datetime(2020, 1, 27, 17, 11, 37, tzinfo=psycopg2.tz.FixedOffsetTimezone(offset=0, name=None)), 'This video shows how South Korea Airport is dealing with โคโรน่าไวรัส from spreading. Cr.ABCnews', 'negative', 38, '<blockquote class=\"twitter-tweet\"><p lang=\"en\" dir=\"ltr\">This video shows how South Korea Airport is dealing with <a href=\"https://twitter.com/hashtag/coronavirus?src=hash&amp;ref_src=twsrc%5Etfw\">#coronavirus</a> <a href=\"https://twitter.com/hashtag/%E0%B9%82%E0%B8%84%E0%B9%82%E0%B8%A3%E0%B8%99%E0%B9%88%E0%B8%B2%E0%B9%84%E0%B8%A7%E0%B8%A3%E0%B8%B1%E0%B8%AA?src=hash&amp;ref_src=twsrc%5Etfw\">#โคโรน่าไวรัส</a> from spreading.<br><br>อยากเห็นแบบนี้ในไทย<br>Cr.ABCnews <a href=\"https://t.co/NUwpYnmYv8\">pic.twitter.com/NUwpYnmYv8</a></p>&mdash; new. (@new_prykm) <a href=\"https://twitter.com/new_prykm/status/1221144387368845312?ref_src=twsrc%5Etfw\">January 25, 2020</a></blockquote>\\n<script async src=\"https://platform.twitter.com/widgets.js\" charset=\"utf-8\"></script>\\n')\n",
      "1 Record Updated successfully \n",
      "Table After updating record \n",
      "(42, '1221843212974747653', datetime.datetime(2020, 1, 27, 17, 11, 37, tzinfo=psycopg2.tz.FixedOffsetTimezone(offset=0, name=None)), 'This video shows how South Korea Airport is dealing with โคโรน่าไวรัส from spreading. Cr.ABCnews', 'positive', 38, '<blockquote class=\"twitter-tweet\"><p lang=\"en\" dir=\"ltr\">This video shows how South Korea Airport is dealing with <a href=\"https://twitter.com/hashtag/coronavirus?src=hash&amp;ref_src=twsrc%5Etfw\">#coronavirus</a> <a href=\"https://twitter.com/hashtag/%E0%B9%82%E0%B8%84%E0%B9%82%E0%B8%A3%E0%B8%99%E0%B9%88%E0%B8%B2%E0%B9%84%E0%B8%A7%E0%B8%A3%E0%B8%B1%E0%B8%AA?src=hash&amp;ref_src=twsrc%5Etfw\">#โคโรน่าไวรัส</a> from spreading.<br><br>อยากเห็นแบบนี้ในไทย<br>Cr.ABCnews <a href=\"https://t.co/NUwpYnmYv8\">pic.twitter.com/NUwpYnmYv8</a></p>&mdash; new. (@new_prykm) <a href=\"https://twitter.com/new_prykm/status/1221144387368845312?ref_src=twsrc%5Etfw\">January 25, 2020</a></blockquote>\\n<script async src=\"https://platform.twitter.com/widgets.js\" charset=\"utf-8\"></script>\\n')\n",
      "PostgreSQL connection is closed\n",
      "Table Before updating record \n",
      "(43, '1221843211515129860', datetime.datetime(2020, 1, 27, 17, 11, 37, tzinfo=psycopg2.tz.FixedOffsetTimezone(offset=0, name=None)), 'Gucci Global Ambassador, Kai from EXO has worn several pieces from Gucci Mens Cruise 2020 line Wonder which pieces hell wear to the airport tomorrow/day after that (?)', 'negative', 39, '<blockquote class=\"twitter-tweet\"><p lang=\"en\" dir=\"ltr\">Gucci Global Ambassador, Kai from EXO has worn several pieces from Gucci Men’s Cruise 2020 line<br><br>Wonder which pieces he’ll wear to the airport tomorrow/day after that (?) <a href=\"https://t.co/4OIoqAANne\">pic.twitter.com/4OIoqAANne</a></p>&mdash; Jongin is babie (@GucciLovesKai) <a href=\"https://twitter.com/GucciLovesKai/status/1221843089410551812?ref_src=twsrc%5Etfw\">January 27, 2020</a></blockquote>\\n<script async src=\"https://platform.twitter.com/widgets.js\" charset=\"utf-8\"></script>\\n')\n",
      "1 Record Updated successfully \n",
      "Table After updating record \n",
      "(43, '1221843211515129860', datetime.datetime(2020, 1, 27, 17, 11, 37, tzinfo=psycopg2.tz.FixedOffsetTimezone(offset=0, name=None)), 'Gucci Global Ambassador, Kai from EXO has worn several pieces from Gucci Mens Cruise 2020 line Wonder which pieces hell wear to the airport tomorrow/day after that (?)', 'negative', 39, '<blockquote class=\"twitter-tweet\"><p lang=\"en\" dir=\"ltr\">Gucci Global Ambassador, Kai from EXO has worn several pieces from Gucci Men’s Cruise 2020 line<br><br>Wonder which pieces he’ll wear to the airport tomorrow/day after that (?) <a href=\"https://t.co/4OIoqAANne\">pic.twitter.com/4OIoqAANne</a></p>&mdash; Jongin is babie (@GucciLovesKai) <a href=\"https://twitter.com/GucciLovesKai/status/1221843089410551812?ref_src=twsrc%5Etfw\">January 27, 2020</a></blockquote>\\n<script async src=\"https://platform.twitter.com/widgets.js\" charset=\"utf-8\"></script>\\n')\n",
      "PostgreSQL connection is closed\n",
      "Table Before updating record \n",
      "(44, '1221843211083116547', datetime.datetime(2020, 1, 27, 17, 11, 36, tzinfo=psycopg2.tz.FixedOffsetTimezone(offset=0, name=None)), 'BREAKING: Sir David King to support Extinction Rebellion defendants at trial for London City Airport protest Former chief scientific adviser to the UK government will cite the role\" of XR in raising awareness about the Climate Emergency', 'negative', 40, '<blockquote class=\"twitter-tweet\"><p lang=\"en\" dir=\"ltr\">BREAKING: Sir David King to support <a href=\"https://twitter.com/hashtag/ExtinctionRebellion?src=hash&amp;ref_src=twsrc%5Etfw\">#ExtinctionRebellion</a> defendants at trial for London City Airport protest<br><br>Former chief scientific adviser to the UK government will cite the “important role&quot; of XR in raising awareness about the <a href=\"https://twitter.com/hashtag/ClimateEmergency?src=hash&amp;ref_src=twsrc%5Etfw\">#ClimateEmergency</a><a href=\"https://t.co/diGWugsH0d\">https://t.co/diGWugsH0d</a></p>&mdash; Extinction Rebellion UK 🌍 (@XRebellionUK) <a href=\"https://twitter.com/XRebellionUK/status/1221806449820676096?ref_src=twsrc%5Etfw\">January 27, 2020</a></blockquote>\\n<script async src=\"https://platform.twitter.com/widgets.js\" charset=\"utf-8\"></script>\\n')\n",
      "1 Record Updated successfully \n",
      "Table After updating record \n",
      "(44, '1221843211083116547', datetime.datetime(2020, 1, 27, 17, 11, 36, tzinfo=psycopg2.tz.FixedOffsetTimezone(offset=0, name=None)), 'BREAKING: Sir David King to support Extinction Rebellion defendants at trial for London City Airport protest Former chief scientific adviser to the UK government will cite the role\" of XR in raising awareness about the Climate Emergency', 'positive', 40, '<blockquote class=\"twitter-tweet\"><p lang=\"en\" dir=\"ltr\">BREAKING: Sir David King to support <a href=\"https://twitter.com/hashtag/ExtinctionRebellion?src=hash&amp;ref_src=twsrc%5Etfw\">#ExtinctionRebellion</a> defendants at trial for London City Airport protest<br><br>Former chief scientific adviser to the UK government will cite the “important role&quot; of XR in raising awareness about the <a href=\"https://twitter.com/hashtag/ClimateEmergency?src=hash&amp;ref_src=twsrc%5Etfw\">#ClimateEmergency</a><a href=\"https://t.co/diGWugsH0d\">https://t.co/diGWugsH0d</a></p>&mdash; Extinction Rebellion UK 🌍 (@XRebellionUK) <a href=\"https://twitter.com/XRebellionUK/status/1221806449820676096?ref_src=twsrc%5Etfw\">January 27, 2020</a></blockquote>\\n<script async src=\"https://platform.twitter.com/widgets.js\" charset=\"utf-8\"></script>\\n')\n",
      "PostgreSQL connection is closed\n",
      "Table Before updating record \n",
      "(45, '1221843205324337155', datetime.datetime(2020, 1, 27, 17, 11, 35, tzinfo=psycopg2.tz.FixedOffsetTimezone(offset=0, name=None)), '[NEWS PIC] 200127 Sehun in Gimpo Airport Departure. E X Oonearewe @weareoneEXO @exoonearewe', 'negative', 41, '<blockquote class=\"twitter-tweet\"><p lang=\"en\" dir=\"ltr\">[NEWS PIC] 200127 Sehun in Gimpo Airport Departure.<a href=\"https://t.co/8i1E4bzvU8\">https://t.co/8i1E4bzvU8</a><a href=\"https://t.co/4MzbCnMp0b\">https://t.co/4MzbCnMp0b</a><a href=\"https://t.co/1tlvSpubBX\">https://t.co/1tlvSpubBX</a><a href=\"https://t.co/knNk09Q572\">https://t.co/knNk09Q572</a><a href=\"https://twitter.com/hashtag/EXO?src=hash&amp;ref_src=twsrc%5Etfw\">#EXO</a> <a href=\"https://twitter.com/hashtag/%EC%97%91%EC%86%8C?src=hash&amp;ref_src=twsrc%5Etfw\">#엑소</a> <a href=\"https://twitter.com/hashtag/SEHUN?src=hash&amp;ref_src=twsrc%5Etfw\">#SEHUN</a> <a href=\"https://twitter.com/hashtag/%EC%84%B8%ED%9B%88?src=hash&amp;ref_src=twsrc%5Etfw\">#세훈</a><a href=\"https://twitter.com/hashtag/OBSESSION?src=hash&amp;ref_src=twsrc%5Etfw\">#OBSESSION</a> <a href=\"https://twitter.com/hashtag/weareoneEXO?src=hash&amp;ref_src=twsrc%5Etfw\">#weareoneEXO</a> <a href=\"https://twitter.com/hashtag/EXOonearewe?src=hash&amp;ref_src=twsrc%5Etfw\">#EXOonearewe</a><a href=\"https://twitter.com/weareoneEXO?ref_src=twsrc%5Etfw\">@weareoneEXO</a> <a href=\"https://twitter.com/exoonearewe?ref_src=twsrc%5Etfw\">@exoonearewe</a> <a href=\"https://t.co/83CLbMrAgg\">pic.twitter.com/83CLbMrAgg</a></p>&mdash; EXOXOXOID (@EXOXOXOID) <a href=\"https://twitter.com/EXOXOXOID/status/1221678608466333697?ref_src=twsrc%5Etfw\">January 27, 2020</a></blockquote>\\n<script async src=\"https://platform.twitter.com/widgets.js\" charset=\"utf-8\"></script>\\n')\n"
     ]
    },
    {
     "name": "stdout",
     "output_type": "stream",
     "text": [
      "1 Record Updated successfully \n",
      "Table After updating record \n",
      "(45, '1221843205324337155', datetime.datetime(2020, 1, 27, 17, 11, 35, tzinfo=psycopg2.tz.FixedOffsetTimezone(offset=0, name=None)), '[NEWS PIC] 200127 Sehun in Gimpo Airport Departure. E X Oonearewe @weareoneEXO @exoonearewe', 'negative', 41, '<blockquote class=\"twitter-tweet\"><p lang=\"en\" dir=\"ltr\">[NEWS PIC] 200127 Sehun in Gimpo Airport Departure.<a href=\"https://t.co/8i1E4bzvU8\">https://t.co/8i1E4bzvU8</a><a href=\"https://t.co/4MzbCnMp0b\">https://t.co/4MzbCnMp0b</a><a href=\"https://t.co/1tlvSpubBX\">https://t.co/1tlvSpubBX</a><a href=\"https://t.co/knNk09Q572\">https://t.co/knNk09Q572</a><a href=\"https://twitter.com/hashtag/EXO?src=hash&amp;ref_src=twsrc%5Etfw\">#EXO</a> <a href=\"https://twitter.com/hashtag/%EC%97%91%EC%86%8C?src=hash&amp;ref_src=twsrc%5Etfw\">#엑소</a> <a href=\"https://twitter.com/hashtag/SEHUN?src=hash&amp;ref_src=twsrc%5Etfw\">#SEHUN</a> <a href=\"https://twitter.com/hashtag/%EC%84%B8%ED%9B%88?src=hash&amp;ref_src=twsrc%5Etfw\">#세훈</a><a href=\"https://twitter.com/hashtag/OBSESSION?src=hash&amp;ref_src=twsrc%5Etfw\">#OBSESSION</a> <a href=\"https://twitter.com/hashtag/weareoneEXO?src=hash&amp;ref_src=twsrc%5Etfw\">#weareoneEXO</a> <a href=\"https://twitter.com/hashtag/EXOonearewe?src=hash&amp;ref_src=twsrc%5Etfw\">#EXOonearewe</a><a href=\"https://twitter.com/weareoneEXO?ref_src=twsrc%5Etfw\">@weareoneEXO</a> <a href=\"https://twitter.com/exoonearewe?ref_src=twsrc%5Etfw\">@exoonearewe</a> <a href=\"https://t.co/83CLbMrAgg\">pic.twitter.com/83CLbMrAgg</a></p>&mdash; EXOXOXOID (@EXOXOXOID) <a href=\"https://twitter.com/EXOXOXOID/status/1221678608466333697?ref_src=twsrc%5Etfw\">January 27, 2020</a></blockquote>\\n<script async src=\"https://platform.twitter.com/widgets.js\" charset=\"utf-8\"></script>\\n')\n",
      "PostgreSQL connection is closed\n",
      "Table Before updating record \n",
      "(55, '1221843234722177025', datetime.datetime(2020, 1, 27, 17, 11, 42, tzinfo=psycopg2.tz.FixedOffsetTimezone(offset=0, name=None)), 'The Taliban has claimed a US forces aircraft crashed in eastern Afghanistan', 'negative', 51, '<blockquote class=\"twitter-tweet\"><p lang=\"en\" dir=\"ltr\">The Taliban has claimed a US forces aircraft crashed in eastern Afghanistan <a href=\"https://t.co/BKj7mYzGdR\">https://t.co/BKj7mYzGdR</a> <a href=\"https://t.co/DmfUiqvHQm\">pic.twitter.com/DmfUiqvHQm</a></p>&mdash; Al Jazeera English (@AJEnglish) <a href=\"https://twitter.com/AJEnglish/status/1221840265134116864?ref_src=twsrc%5Etfw\">January 27, 2020</a></blockquote>\\n<script async src=\"https://platform.twitter.com/widgets.js\" charset=\"utf-8\"></script>\\n')\n",
      "1 Record Updated successfully \n",
      "Table After updating record \n",
      "(55, '1221843234722177025', datetime.datetime(2020, 1, 27, 17, 11, 42, tzinfo=psycopg2.tz.FixedOffsetTimezone(offset=0, name=None)), 'The Taliban has claimed a US forces aircraft crashed in eastern Afghanistan', 'negative', 51, '<blockquote class=\"twitter-tweet\"><p lang=\"en\" dir=\"ltr\">The Taliban has claimed a US forces aircraft crashed in eastern Afghanistan <a href=\"https://t.co/BKj7mYzGdR\">https://t.co/BKj7mYzGdR</a> <a href=\"https://t.co/DmfUiqvHQm\">pic.twitter.com/DmfUiqvHQm</a></p>&mdash; Al Jazeera English (@AJEnglish) <a href=\"https://twitter.com/AJEnglish/status/1221840265134116864?ref_src=twsrc%5Etfw\">January 27, 2020</a></blockquote>\\n<script async src=\"https://platform.twitter.com/widgets.js\" charset=\"utf-8\"></script>\\n')\n",
      "PostgreSQL connection is closed\n",
      "Table Before updating record \n",
      "(46, '1221843239981871108', datetime.datetime(2020, 1, 27, 17, 11, 43, tzinfo=psycopg2.tz.FixedOffsetTimezone(offset=0, name=None)), 'U.S. military plane crashes in Afghanistan, Taliban claims responsibility U.S. officials, speaking on the condition of anonymity, said there were no indications so far that the plane had been brought down by enemy activity', 'negative', 42, '<blockquote class=\"twitter-tweet\"><p lang=\"en\" dir=\"ltr\">U.S. military plane crashes in Afghanistan, Taliban claims responsibility<br><br>U.S. officials, speaking on the condition of anonymity, said there were no indications so far that the plane had been brought down by enemy activity<a href=\"https://t.co/APfiwqq7Ox\">https://t.co/APfiwqq7Ox</a></p>&mdash; ROB 🇺🇲 (@_ROB_29) <a href=\"https://twitter.com/_ROB_29/status/1221841772952743936?ref_src=twsrc%5Etfw\">January 27, 2020</a></blockquote>\\n<script async src=\"https://platform.twitter.com/widgets.js\" charset=\"utf-8\"></script>\\n')\n",
      "1 Record Updated successfully \n",
      "Table After updating record \n",
      "(46, '1221843239981871108', datetime.datetime(2020, 1, 27, 17, 11, 43, tzinfo=psycopg2.tz.FixedOffsetTimezone(offset=0, name=None)), 'U.S. military plane crashes in Afghanistan, Taliban claims responsibility U.S. officials, speaking on the condition of anonymity, said there were no indications so far that the plane had been brought down by enemy activity', 'negative', 42, '<blockquote class=\"twitter-tweet\"><p lang=\"en\" dir=\"ltr\">U.S. military plane crashes in Afghanistan, Taliban claims responsibility<br><br>U.S. officials, speaking on the condition of anonymity, said there were no indications so far that the plane had been brought down by enemy activity<a href=\"https://t.co/APfiwqq7Ox\">https://t.co/APfiwqq7Ox</a></p>&mdash; ROB 🇺🇲 (@_ROB_29) <a href=\"https://twitter.com/_ROB_29/status/1221841772952743936?ref_src=twsrc%5Etfw\">January 27, 2020</a></blockquote>\\n<script async src=\"https://platform.twitter.com/widgets.js\" charset=\"utf-8\"></script>\\n')\n",
      "PostgreSQL connection is closed\n",
      "Table Before updating record \n",
      "(47, '1221843190422167558', datetime.datetime(2020, 1, 27, 17, 11, 32, tzinfo=psycopg2.tz.FixedOffsetTimezone(offset=0, name=None)), 'A Libyan Airlines airplane en route from Tripoli to Istanbul has returned to Mitiga Airport and made an emergency landing 20 minutes after takeoff because of a technical issue. All the 170 passengers and crew members are safe.', 'negative', 43, '<blockquote class=\"twitter-tweet\"><p lang=\"en\" dir=\"ltr\">A Libyan Airlines airplane en route from <a href=\"https://twitter.com/hashtag/Tripoli?src=hash&amp;ref_src=twsrc%5Etfw\">#Tripoli</a> to <a href=\"https://twitter.com/hashtag/Istanbul?src=hash&amp;ref_src=twsrc%5Etfw\">#Istanbul</a> has returned to Mitiga Airport and made an emergency landing 20 minutes after takeoff because of a technical issue. All the 170 passengers and crew members are safe. <a href=\"https://t.co/YedsTGJL9Y\">pic.twitter.com/YedsTGJL9Y</a></p>&mdash; The Libya Observer (@Lyobserver) <a href=\"https://twitter.com/Lyobserver/status/1221841745060749313?ref_src=twsrc%5Etfw\">January 27, 2020</a></blockquote>\\n<script async src=\"https://platform.twitter.com/widgets.js\" charset=\"utf-8\"></script>\\n')\n",
      "1 Record Updated successfully \n",
      "Table After updating record \n",
      "(47, '1221843190422167558', datetime.datetime(2020, 1, 27, 17, 11, 32, tzinfo=psycopg2.tz.FixedOffsetTimezone(offset=0, name=None)), 'A Libyan Airlines airplane en route from Tripoli to Istanbul has returned to Mitiga Airport and made an emergency landing 20 minutes after takeoff because of a technical issue. All the 170 passengers and crew members are safe.', 'positive', 43, '<blockquote class=\"twitter-tweet\"><p lang=\"en\" dir=\"ltr\">A Libyan Airlines airplane en route from <a href=\"https://twitter.com/hashtag/Tripoli?src=hash&amp;ref_src=twsrc%5Etfw\">#Tripoli</a> to <a href=\"https://twitter.com/hashtag/Istanbul?src=hash&amp;ref_src=twsrc%5Etfw\">#Istanbul</a> has returned to Mitiga Airport and made an emergency landing 20 minutes after takeoff because of a technical issue. All the 170 passengers and crew members are safe. <a href=\"https://t.co/YedsTGJL9Y\">pic.twitter.com/YedsTGJL9Y</a></p>&mdash; The Libya Observer (@Lyobserver) <a href=\"https://twitter.com/Lyobserver/status/1221841745060749313?ref_src=twsrc%5Etfw\">January 27, 2020</a></blockquote>\\n<script async src=\"https://platform.twitter.com/widgets.js\" charset=\"utf-8\"></script>\\n')\n",
      "PostgreSQL connection is closed\n",
      "Table Before updating record \n",
      "(48, '1221843185099530243', datetime.datetime(2020, 1, 27, 17, 11, 30, tzinfo=psycopg2.tz.FixedOffsetTimezone(offset=0, name=None)), 'Surrealistic Pillow by Jefferson Airplane blended powerful pop tunes with the hallucinatory vibes of the late 60s L Pof The Week', 'negative', 44, '<blockquote class=\"twitter-tweet\"><p lang=\"en\" dir=\"ltr\">Surrealistic Pillow by Jefferson Airplane blended powerful pop tunes with the hallucinatory vibes of the late 60s <a href=\"https://twitter.com/hashtag/LPofTheWeek?src=hash&amp;ref_src=twsrc%5Etfw\">#LPofTheWeek</a> <a href=\"https://t.co/mTEvIK8jrs\">pic.twitter.com/mTEvIK8jrs</a></p>&mdash; Joes Camden (@JoesCamden) <a href=\"https://twitter.com/JoesCamden/status/1221843185099530243?ref_src=twsrc%5Etfw\">January 27, 2020</a></blockquote>\\n<script async src=\"https://platform.twitter.com/widgets.js\" charset=\"utf-8\"></script>\\n')\n"
     ]
    },
    {
     "name": "stdout",
     "output_type": "stream",
     "text": [
      "1 Record Updated successfully \n",
      "Table After updating record \n",
      "(48, '1221843185099530243', datetime.datetime(2020, 1, 27, 17, 11, 30, tzinfo=psycopg2.tz.FixedOffsetTimezone(offset=0, name=None)), 'Surrealistic Pillow by Jefferson Airplane blended powerful pop tunes with the hallucinatory vibes of the late 60s L Pof The Week', 'positive', 44, '<blockquote class=\"twitter-tweet\"><p lang=\"en\" dir=\"ltr\">Surrealistic Pillow by Jefferson Airplane blended powerful pop tunes with the hallucinatory vibes of the late 60s <a href=\"https://twitter.com/hashtag/LPofTheWeek?src=hash&amp;ref_src=twsrc%5Etfw\">#LPofTheWeek</a> <a href=\"https://t.co/mTEvIK8jrs\">pic.twitter.com/mTEvIK8jrs</a></p>&mdash; Joes Camden (@JoesCamden) <a href=\"https://twitter.com/JoesCamden/status/1221843185099530243?ref_src=twsrc%5Etfw\">January 27, 2020</a></blockquote>\\n<script async src=\"https://platform.twitter.com/widgets.js\" charset=\"utf-8\"></script>\\n')\n",
      "PostgreSQL connection is closed\n",
      "Table Before updating record \n",
      "(49, '1221843161309503493', datetime.datetime(2020, 1, 27, 17, 11, 25, tzinfo=psycopg2.tz.FixedOffsetTimezone(offset=0, name=None)), 'Wow! What a shot from an airplane flying above the fog over Dallas! (THIS is why I always choose the window seat over an aisle). Thanks to Ross Hardin for sending it in. N B C D F W Weather', 'negative', 45, '<blockquote class=\"twitter-tweet\"><p lang=\"en\" dir=\"ltr\">Wow! What a shot from an airplane flying above the fog over Dallas! (THIS is why I always choose the window seat over an aisle). Thanks to Ross Hardin for sending it in.  <a href=\"https://twitter.com/hashtag/NBCDFWWeather?src=hash&amp;ref_src=twsrc%5Etfw\">#NBCDFWWeather</a> <a href=\"https://t.co/H6oXywGpvr\">pic.twitter.com/H6oXywGpvr</a></p>&mdash; Grant Johnston (@GrantJNBC5) <a href=\"https://twitter.com/GrantJNBC5/status/1221823278953779200?ref_src=twsrc%5Etfw\">January 27, 2020</a></blockquote>\\n<script async src=\"https://platform.twitter.com/widgets.js\" charset=\"utf-8\"></script>\\n')\n",
      "1 Record Updated successfully \n",
      "Table After updating record \n",
      "(49, '1221843161309503493', datetime.datetime(2020, 1, 27, 17, 11, 25, tzinfo=psycopg2.tz.FixedOffsetTimezone(offset=0, name=None)), 'Wow! What a shot from an airplane flying above the fog over Dallas! (THIS is why I always choose the window seat over an aisle). Thanks to Ross Hardin for sending it in. N B C D F W Weather', 'negative', 45, '<blockquote class=\"twitter-tweet\"><p lang=\"en\" dir=\"ltr\">Wow! What a shot from an airplane flying above the fog over Dallas! (THIS is why I always choose the window seat over an aisle). Thanks to Ross Hardin for sending it in.  <a href=\"https://twitter.com/hashtag/NBCDFWWeather?src=hash&amp;ref_src=twsrc%5Etfw\">#NBCDFWWeather</a> <a href=\"https://t.co/H6oXywGpvr\">pic.twitter.com/H6oXywGpvr</a></p>&mdash; Grant Johnston (@GrantJNBC5) <a href=\"https://twitter.com/GrantJNBC5/status/1221823278953779200?ref_src=twsrc%5Etfw\">January 27, 2020</a></blockquote>\\n<script async src=\"https://platform.twitter.com/widgets.js\" charset=\"utf-8\"></script>\\n')\n",
      "PostgreSQL connection is closed\n",
      "Table Before updating record \n",
      "(50, '1221843117994840064', datetime.datetime(2020, 1, 27, 17, 11, 14, tzinfo=psycopg2.tz.FixedOffsetTimezone(offset=0, name=None)), 'from The United States XK DHC-2 A600 4CH 2.4G Brushless Motor 3D6G RC Airplane 6 Axis Glider Airplane Drone RC Quadcopter Remote Control RC Helicopter Plane Drones Beginners (Yellow)', 'negative', 46, '<blockquote class=\"twitter-tweet\"><p lang=\"en\" dir=\"ltr\">✈Shipping from The United States✈ XK DHC-2 A600 4CH 2.4G Brushless Motor 3D6G RC Airplane 6 Axis Glider Airplane Drone RC Quadcopter Remote Control RC Helicopter Plane Drones Beginners\\xa0(Yellow) <a href=\"https://t.co/3VREENbC9v\">https://t.co/3VREENbC9v</a> <a href=\"https://t.co/w6mCIlaUAQ\">pic.twitter.com/w6mCIlaUAQ</a></p>&mdash; DroneOnTheMoon.Com (@droneonthemoon) <a href=\"https://twitter.com/droneonthemoon/status/1221843117994840064?ref_src=twsrc%5Etfw\">January 27, 2020</a></blockquote>\\n<script async src=\"https://platform.twitter.com/widgets.js\" charset=\"utf-8\"></script>\\n')\n",
      "1 Record Updated successfully \n",
      "Table After updating record \n",
      "(50, '1221843117994840064', datetime.datetime(2020, 1, 27, 17, 11, 14, tzinfo=psycopg2.tz.FixedOffsetTimezone(offset=0, name=None)), 'from The United States XK DHC-2 A600 4CH 2.4G Brushless Motor 3D6G RC Airplane 6 Axis Glider Airplane Drone RC Quadcopter Remote Control RC Helicopter Plane Drones Beginners (Yellow)', 'negative', 46, '<blockquote class=\"twitter-tweet\"><p lang=\"en\" dir=\"ltr\">✈Shipping from The United States✈ XK DHC-2 A600 4CH 2.4G Brushless Motor 3D6G RC Airplane 6 Axis Glider Airplane Drone RC Quadcopter Remote Control RC Helicopter Plane Drones Beginners\\xa0(Yellow) <a href=\"https://t.co/3VREENbC9v\">https://t.co/3VREENbC9v</a> <a href=\"https://t.co/w6mCIlaUAQ\">pic.twitter.com/w6mCIlaUAQ</a></p>&mdash; DroneOnTheMoon.Com (@droneonthemoon) <a href=\"https://twitter.com/droneonthemoon/status/1221843117994840064?ref_src=twsrc%5Etfw\">January 27, 2020</a></blockquote>\\n<script async src=\"https://platform.twitter.com/widgets.js\" charset=\"utf-8\"></script>\\n')\n",
      "PostgreSQL connection is closed\n",
      "Table Before updating record \n",
      "(51, '1221843117936201728', datetime.datetime(2020, 1, 27, 17, 11, 14, tzinfo=psycopg2.tz.FixedOffsetTimezone(offset=0, name=None)), 'Breaking: New Footage Of The Downed US Military Airplane Claimed By The Taliban In Afghanistan Today U Svs Taliban', 'negative', 47, '<blockquote class=\"twitter-tweet\"><p lang=\"en\" dir=\"ltr\">Breaking:<br><br>New Footage Of The Downed US Military Airplane Claimed By The Taliban In Afghanistan Today<a href=\"https://twitter.com/hashtag/USA?src=hash&amp;ref_src=twsrc%5Etfw\">#USA</a> <a href=\"https://twitter.com/hashtag/Iran?src=hash&amp;ref_src=twsrc%5Etfw\">#Iran</a> <a href=\"https://twitter.com/hashtag/Iraq?src=hash&amp;ref_src=twsrc%5Etfw\">#Iraq</a> <a href=\"https://twitter.com/hashtag/UK?src=hash&amp;ref_src=twsrc%5Etfw\">#UK</a> <a href=\"https://twitter.com/hashtag/Russia?src=hash&amp;ref_src=twsrc%5Etfw\">#Russia</a> <a href=\"https://twitter.com/hashtag/America?src=hash&amp;ref_src=twsrc%5Etfw\">#America</a> <a href=\"https://twitter.com/hashtag/US?src=hash&amp;ref_src=twsrc%5Etfw\">#US</a> <a href=\"https://twitter.com/hashtag/Afghanistan?src=hash&amp;ref_src=twsrc%5Etfw\">#Afghanistan</a> <a href=\"https://twitter.com/hashtag/Kabul?src=hash&amp;ref_src=twsrc%5Etfw\">#Kabul</a> <a href=\"https://twitter.com/hashtag/Taliban?src=hash&amp;ref_src=twsrc%5Etfw\">#Taliban</a> <a href=\"https://twitter.com/hashtag/Yemen?src=hash&amp;ref_src=twsrc%5Etfw\">#Yemen</a> <a href=\"https://twitter.com/hashtag/SaudiArabia?src=hash&amp;ref_src=twsrc%5Etfw\">#SaudiArabia</a> <a href=\"https://twitter.com/hashtag/Tehran?src=hash&amp;ref_src=twsrc%5Etfw\">#Tehran</a> <a href=\"https://twitter.com/hashtag/War?src=hash&amp;ref_src=twsrc%5Etfw\">#War</a> <a href=\"https://twitter.com/hashtag/France?src=hash&amp;ref_src=twsrc%5Etfw\">#France</a> <a href=\"https://twitter.com/hashtag/China?src=hash&amp;ref_src=twsrc%5Etfw\">#China</a> <a href=\"https://twitter.com/hashtag/USvsTaliban?src=hash&amp;ref_src=twsrc%5Etfw\">#USvsTaliban</a> <a href=\"https://t.co/HpU0e885P5\">pic.twitter.com/HpU0e885P5</a></p>&mdash; Shirdoon (@Shirdoon5) <a href=\"https://twitter.com/Shirdoon5/status/1221834444044210176?ref_src=twsrc%5Etfw\">January 27, 2020</a></blockquote>\\n<script async src=\"https://platform.twitter.com/widgets.js\" charset=\"utf-8\"></script>\\n')\n",
      "1 Record Updated successfully \n",
      "Table After updating record \n",
      "(51, '1221843117936201728', datetime.datetime(2020, 1, 27, 17, 11, 14, tzinfo=psycopg2.tz.FixedOffsetTimezone(offset=0, name=None)), 'Breaking: New Footage Of The Downed US Military Airplane Claimed By The Taliban In Afghanistan Today U Svs Taliban', 'positive', 47, '<blockquote class=\"twitter-tweet\"><p lang=\"en\" dir=\"ltr\">Breaking:<br><br>New Footage Of The Downed US Military Airplane Claimed By The Taliban In Afghanistan Today<a href=\"https://twitter.com/hashtag/USA?src=hash&amp;ref_src=twsrc%5Etfw\">#USA</a> <a href=\"https://twitter.com/hashtag/Iran?src=hash&amp;ref_src=twsrc%5Etfw\">#Iran</a> <a href=\"https://twitter.com/hashtag/Iraq?src=hash&amp;ref_src=twsrc%5Etfw\">#Iraq</a> <a href=\"https://twitter.com/hashtag/UK?src=hash&amp;ref_src=twsrc%5Etfw\">#UK</a> <a href=\"https://twitter.com/hashtag/Russia?src=hash&amp;ref_src=twsrc%5Etfw\">#Russia</a> <a href=\"https://twitter.com/hashtag/America?src=hash&amp;ref_src=twsrc%5Etfw\">#America</a> <a href=\"https://twitter.com/hashtag/US?src=hash&amp;ref_src=twsrc%5Etfw\">#US</a> <a href=\"https://twitter.com/hashtag/Afghanistan?src=hash&amp;ref_src=twsrc%5Etfw\">#Afghanistan</a> <a href=\"https://twitter.com/hashtag/Kabul?src=hash&amp;ref_src=twsrc%5Etfw\">#Kabul</a> <a href=\"https://twitter.com/hashtag/Taliban?src=hash&amp;ref_src=twsrc%5Etfw\">#Taliban</a> <a href=\"https://twitter.com/hashtag/Yemen?src=hash&amp;ref_src=twsrc%5Etfw\">#Yemen</a> <a href=\"https://twitter.com/hashtag/SaudiArabia?src=hash&amp;ref_src=twsrc%5Etfw\">#SaudiArabia</a> <a href=\"https://twitter.com/hashtag/Tehran?src=hash&amp;ref_src=twsrc%5Etfw\">#Tehran</a> <a href=\"https://twitter.com/hashtag/War?src=hash&amp;ref_src=twsrc%5Etfw\">#War</a> <a href=\"https://twitter.com/hashtag/France?src=hash&amp;ref_src=twsrc%5Etfw\">#France</a> <a href=\"https://twitter.com/hashtag/China?src=hash&amp;ref_src=twsrc%5Etfw\">#China</a> <a href=\"https://twitter.com/hashtag/USvsTaliban?src=hash&amp;ref_src=twsrc%5Etfw\">#USvsTaliban</a> <a href=\"https://t.co/HpU0e885P5\">pic.twitter.com/HpU0e885P5</a></p>&mdash; Shirdoon (@Shirdoon5) <a href=\"https://twitter.com/Shirdoon5/status/1221834444044210176?ref_src=twsrc%5Etfw\">January 27, 2020</a></blockquote>\\n<script async src=\"https://platform.twitter.com/widgets.js\" charset=\"utf-8\"></script>\\n')\n",
      "PostgreSQL connection is closed\n"
     ]
    },
    {
     "name": "stdout",
     "output_type": "stream",
     "text": [
      "Table Before updating record \n",
      "(52, '1221843103214161920', datetime.datetime(2020, 1, 27, 17, 11, 11, tzinfo=psycopg2.tz.FixedOffsetTimezone(offset=0, name=None)), 'the movie mode on netflix is so', 'negative', 48, '<blockquote class=\"twitter-tweet\"><p lang=\"en\" dir=\"ltr\">the movie “airplane mode” on netflix is so goood</p>&mdash; 𝑛𝑖𝑐𝑜𝑙𝑒 (@ifyouseeenicole) <a href=\"https://twitter.com/ifyouseeenicole/status/1220911954425868288?ref_src=twsrc%5Etfw\">January 25, 2020</a></blockquote>\\n<script async src=\"https://platform.twitter.com/widgets.js\" charset=\"utf-8\"></script>\\n')\n",
      "1 Record Updated successfully \n",
      "Table After updating record \n",
      "(52, '1221843103214161920', datetime.datetime(2020, 1, 27, 17, 11, 11, tzinfo=psycopg2.tz.FixedOffsetTimezone(offset=0, name=None)), 'the movie mode on netflix is so', 'negative', 48, '<blockquote class=\"twitter-tweet\"><p lang=\"en\" dir=\"ltr\">the movie “airplane mode” on netflix is so goood</p>&mdash; 𝑛𝑖𝑐𝑜𝑙𝑒 (@ifyouseeenicole) <a href=\"https://twitter.com/ifyouseeenicole/status/1220911954425868288?ref_src=twsrc%5Etfw\">January 25, 2020</a></blockquote>\\n<script async src=\"https://platform.twitter.com/widgets.js\" charset=\"utf-8\"></script>\\n')\n",
      "PostgreSQL connection is closed\n",
      "Table Before updating record \n",
      "(53, '1221843097761480705', datetime.datetime(2020, 1, 27, 17, 11, 9, tzinfo=psycopg2.tz.FixedOffsetTimezone(offset=0, name=None)), '@JohnRMoffitt Beautiful rocks. Apropos of nothing: you know what would be neat, if airplanes came with geology lessons. \"On the left side of the airplane, the ..... is a good example of a ......., which is caused by.......\"', 'negative', 49, '<blockquote class=\"twitter-tweet\"><p lang=\"en\" dir=\"ltr\">Beautiful rocks. Apropos of nothing: you know what would be neat, if airplanes came with geology lessons. &quot;On the left side of the airplane, the ..... is a good example of a ......., which is caused by.......&quot; Heaven.</p>&mdash; Laurie Thomas (@lthomas11) <a href=\"https://twitter.com/lthomas11/status/1221843097761480705?ref_src=twsrc%5Etfw\">January 27, 2020</a></blockquote>\\n<script async src=\"https://platform.twitter.com/widgets.js\" charset=\"utf-8\"></script>\\n')\n",
      "1 Record Updated successfully \n",
      "Table After updating record \n",
      "(53, '1221843097761480705', datetime.datetime(2020, 1, 27, 17, 11, 9, tzinfo=psycopg2.tz.FixedOffsetTimezone(offset=0, name=None)), '@JohnRMoffitt Beautiful rocks. Apropos of nothing: you know what would be neat, if airplanes came with geology lessons. \"On the left side of the airplane, the ..... is a good example of a ......., which is caused by.......\"', 'positive', 49, '<blockquote class=\"twitter-tweet\"><p lang=\"en\" dir=\"ltr\">Beautiful rocks. Apropos of nothing: you know what would be neat, if airplanes came with geology lessons. &quot;On the left side of the airplane, the ..... is a good example of a ......., which is caused by.......&quot; Heaven.</p>&mdash; Laurie Thomas (@lthomas11) <a href=\"https://twitter.com/lthomas11/status/1221843097761480705?ref_src=twsrc%5Etfw\">January 27, 2020</a></blockquote>\\n<script async src=\"https://platform.twitter.com/widgets.js\" charset=\"utf-8\"></script>\\n')\n",
      "PostgreSQL connection is closed\n",
      "Table Before updating record \n",
      "(54, '1221843266120880128', datetime.datetime(2020, 1, 27, 17, 11, 50, tzinfo=psycopg2.tz.FixedOffsetTimezone(offset=0, name=None)), 'A lot of passengers on my American Airlines flight just embraced me, after sharing I am attending the rally in NJ. Woman two rows behind gave me thumbs up. The media would never dare air this info., on a newscast or highlight the growing support for @realDonaldTrump.', 'negative', 50, '<blockquote class=\"twitter-tweet\"><p lang=\"en\" dir=\"ltr\">A lot of passengers on my American Airlines flight just embraced me, after sharing I am attending the rally in NJ.<br><br>Woman two rows behind gave me thumbs up. <br><br>The media would never dare air this info., on a newscast or highlight the growing support for <a href=\"https://twitter.com/realDonaldTrump?ref_src=twsrc%5Etfw\">@realDonaldTrump</a>.<a href=\"https://twitter.com/jepence?ref_src=twsrc%5Etfw\">@jepence</a></p>&mdash; Scott Ford (@ScottFordInOhio) <a href=\"https://twitter.com/ScottFordInOhio/status/1221837466791043072?ref_src=twsrc%5Etfw\">January 27, 2020</a></blockquote>\\n<script async src=\"https://platform.twitter.com/widgets.js\" charset=\"utf-8\"></script>\\n')\n",
      "1 Record Updated successfully \n",
      "Table After updating record \n",
      "(54, '1221843266120880128', datetime.datetime(2020, 1, 27, 17, 11, 50, tzinfo=psycopg2.tz.FixedOffsetTimezone(offset=0, name=None)), 'A lot of passengers on my American Airlines flight just embraced me, after sharing I am attending the rally in NJ. Woman two rows behind gave me thumbs up. The media would never dare air this info., on a newscast or highlight the growing support for @realDonaldTrump.', 'positive', 50, '<blockquote class=\"twitter-tweet\"><p lang=\"en\" dir=\"ltr\">A lot of passengers on my American Airlines flight just embraced me, after sharing I am attending the rally in NJ.<br><br>Woman two rows behind gave me thumbs up. <br><br>The media would never dare air this info., on a newscast or highlight the growing support for <a href=\"https://twitter.com/realDonaldTrump?ref_src=twsrc%5Etfw\">@realDonaldTrump</a>.<a href=\"https://twitter.com/jepence?ref_src=twsrc%5Etfw\">@jepence</a></p>&mdash; Scott Ford (@ScottFordInOhio) <a href=\"https://twitter.com/ScottFordInOhio/status/1221837466791043072?ref_src=twsrc%5Etfw\">January 27, 2020</a></blockquote>\\n<script async src=\"https://platform.twitter.com/widgets.js\" charset=\"utf-8\"></script>\\n')\n",
      "PostgreSQL connection is closed\n",
      "Table Before updating record \n",
      "(57, '1221843011312791553', datetime.datetime(2020, 1, 27, 17, 10, 49, tzinfo=psycopg2.tz.FixedOffsetTimezone(offset=0, name=None)), 'Throwback to that scheme teamcanon @BoeingDefense @AvNewsMag', 'negative', 53, '<blockquote class=\"twitter-tweet\"><p lang=\"en\" dir=\"ltr\">Throwback to that scheme 😍 <a href=\"https://twitter.com/hashtag/avgeek?src=hash&amp;ref_src=twsrc%5Etfw\">#avgeek</a> <a href=\"https://twitter.com/hashtag/avporn?src=hash&amp;ref_src=twsrc%5Etfw\">#avporn</a> <a href=\"https://twitter.com/hashtag/aviation?src=hash&amp;ref_src=twsrc%5Etfw\">#aviation</a> <a href=\"https://twitter.com/hashtag/aviationphotography?src=hash&amp;ref_src=twsrc%5Etfw\">#aviationphotography</a> <a href=\"https://twitter.com/hashtag/aircraft?src=hash&amp;ref_src=twsrc%5Etfw\">#aircraft</a> <a href=\"https://twitter.com/hashtag/airshow?src=hash&amp;ref_src=twsrc%5Etfw\">#airshow</a> <a href=\"https://twitter.com/hashtag/airtattoo?src=hash&amp;ref_src=twsrc%5Etfw\">#airtattoo</a> <a href=\"https://twitter.com/hashtag/boeing?src=hash&amp;ref_src=twsrc%5Etfw\">#boeing</a> <a href=\"https://twitter.com/hashtag/canonaviation?src=hash&amp;ref_src=twsrc%5Etfw\">#canonaviation</a> <a href=\"https://twitter.com/hashtag/cf18?src=hash&amp;ref_src=twsrc%5Etfw\">#cf18</a> <a href=\"https://twitter.com/hashtag/cf18demo?src=hash&amp;ref_src=twsrc%5Etfw\">#cf18demo</a> <a href=\"https://twitter.com/hashtag/f18?src=hash&amp;ref_src=twsrc%5Etfw\">#f18</a> <a href=\"https://twitter.com/hashtag/liveforthestory?src=hash&amp;ref_src=twsrc%5Etfw\">#liveforthestory</a> <a href=\"https://twitter.com/hashtag/planespotting?src=hash&amp;ref_src=twsrc%5Etfw\">#planespotting</a> <a href=\"https://twitter.com/hashtag/photography?src=hash&amp;ref_src=twsrc%5Etfw\">#photography</a> <a href=\"https://twitter.com/hashtag/potn?src=hash&amp;ref_src=twsrc%5Etfw\">#potn</a> <a href=\"https://twitter.com/hashtag/RIAT18?src=hash&amp;ref_src=twsrc%5Etfw\">#RIAT18</a> <a href=\"https://twitter.com/hashtag/rcaf?src=hash&amp;ref_src=twsrc%5Etfw\">#rcaf</a> <a href=\"https://twitter.com/hashtag/sigmauk?src=hash&amp;ref_src=twsrc%5Etfw\">#sigmauk</a> <a href=\"https://twitter.com/hashtag/sigmaphoto?src=hash&amp;ref_src=twsrc%5Etfw\">#sigmaphoto</a> <a href=\"https://twitter.com/hashtag/teamcanon?src=hash&amp;ref_src=twsrc%5Etfw\">#teamcanon</a> <a href=\"https://twitter.com/BoeingDefense?ref_src=twsrc%5Etfw\">@BoeingDefense</a> <a href=\"https://twitter.com/AvNewsMag?ref_src=twsrc%5Etfw\">@AvNewsMag</a> <a href=\"https://t.co/9dHxRdpKk9\">pic.twitter.com/9dHxRdpKk9</a></p>&mdash; Chris Howe Photography (@cjh3051) <a href=\"https://twitter.com/cjh3051/status/1221840269437435905?ref_src=twsrc%5Etfw\">January 27, 2020</a></blockquote>\\n<script async src=\"https://platform.twitter.com/widgets.js\" charset=\"utf-8\"></script>\\n')\n"
     ]
    },
    {
     "name": "stdout",
     "output_type": "stream",
     "text": [
      "1 Record Updated successfully \n",
      "Table After updating record \n",
      "(57, '1221843011312791553', datetime.datetime(2020, 1, 27, 17, 10, 49, tzinfo=psycopg2.tz.FixedOffsetTimezone(offset=0, name=None)), 'Throwback to that scheme teamcanon @BoeingDefense @AvNewsMag', 'positive', 53, '<blockquote class=\"twitter-tweet\"><p lang=\"en\" dir=\"ltr\">Throwback to that scheme 😍 <a href=\"https://twitter.com/hashtag/avgeek?src=hash&amp;ref_src=twsrc%5Etfw\">#avgeek</a> <a href=\"https://twitter.com/hashtag/avporn?src=hash&amp;ref_src=twsrc%5Etfw\">#avporn</a> <a href=\"https://twitter.com/hashtag/aviation?src=hash&amp;ref_src=twsrc%5Etfw\">#aviation</a> <a href=\"https://twitter.com/hashtag/aviationphotography?src=hash&amp;ref_src=twsrc%5Etfw\">#aviationphotography</a> <a href=\"https://twitter.com/hashtag/aircraft?src=hash&amp;ref_src=twsrc%5Etfw\">#aircraft</a> <a href=\"https://twitter.com/hashtag/airshow?src=hash&amp;ref_src=twsrc%5Etfw\">#airshow</a> <a href=\"https://twitter.com/hashtag/airtattoo?src=hash&amp;ref_src=twsrc%5Etfw\">#airtattoo</a> <a href=\"https://twitter.com/hashtag/boeing?src=hash&amp;ref_src=twsrc%5Etfw\">#boeing</a> <a href=\"https://twitter.com/hashtag/canonaviation?src=hash&amp;ref_src=twsrc%5Etfw\">#canonaviation</a> <a href=\"https://twitter.com/hashtag/cf18?src=hash&amp;ref_src=twsrc%5Etfw\">#cf18</a> <a href=\"https://twitter.com/hashtag/cf18demo?src=hash&amp;ref_src=twsrc%5Etfw\">#cf18demo</a> <a href=\"https://twitter.com/hashtag/f18?src=hash&amp;ref_src=twsrc%5Etfw\">#f18</a> <a href=\"https://twitter.com/hashtag/liveforthestory?src=hash&amp;ref_src=twsrc%5Etfw\">#liveforthestory</a> <a href=\"https://twitter.com/hashtag/planespotting?src=hash&amp;ref_src=twsrc%5Etfw\">#planespotting</a> <a href=\"https://twitter.com/hashtag/photography?src=hash&amp;ref_src=twsrc%5Etfw\">#photography</a> <a href=\"https://twitter.com/hashtag/potn?src=hash&amp;ref_src=twsrc%5Etfw\">#potn</a> <a href=\"https://twitter.com/hashtag/RIAT18?src=hash&amp;ref_src=twsrc%5Etfw\">#RIAT18</a> <a href=\"https://twitter.com/hashtag/rcaf?src=hash&amp;ref_src=twsrc%5Etfw\">#rcaf</a> <a href=\"https://twitter.com/hashtag/sigmauk?src=hash&amp;ref_src=twsrc%5Etfw\">#sigmauk</a> <a href=\"https://twitter.com/hashtag/sigmaphoto?src=hash&amp;ref_src=twsrc%5Etfw\">#sigmaphoto</a> <a href=\"https://twitter.com/hashtag/teamcanon?src=hash&amp;ref_src=twsrc%5Etfw\">#teamcanon</a> <a href=\"https://twitter.com/BoeingDefense?ref_src=twsrc%5Etfw\">@BoeingDefense</a> <a href=\"https://twitter.com/AvNewsMag?ref_src=twsrc%5Etfw\">@AvNewsMag</a> <a href=\"https://t.co/9dHxRdpKk9\">pic.twitter.com/9dHxRdpKk9</a></p>&mdash; Chris Howe Photography (@cjh3051) <a href=\"https://twitter.com/cjh3051/status/1221840269437435905?ref_src=twsrc%5Etfw\">January 27, 2020</a></blockquote>\\n<script async src=\"https://platform.twitter.com/widgets.js\" charset=\"utf-8\"></script>\\n')\n",
      "PostgreSQL connection is closed\n",
      "Table Before updating record \n",
      "(58, '1221842584542248960', datetime.datetime(2020, 1, 27, 17, 9, 7, tzinfo=psycopg2.tz.FixedOffsetTimezone(offset=0, name=None)), '@CopaAirlines @BoeingAirplanes 737-800 lantding at', 'negative', 54, '<blockquote class=\"twitter-tweet\"><p lang=\"en\" dir=\"ltr\"><a href=\"https://t.co/PUTI2S5fFf\">https://t.co/PUTI2S5fFf</a> <a href=\"https://twitter.com/CopaAirlines?ref_src=twsrc%5Etfw\">@CopaAirlines</a> <a href=\"https://twitter.com/BoeingAirplanes?ref_src=twsrc%5Etfw\">@BoeingAirplanes</a> 737-800 lantding at <a href=\"https://twitter.com/hashtag/MROC?src=hash&amp;ref_src=twsrc%5Etfw\">#MROC</a><a href=\"https://twitter.com/hashtag/planespotting?src=hash&amp;ref_src=twsrc%5Etfw\">#planespotting</a> <a href=\"https://twitter.com/hashtag/AvGeek?src=hash&amp;ref_src=twsrc%5Etfw\">#AvGeek</a></p>&mdash; Alfredo La Red Soto (@laredsoto_91) <a href=\"https://twitter.com/laredsoto_91/status/1221842584542248960?ref_src=twsrc%5Etfw\">January 27, 2020</a></blockquote>\\n<script async src=\"https://platform.twitter.com/widgets.js\" charset=\"utf-8\"></script>\\n')\n",
      "1 Record Updated successfully \n",
      "Table After updating record \n",
      "(58, '1221842584542248960', datetime.datetime(2020, 1, 27, 17, 9, 7, tzinfo=psycopg2.tz.FixedOffsetTimezone(offset=0, name=None)), '@CopaAirlines @BoeingAirplanes 737-800 lantding at', 'positive', 54, '<blockquote class=\"twitter-tweet\"><p lang=\"en\" dir=\"ltr\"><a href=\"https://t.co/PUTI2S5fFf\">https://t.co/PUTI2S5fFf</a> <a href=\"https://twitter.com/CopaAirlines?ref_src=twsrc%5Etfw\">@CopaAirlines</a> <a href=\"https://twitter.com/BoeingAirplanes?ref_src=twsrc%5Etfw\">@BoeingAirplanes</a> 737-800 lantding at <a href=\"https://twitter.com/hashtag/MROC?src=hash&amp;ref_src=twsrc%5Etfw\">#MROC</a><a href=\"https://twitter.com/hashtag/planespotting?src=hash&amp;ref_src=twsrc%5Etfw\">#planespotting</a> <a href=\"https://twitter.com/hashtag/AvGeek?src=hash&amp;ref_src=twsrc%5Etfw\">#AvGeek</a></p>&mdash; Alfredo La Red Soto (@laredsoto_91) <a href=\"https://twitter.com/laredsoto_91/status/1221842584542248960?ref_src=twsrc%5Etfw\">January 27, 2020</a></blockquote>\\n<script async src=\"https://platform.twitter.com/widgets.js\" charset=\"utf-8\"></script>\\n')\n",
      "PostgreSQL connection is closed\n",
      "Table Before updating record \n",
      "(59, '1221842282988687363', datetime.datetime(2020, 1, 27, 17, 7, 55, tzinfo=psycopg2.tz.FixedOffsetTimezone(offset=0, name=None)), 'Throwback to that scheme teamcanon @BoeingDefense @AvNewsMag', 'negative', 55, '<blockquote class=\"twitter-tweet\"><p lang=\"en\" dir=\"ltr\">Throwback to that scheme 😍 <a href=\"https://twitter.com/hashtag/avgeek?src=hash&amp;ref_src=twsrc%5Etfw\">#avgeek</a> <a href=\"https://twitter.com/hashtag/avporn?src=hash&amp;ref_src=twsrc%5Etfw\">#avporn</a> <a href=\"https://twitter.com/hashtag/aviation?src=hash&amp;ref_src=twsrc%5Etfw\">#aviation</a> <a href=\"https://twitter.com/hashtag/aviationphotography?src=hash&amp;ref_src=twsrc%5Etfw\">#aviationphotography</a> <a href=\"https://twitter.com/hashtag/aircraft?src=hash&amp;ref_src=twsrc%5Etfw\">#aircraft</a> <a href=\"https://twitter.com/hashtag/airshow?src=hash&amp;ref_src=twsrc%5Etfw\">#airshow</a> <a href=\"https://twitter.com/hashtag/airtattoo?src=hash&amp;ref_src=twsrc%5Etfw\">#airtattoo</a> <a href=\"https://twitter.com/hashtag/boeing?src=hash&amp;ref_src=twsrc%5Etfw\">#boeing</a> <a href=\"https://twitter.com/hashtag/canonaviation?src=hash&amp;ref_src=twsrc%5Etfw\">#canonaviation</a> <a href=\"https://twitter.com/hashtag/cf18?src=hash&amp;ref_src=twsrc%5Etfw\">#cf18</a> <a href=\"https://twitter.com/hashtag/cf18demo?src=hash&amp;ref_src=twsrc%5Etfw\">#cf18demo</a> <a href=\"https://twitter.com/hashtag/f18?src=hash&amp;ref_src=twsrc%5Etfw\">#f18</a> <a href=\"https://twitter.com/hashtag/liveforthestory?src=hash&amp;ref_src=twsrc%5Etfw\">#liveforthestory</a> <a href=\"https://twitter.com/hashtag/planespotting?src=hash&amp;ref_src=twsrc%5Etfw\">#planespotting</a> <a href=\"https://twitter.com/hashtag/photography?src=hash&amp;ref_src=twsrc%5Etfw\">#photography</a> <a href=\"https://twitter.com/hashtag/potn?src=hash&amp;ref_src=twsrc%5Etfw\">#potn</a> <a href=\"https://twitter.com/hashtag/RIAT18?src=hash&amp;ref_src=twsrc%5Etfw\">#RIAT18</a> <a href=\"https://twitter.com/hashtag/rcaf?src=hash&amp;ref_src=twsrc%5Etfw\">#rcaf</a> <a href=\"https://twitter.com/hashtag/sigmauk?src=hash&amp;ref_src=twsrc%5Etfw\">#sigmauk</a> <a href=\"https://twitter.com/hashtag/sigmaphoto?src=hash&amp;ref_src=twsrc%5Etfw\">#sigmaphoto</a> <a href=\"https://twitter.com/hashtag/teamcanon?src=hash&amp;ref_src=twsrc%5Etfw\">#teamcanon</a> <a href=\"https://twitter.com/BoeingDefense?ref_src=twsrc%5Etfw\">@BoeingDefense</a> <a href=\"https://twitter.com/AvNewsMag?ref_src=twsrc%5Etfw\">@AvNewsMag</a> <a href=\"https://t.co/9dHxRdpKk9\">pic.twitter.com/9dHxRdpKk9</a></p>&mdash; Chris Howe Photography (@cjh3051) <a href=\"https://twitter.com/cjh3051/status/1221840269437435905?ref_src=twsrc%5Etfw\">January 27, 2020</a></blockquote>\\n<script async src=\"https://platform.twitter.com/widgets.js\" charset=\"utf-8\"></script>\\n')\n",
      "1 Record Updated successfully \n",
      "Table After updating record \n",
      "(59, '1221842282988687363', datetime.datetime(2020, 1, 27, 17, 7, 55, tzinfo=psycopg2.tz.FixedOffsetTimezone(offset=0, name=None)), 'Throwback to that scheme teamcanon @BoeingDefense @AvNewsMag', 'positive', 55, '<blockquote class=\"twitter-tweet\"><p lang=\"en\" dir=\"ltr\">Throwback to that scheme 😍 <a href=\"https://twitter.com/hashtag/avgeek?src=hash&amp;ref_src=twsrc%5Etfw\">#avgeek</a> <a href=\"https://twitter.com/hashtag/avporn?src=hash&amp;ref_src=twsrc%5Etfw\">#avporn</a> <a href=\"https://twitter.com/hashtag/aviation?src=hash&amp;ref_src=twsrc%5Etfw\">#aviation</a> <a href=\"https://twitter.com/hashtag/aviationphotography?src=hash&amp;ref_src=twsrc%5Etfw\">#aviationphotography</a> <a href=\"https://twitter.com/hashtag/aircraft?src=hash&amp;ref_src=twsrc%5Etfw\">#aircraft</a> <a href=\"https://twitter.com/hashtag/airshow?src=hash&amp;ref_src=twsrc%5Etfw\">#airshow</a> <a href=\"https://twitter.com/hashtag/airtattoo?src=hash&amp;ref_src=twsrc%5Etfw\">#airtattoo</a> <a href=\"https://twitter.com/hashtag/boeing?src=hash&amp;ref_src=twsrc%5Etfw\">#boeing</a> <a href=\"https://twitter.com/hashtag/canonaviation?src=hash&amp;ref_src=twsrc%5Etfw\">#canonaviation</a> <a href=\"https://twitter.com/hashtag/cf18?src=hash&amp;ref_src=twsrc%5Etfw\">#cf18</a> <a href=\"https://twitter.com/hashtag/cf18demo?src=hash&amp;ref_src=twsrc%5Etfw\">#cf18demo</a> <a href=\"https://twitter.com/hashtag/f18?src=hash&amp;ref_src=twsrc%5Etfw\">#f18</a> <a href=\"https://twitter.com/hashtag/liveforthestory?src=hash&amp;ref_src=twsrc%5Etfw\">#liveforthestory</a> <a href=\"https://twitter.com/hashtag/planespotting?src=hash&amp;ref_src=twsrc%5Etfw\">#planespotting</a> <a href=\"https://twitter.com/hashtag/photography?src=hash&amp;ref_src=twsrc%5Etfw\">#photography</a> <a href=\"https://twitter.com/hashtag/potn?src=hash&amp;ref_src=twsrc%5Etfw\">#potn</a> <a href=\"https://twitter.com/hashtag/RIAT18?src=hash&amp;ref_src=twsrc%5Etfw\">#RIAT18</a> <a href=\"https://twitter.com/hashtag/rcaf?src=hash&amp;ref_src=twsrc%5Etfw\">#rcaf</a> <a href=\"https://twitter.com/hashtag/sigmauk?src=hash&amp;ref_src=twsrc%5Etfw\">#sigmauk</a> <a href=\"https://twitter.com/hashtag/sigmaphoto?src=hash&amp;ref_src=twsrc%5Etfw\">#sigmaphoto</a> <a href=\"https://twitter.com/hashtag/teamcanon?src=hash&amp;ref_src=twsrc%5Etfw\">#teamcanon</a> <a href=\"https://twitter.com/BoeingDefense?ref_src=twsrc%5Etfw\">@BoeingDefense</a> <a href=\"https://twitter.com/AvNewsMag?ref_src=twsrc%5Etfw\">@AvNewsMag</a> <a href=\"https://t.co/9dHxRdpKk9\">pic.twitter.com/9dHxRdpKk9</a></p>&mdash; Chris Howe Photography (@cjh3051) <a href=\"https://twitter.com/cjh3051/status/1221840269437435905?ref_src=twsrc%5Etfw\">January 27, 2020</a></blockquote>\\n<script async src=\"https://platform.twitter.com/widgets.js\" charset=\"utf-8\"></script>\\n')\n",
      "PostgreSQL connection is closed\n"
     ]
    },
    {
     "name": "stdout",
     "output_type": "stream",
     "text": [
      "Table Before updating record \n",
      "(60, '1221840796082753537', datetime.datetime(2020, 1, 27, 17, 2, 1, tzinfo=psycopg2.tz.FixedOffsetTimezone(offset=0, name=None)), 'Throwback to that scheme teamcanon @BoeingDefense @AvNewsMag', 'negative', 56, '<blockquote class=\"twitter-tweet\"><p lang=\"en\" dir=\"ltr\">Throwback to that scheme 😍 <a href=\"https://twitter.com/hashtag/avgeek?src=hash&amp;ref_src=twsrc%5Etfw\">#avgeek</a> <a href=\"https://twitter.com/hashtag/avporn?src=hash&amp;ref_src=twsrc%5Etfw\">#avporn</a> <a href=\"https://twitter.com/hashtag/aviation?src=hash&amp;ref_src=twsrc%5Etfw\">#aviation</a> <a href=\"https://twitter.com/hashtag/aviationphotography?src=hash&amp;ref_src=twsrc%5Etfw\">#aviationphotography</a> <a href=\"https://twitter.com/hashtag/aircraft?src=hash&amp;ref_src=twsrc%5Etfw\">#aircraft</a> <a href=\"https://twitter.com/hashtag/airshow?src=hash&amp;ref_src=twsrc%5Etfw\">#airshow</a> <a href=\"https://twitter.com/hashtag/airtattoo?src=hash&amp;ref_src=twsrc%5Etfw\">#airtattoo</a> <a href=\"https://twitter.com/hashtag/boeing?src=hash&amp;ref_src=twsrc%5Etfw\">#boeing</a> <a href=\"https://twitter.com/hashtag/canonaviation?src=hash&amp;ref_src=twsrc%5Etfw\">#canonaviation</a> <a href=\"https://twitter.com/hashtag/cf18?src=hash&amp;ref_src=twsrc%5Etfw\">#cf18</a> <a href=\"https://twitter.com/hashtag/cf18demo?src=hash&amp;ref_src=twsrc%5Etfw\">#cf18demo</a> <a href=\"https://twitter.com/hashtag/f18?src=hash&amp;ref_src=twsrc%5Etfw\">#f18</a> <a href=\"https://twitter.com/hashtag/liveforthestory?src=hash&amp;ref_src=twsrc%5Etfw\">#liveforthestory</a> <a href=\"https://twitter.com/hashtag/planespotting?src=hash&amp;ref_src=twsrc%5Etfw\">#planespotting</a> <a href=\"https://twitter.com/hashtag/photography?src=hash&amp;ref_src=twsrc%5Etfw\">#photography</a> <a href=\"https://twitter.com/hashtag/potn?src=hash&amp;ref_src=twsrc%5Etfw\">#potn</a> <a href=\"https://twitter.com/hashtag/RIAT18?src=hash&amp;ref_src=twsrc%5Etfw\">#RIAT18</a> <a href=\"https://twitter.com/hashtag/rcaf?src=hash&amp;ref_src=twsrc%5Etfw\">#rcaf</a> <a href=\"https://twitter.com/hashtag/sigmauk?src=hash&amp;ref_src=twsrc%5Etfw\">#sigmauk</a> <a href=\"https://twitter.com/hashtag/sigmaphoto?src=hash&amp;ref_src=twsrc%5Etfw\">#sigmaphoto</a> <a href=\"https://twitter.com/hashtag/teamcanon?src=hash&amp;ref_src=twsrc%5Etfw\">#teamcanon</a> <a href=\"https://twitter.com/BoeingDefense?ref_src=twsrc%5Etfw\">@BoeingDefense</a> <a href=\"https://twitter.com/AvNewsMag?ref_src=twsrc%5Etfw\">@AvNewsMag</a> <a href=\"https://t.co/9dHxRdpKk9\">pic.twitter.com/9dHxRdpKk9</a></p>&mdash; Chris Howe Photography (@cjh3051) <a href=\"https://twitter.com/cjh3051/status/1221840269437435905?ref_src=twsrc%5Etfw\">January 27, 2020</a></blockquote>\\n<script async src=\"https://platform.twitter.com/widgets.js\" charset=\"utf-8\"></script>\\n')\n",
      "1 Record Updated successfully \n",
      "Table After updating record \n",
      "(60, '1221840796082753537', datetime.datetime(2020, 1, 27, 17, 2, 1, tzinfo=psycopg2.tz.FixedOffsetTimezone(offset=0, name=None)), 'Throwback to that scheme teamcanon @BoeingDefense @AvNewsMag', 'positive', 56, '<blockquote class=\"twitter-tweet\"><p lang=\"en\" dir=\"ltr\">Throwback to that scheme 😍 <a href=\"https://twitter.com/hashtag/avgeek?src=hash&amp;ref_src=twsrc%5Etfw\">#avgeek</a> <a href=\"https://twitter.com/hashtag/avporn?src=hash&amp;ref_src=twsrc%5Etfw\">#avporn</a> <a href=\"https://twitter.com/hashtag/aviation?src=hash&amp;ref_src=twsrc%5Etfw\">#aviation</a> <a href=\"https://twitter.com/hashtag/aviationphotography?src=hash&amp;ref_src=twsrc%5Etfw\">#aviationphotography</a> <a href=\"https://twitter.com/hashtag/aircraft?src=hash&amp;ref_src=twsrc%5Etfw\">#aircraft</a> <a href=\"https://twitter.com/hashtag/airshow?src=hash&amp;ref_src=twsrc%5Etfw\">#airshow</a> <a href=\"https://twitter.com/hashtag/airtattoo?src=hash&amp;ref_src=twsrc%5Etfw\">#airtattoo</a> <a href=\"https://twitter.com/hashtag/boeing?src=hash&amp;ref_src=twsrc%5Etfw\">#boeing</a> <a href=\"https://twitter.com/hashtag/canonaviation?src=hash&amp;ref_src=twsrc%5Etfw\">#canonaviation</a> <a href=\"https://twitter.com/hashtag/cf18?src=hash&amp;ref_src=twsrc%5Etfw\">#cf18</a> <a href=\"https://twitter.com/hashtag/cf18demo?src=hash&amp;ref_src=twsrc%5Etfw\">#cf18demo</a> <a href=\"https://twitter.com/hashtag/f18?src=hash&amp;ref_src=twsrc%5Etfw\">#f18</a> <a href=\"https://twitter.com/hashtag/liveforthestory?src=hash&amp;ref_src=twsrc%5Etfw\">#liveforthestory</a> <a href=\"https://twitter.com/hashtag/planespotting?src=hash&amp;ref_src=twsrc%5Etfw\">#planespotting</a> <a href=\"https://twitter.com/hashtag/photography?src=hash&amp;ref_src=twsrc%5Etfw\">#photography</a> <a href=\"https://twitter.com/hashtag/potn?src=hash&amp;ref_src=twsrc%5Etfw\">#potn</a> <a href=\"https://twitter.com/hashtag/RIAT18?src=hash&amp;ref_src=twsrc%5Etfw\">#RIAT18</a> <a href=\"https://twitter.com/hashtag/rcaf?src=hash&amp;ref_src=twsrc%5Etfw\">#rcaf</a> <a href=\"https://twitter.com/hashtag/sigmauk?src=hash&amp;ref_src=twsrc%5Etfw\">#sigmauk</a> <a href=\"https://twitter.com/hashtag/sigmaphoto?src=hash&amp;ref_src=twsrc%5Etfw\">#sigmaphoto</a> <a href=\"https://twitter.com/hashtag/teamcanon?src=hash&amp;ref_src=twsrc%5Etfw\">#teamcanon</a> <a href=\"https://twitter.com/BoeingDefense?ref_src=twsrc%5Etfw\">@BoeingDefense</a> <a href=\"https://twitter.com/AvNewsMag?ref_src=twsrc%5Etfw\">@AvNewsMag</a> <a href=\"https://t.co/9dHxRdpKk9\">pic.twitter.com/9dHxRdpKk9</a></p>&mdash; Chris Howe Photography (@cjh3051) <a href=\"https://twitter.com/cjh3051/status/1221840269437435905?ref_src=twsrc%5Etfw\">January 27, 2020</a></blockquote>\\n<script async src=\"https://platform.twitter.com/widgets.js\" charset=\"utf-8\"></script>\\n')\n",
      "PostgreSQL connection is closed\n",
      "Table Before updating record \n",
      "(61, '1221840778810421249', datetime.datetime(2020, 1, 27, 17, 1, 57, tzinfo=psycopg2.tz.FixedOffsetTimezone(offset=0, name=None)), 'What is an AvGeek? The Millennial term for Fans of Aviation', 'negative', 57, '<blockquote class=\"twitter-tweet\"><p lang=\"en\" dir=\"ltr\">What is an AvGeek? The Millennial term for Fans of Aviation <a href=\"https://t.co/TmV0hPoAkv\">https://t.co/TmV0hPoAkv</a><a href=\"https://twitter.com/hashtag/avgeek?src=hash&amp;ref_src=twsrc%5Etfw\">#avgeek</a> <a href=\"https://twitter.com/hashtag/avgeeks?src=hash&amp;ref_src=twsrc%5Etfw\">#avgeeks</a> <a href=\"https://twitter.com/hashtag/flights?src=hash&amp;ref_src=twsrc%5Etfw\">#flights</a> <a href=\"https://twitter.com/hashtag/airplanes?src=hash&amp;ref_src=twsrc%5Etfw\">#airplanes</a> <a href=\"https://twitter.com/hashtag/airports?src=hash&amp;ref_src=twsrc%5Etfw\">#airports</a> <a href=\"https://twitter.com/hashtag/planespotting?src=hash&amp;ref_src=twsrc%5Etfw\">#planespotting</a> <a href=\"https://twitter.com/hashtag/planespotter?src=hash&amp;ref_src=twsrc%5Etfw\">#planespotter</a> <a href=\"https://twitter.com/hashtag/MondayMotivation?src=hash&amp;ref_src=twsrc%5Etfw\">#MondayMotivation</a> <a href=\"https://twitter.com/hashtag/mondaythoughts?src=hash&amp;ref_src=twsrc%5Etfw\">#mondaythoughts</a> <a href=\"https://twitter.com/hashtag/MondayMorning?src=hash&amp;ref_src=twsrc%5Etfw\">#MondayMorning</a> <a href=\"https://twitter.com/hashtag/flying?src=hash&amp;ref_src=twsrc%5Etfw\">#flying</a> <a href=\"https://twitter.com/hashtag/pilots?src=hash&amp;ref_src=twsrc%5Etfw\">#pilots</a></p>&mdash; Captain Jetson Airline &amp; Travel News (@JetsonLes) <a href=\"https://twitter.com/JetsonLes/status/1221824332386586624?ref_src=twsrc%5Etfw\">January 27, 2020</a></blockquote>\\n<script async src=\"https://platform.twitter.com/widgets.js\" charset=\"utf-8\"></script>\\n')\n",
      "1 Record Updated successfully \n",
      "Table After updating record \n",
      "(61, '1221840778810421249', datetime.datetime(2020, 1, 27, 17, 1, 57, tzinfo=psycopg2.tz.FixedOffsetTimezone(offset=0, name=None)), 'What is an AvGeek? The Millennial term for Fans of Aviation', 'positive', 57, '<blockquote class=\"twitter-tweet\"><p lang=\"en\" dir=\"ltr\">What is an AvGeek? The Millennial term for Fans of Aviation <a href=\"https://t.co/TmV0hPoAkv\">https://t.co/TmV0hPoAkv</a><a href=\"https://twitter.com/hashtag/avgeek?src=hash&amp;ref_src=twsrc%5Etfw\">#avgeek</a> <a href=\"https://twitter.com/hashtag/avgeeks?src=hash&amp;ref_src=twsrc%5Etfw\">#avgeeks</a> <a href=\"https://twitter.com/hashtag/flights?src=hash&amp;ref_src=twsrc%5Etfw\">#flights</a> <a href=\"https://twitter.com/hashtag/airplanes?src=hash&amp;ref_src=twsrc%5Etfw\">#airplanes</a> <a href=\"https://twitter.com/hashtag/airports?src=hash&amp;ref_src=twsrc%5Etfw\">#airports</a> <a href=\"https://twitter.com/hashtag/planespotting?src=hash&amp;ref_src=twsrc%5Etfw\">#planespotting</a> <a href=\"https://twitter.com/hashtag/planespotter?src=hash&amp;ref_src=twsrc%5Etfw\">#planespotter</a> <a href=\"https://twitter.com/hashtag/MondayMotivation?src=hash&amp;ref_src=twsrc%5Etfw\">#MondayMotivation</a> <a href=\"https://twitter.com/hashtag/mondaythoughts?src=hash&amp;ref_src=twsrc%5Etfw\">#mondaythoughts</a> <a href=\"https://twitter.com/hashtag/MondayMorning?src=hash&amp;ref_src=twsrc%5Etfw\">#MondayMorning</a> <a href=\"https://twitter.com/hashtag/flying?src=hash&amp;ref_src=twsrc%5Etfw\">#flying</a> <a href=\"https://twitter.com/hashtag/pilots?src=hash&amp;ref_src=twsrc%5Etfw\">#pilots</a></p>&mdash; Captain Jetson Airline &amp; Travel News (@JetsonLes) <a href=\"https://twitter.com/JetsonLes/status/1221824332386586624?ref_src=twsrc%5Etfw\">January 27, 2020</a></blockquote>\\n<script async src=\"https://platform.twitter.com/widgets.js\" charset=\"utf-8\"></script>\\n')\n",
      "PostgreSQL connection is closed\n"
     ]
    },
    {
     "name": "stdout",
     "output_type": "stream",
     "text": [
      "Table Before updating record \n",
      "(62, '1221840743070928898', datetime.datetime(2020, 1, 27, 17, 1, 48, tzinfo=psycopg2.tz.FixedOffsetTimezone(offset=0, name=None)), 'Throwback to that scheme teamcanon @BoeingDefense @AvNewsMag', 'negative', 58, '<blockquote class=\"twitter-tweet\"><p lang=\"en\" dir=\"ltr\">Throwback to that scheme 😍 <a href=\"https://twitter.com/hashtag/avgeek?src=hash&amp;ref_src=twsrc%5Etfw\">#avgeek</a> <a href=\"https://twitter.com/hashtag/avporn?src=hash&amp;ref_src=twsrc%5Etfw\">#avporn</a> <a href=\"https://twitter.com/hashtag/aviation?src=hash&amp;ref_src=twsrc%5Etfw\">#aviation</a> <a href=\"https://twitter.com/hashtag/aviationphotography?src=hash&amp;ref_src=twsrc%5Etfw\">#aviationphotography</a> <a href=\"https://twitter.com/hashtag/aircraft?src=hash&amp;ref_src=twsrc%5Etfw\">#aircraft</a> <a href=\"https://twitter.com/hashtag/airshow?src=hash&amp;ref_src=twsrc%5Etfw\">#airshow</a> <a href=\"https://twitter.com/hashtag/airtattoo?src=hash&amp;ref_src=twsrc%5Etfw\">#airtattoo</a> <a href=\"https://twitter.com/hashtag/boeing?src=hash&amp;ref_src=twsrc%5Etfw\">#boeing</a> <a href=\"https://twitter.com/hashtag/canonaviation?src=hash&amp;ref_src=twsrc%5Etfw\">#canonaviation</a> <a href=\"https://twitter.com/hashtag/cf18?src=hash&amp;ref_src=twsrc%5Etfw\">#cf18</a> <a href=\"https://twitter.com/hashtag/cf18demo?src=hash&amp;ref_src=twsrc%5Etfw\">#cf18demo</a> <a href=\"https://twitter.com/hashtag/f18?src=hash&amp;ref_src=twsrc%5Etfw\">#f18</a> <a href=\"https://twitter.com/hashtag/liveforthestory?src=hash&amp;ref_src=twsrc%5Etfw\">#liveforthestory</a> <a href=\"https://twitter.com/hashtag/planespotting?src=hash&amp;ref_src=twsrc%5Etfw\">#planespotting</a> <a href=\"https://twitter.com/hashtag/photography?src=hash&amp;ref_src=twsrc%5Etfw\">#photography</a> <a href=\"https://twitter.com/hashtag/potn?src=hash&amp;ref_src=twsrc%5Etfw\">#potn</a> <a href=\"https://twitter.com/hashtag/RIAT18?src=hash&amp;ref_src=twsrc%5Etfw\">#RIAT18</a> <a href=\"https://twitter.com/hashtag/rcaf?src=hash&amp;ref_src=twsrc%5Etfw\">#rcaf</a> <a href=\"https://twitter.com/hashtag/sigmauk?src=hash&amp;ref_src=twsrc%5Etfw\">#sigmauk</a> <a href=\"https://twitter.com/hashtag/sigmaphoto?src=hash&amp;ref_src=twsrc%5Etfw\">#sigmaphoto</a> <a href=\"https://twitter.com/hashtag/teamcanon?src=hash&amp;ref_src=twsrc%5Etfw\">#teamcanon</a> <a href=\"https://twitter.com/BoeingDefense?ref_src=twsrc%5Etfw\">@BoeingDefense</a> <a href=\"https://twitter.com/AvNewsMag?ref_src=twsrc%5Etfw\">@AvNewsMag</a> <a href=\"https://t.co/9dHxRdpKk9\">pic.twitter.com/9dHxRdpKk9</a></p>&mdash; Chris Howe Photography (@cjh3051) <a href=\"https://twitter.com/cjh3051/status/1221840269437435905?ref_src=twsrc%5Etfw\">January 27, 2020</a></blockquote>\\n<script async src=\"https://platform.twitter.com/widgets.js\" charset=\"utf-8\"></script>\\n')\n",
      "1 Record Updated successfully \n",
      "Table After updating record \n",
      "(62, '1221840743070928898', datetime.datetime(2020, 1, 27, 17, 1, 48, tzinfo=psycopg2.tz.FixedOffsetTimezone(offset=0, name=None)), 'Throwback to that scheme teamcanon @BoeingDefense @AvNewsMag', 'positive', 58, '<blockquote class=\"twitter-tweet\"><p lang=\"en\" dir=\"ltr\">Throwback to that scheme 😍 <a href=\"https://twitter.com/hashtag/avgeek?src=hash&amp;ref_src=twsrc%5Etfw\">#avgeek</a> <a href=\"https://twitter.com/hashtag/avporn?src=hash&amp;ref_src=twsrc%5Etfw\">#avporn</a> <a href=\"https://twitter.com/hashtag/aviation?src=hash&amp;ref_src=twsrc%5Etfw\">#aviation</a> <a href=\"https://twitter.com/hashtag/aviationphotography?src=hash&amp;ref_src=twsrc%5Etfw\">#aviationphotography</a> <a href=\"https://twitter.com/hashtag/aircraft?src=hash&amp;ref_src=twsrc%5Etfw\">#aircraft</a> <a href=\"https://twitter.com/hashtag/airshow?src=hash&amp;ref_src=twsrc%5Etfw\">#airshow</a> <a href=\"https://twitter.com/hashtag/airtattoo?src=hash&amp;ref_src=twsrc%5Etfw\">#airtattoo</a> <a href=\"https://twitter.com/hashtag/boeing?src=hash&amp;ref_src=twsrc%5Etfw\">#boeing</a> <a href=\"https://twitter.com/hashtag/canonaviation?src=hash&amp;ref_src=twsrc%5Etfw\">#canonaviation</a> <a href=\"https://twitter.com/hashtag/cf18?src=hash&amp;ref_src=twsrc%5Etfw\">#cf18</a> <a href=\"https://twitter.com/hashtag/cf18demo?src=hash&amp;ref_src=twsrc%5Etfw\">#cf18demo</a> <a href=\"https://twitter.com/hashtag/f18?src=hash&amp;ref_src=twsrc%5Etfw\">#f18</a> <a href=\"https://twitter.com/hashtag/liveforthestory?src=hash&amp;ref_src=twsrc%5Etfw\">#liveforthestory</a> <a href=\"https://twitter.com/hashtag/planespotting?src=hash&amp;ref_src=twsrc%5Etfw\">#planespotting</a> <a href=\"https://twitter.com/hashtag/photography?src=hash&amp;ref_src=twsrc%5Etfw\">#photography</a> <a href=\"https://twitter.com/hashtag/potn?src=hash&amp;ref_src=twsrc%5Etfw\">#potn</a> <a href=\"https://twitter.com/hashtag/RIAT18?src=hash&amp;ref_src=twsrc%5Etfw\">#RIAT18</a> <a href=\"https://twitter.com/hashtag/rcaf?src=hash&amp;ref_src=twsrc%5Etfw\">#rcaf</a> <a href=\"https://twitter.com/hashtag/sigmauk?src=hash&amp;ref_src=twsrc%5Etfw\">#sigmauk</a> <a href=\"https://twitter.com/hashtag/sigmaphoto?src=hash&amp;ref_src=twsrc%5Etfw\">#sigmaphoto</a> <a href=\"https://twitter.com/hashtag/teamcanon?src=hash&amp;ref_src=twsrc%5Etfw\">#teamcanon</a> <a href=\"https://twitter.com/BoeingDefense?ref_src=twsrc%5Etfw\">@BoeingDefense</a> <a href=\"https://twitter.com/AvNewsMag?ref_src=twsrc%5Etfw\">@AvNewsMag</a> <a href=\"https://t.co/9dHxRdpKk9\">pic.twitter.com/9dHxRdpKk9</a></p>&mdash; Chris Howe Photography (@cjh3051) <a href=\"https://twitter.com/cjh3051/status/1221840269437435905?ref_src=twsrc%5Etfw\">January 27, 2020</a></blockquote>\\n<script async src=\"https://platform.twitter.com/widgets.js\" charset=\"utf-8\"></script>\\n')\n",
      "PostgreSQL connection is closed\n",
      "Table Before updating record \n",
      "(63, '1221840670190530566', datetime.datetime(2020, 1, 27, 17, 1, 31, tzinfo=psycopg2.tz.FixedOffsetTimezone(offset=0, name=None)), 'Throwback to that scheme teamcanon @BoeingDefense @AvNewsMag', 'negative', 59, '<blockquote class=\"twitter-tweet\"><p lang=\"en\" dir=\"ltr\">Throwback to that scheme 😍 <a href=\"https://twitter.com/hashtag/avgeek?src=hash&amp;ref_src=twsrc%5Etfw\">#avgeek</a> <a href=\"https://twitter.com/hashtag/avporn?src=hash&amp;ref_src=twsrc%5Etfw\">#avporn</a> <a href=\"https://twitter.com/hashtag/aviation?src=hash&amp;ref_src=twsrc%5Etfw\">#aviation</a> <a href=\"https://twitter.com/hashtag/aviationphotography?src=hash&amp;ref_src=twsrc%5Etfw\">#aviationphotography</a> <a href=\"https://twitter.com/hashtag/aircraft?src=hash&amp;ref_src=twsrc%5Etfw\">#aircraft</a> <a href=\"https://twitter.com/hashtag/airshow?src=hash&amp;ref_src=twsrc%5Etfw\">#airshow</a> <a href=\"https://twitter.com/hashtag/airtattoo?src=hash&amp;ref_src=twsrc%5Etfw\">#airtattoo</a> <a href=\"https://twitter.com/hashtag/boeing?src=hash&amp;ref_src=twsrc%5Etfw\">#boeing</a> <a href=\"https://twitter.com/hashtag/canonaviation?src=hash&amp;ref_src=twsrc%5Etfw\">#canonaviation</a> <a href=\"https://twitter.com/hashtag/cf18?src=hash&amp;ref_src=twsrc%5Etfw\">#cf18</a> <a href=\"https://twitter.com/hashtag/cf18demo?src=hash&amp;ref_src=twsrc%5Etfw\">#cf18demo</a> <a href=\"https://twitter.com/hashtag/f18?src=hash&amp;ref_src=twsrc%5Etfw\">#f18</a> <a href=\"https://twitter.com/hashtag/liveforthestory?src=hash&amp;ref_src=twsrc%5Etfw\">#liveforthestory</a> <a href=\"https://twitter.com/hashtag/planespotting?src=hash&amp;ref_src=twsrc%5Etfw\">#planespotting</a> <a href=\"https://twitter.com/hashtag/photography?src=hash&amp;ref_src=twsrc%5Etfw\">#photography</a> <a href=\"https://twitter.com/hashtag/potn?src=hash&amp;ref_src=twsrc%5Etfw\">#potn</a> <a href=\"https://twitter.com/hashtag/RIAT18?src=hash&amp;ref_src=twsrc%5Etfw\">#RIAT18</a> <a href=\"https://twitter.com/hashtag/rcaf?src=hash&amp;ref_src=twsrc%5Etfw\">#rcaf</a> <a href=\"https://twitter.com/hashtag/sigmauk?src=hash&amp;ref_src=twsrc%5Etfw\">#sigmauk</a> <a href=\"https://twitter.com/hashtag/sigmaphoto?src=hash&amp;ref_src=twsrc%5Etfw\">#sigmaphoto</a> <a href=\"https://twitter.com/hashtag/teamcanon?src=hash&amp;ref_src=twsrc%5Etfw\">#teamcanon</a> <a href=\"https://twitter.com/BoeingDefense?ref_src=twsrc%5Etfw\">@BoeingDefense</a> <a href=\"https://twitter.com/AvNewsMag?ref_src=twsrc%5Etfw\">@AvNewsMag</a> <a href=\"https://t.co/9dHxRdpKk9\">pic.twitter.com/9dHxRdpKk9</a></p>&mdash; Chris Howe Photography (@cjh3051) <a href=\"https://twitter.com/cjh3051/status/1221840269437435905?ref_src=twsrc%5Etfw\">January 27, 2020</a></blockquote>\\n<script async src=\"https://platform.twitter.com/widgets.js\" charset=\"utf-8\"></script>\\n')\n"
     ]
    },
    {
     "name": "stdout",
     "output_type": "stream",
     "text": [
      "1 Record Updated successfully \n",
      "Table After updating record \n",
      "(63, '1221840670190530566', datetime.datetime(2020, 1, 27, 17, 1, 31, tzinfo=psycopg2.tz.FixedOffsetTimezone(offset=0, name=None)), 'Throwback to that scheme teamcanon @BoeingDefense @AvNewsMag', 'positive', 59, '<blockquote class=\"twitter-tweet\"><p lang=\"en\" dir=\"ltr\">Throwback to that scheme 😍 <a href=\"https://twitter.com/hashtag/avgeek?src=hash&amp;ref_src=twsrc%5Etfw\">#avgeek</a> <a href=\"https://twitter.com/hashtag/avporn?src=hash&amp;ref_src=twsrc%5Etfw\">#avporn</a> <a href=\"https://twitter.com/hashtag/aviation?src=hash&amp;ref_src=twsrc%5Etfw\">#aviation</a> <a href=\"https://twitter.com/hashtag/aviationphotography?src=hash&amp;ref_src=twsrc%5Etfw\">#aviationphotography</a> <a href=\"https://twitter.com/hashtag/aircraft?src=hash&amp;ref_src=twsrc%5Etfw\">#aircraft</a> <a href=\"https://twitter.com/hashtag/airshow?src=hash&amp;ref_src=twsrc%5Etfw\">#airshow</a> <a href=\"https://twitter.com/hashtag/airtattoo?src=hash&amp;ref_src=twsrc%5Etfw\">#airtattoo</a> <a href=\"https://twitter.com/hashtag/boeing?src=hash&amp;ref_src=twsrc%5Etfw\">#boeing</a> <a href=\"https://twitter.com/hashtag/canonaviation?src=hash&amp;ref_src=twsrc%5Etfw\">#canonaviation</a> <a href=\"https://twitter.com/hashtag/cf18?src=hash&amp;ref_src=twsrc%5Etfw\">#cf18</a> <a href=\"https://twitter.com/hashtag/cf18demo?src=hash&amp;ref_src=twsrc%5Etfw\">#cf18demo</a> <a href=\"https://twitter.com/hashtag/f18?src=hash&amp;ref_src=twsrc%5Etfw\">#f18</a> <a href=\"https://twitter.com/hashtag/liveforthestory?src=hash&amp;ref_src=twsrc%5Etfw\">#liveforthestory</a> <a href=\"https://twitter.com/hashtag/planespotting?src=hash&amp;ref_src=twsrc%5Etfw\">#planespotting</a> <a href=\"https://twitter.com/hashtag/photography?src=hash&amp;ref_src=twsrc%5Etfw\">#photography</a> <a href=\"https://twitter.com/hashtag/potn?src=hash&amp;ref_src=twsrc%5Etfw\">#potn</a> <a href=\"https://twitter.com/hashtag/RIAT18?src=hash&amp;ref_src=twsrc%5Etfw\">#RIAT18</a> <a href=\"https://twitter.com/hashtag/rcaf?src=hash&amp;ref_src=twsrc%5Etfw\">#rcaf</a> <a href=\"https://twitter.com/hashtag/sigmauk?src=hash&amp;ref_src=twsrc%5Etfw\">#sigmauk</a> <a href=\"https://twitter.com/hashtag/sigmaphoto?src=hash&amp;ref_src=twsrc%5Etfw\">#sigmaphoto</a> <a href=\"https://twitter.com/hashtag/teamcanon?src=hash&amp;ref_src=twsrc%5Etfw\">#teamcanon</a> <a href=\"https://twitter.com/BoeingDefense?ref_src=twsrc%5Etfw\">@BoeingDefense</a> <a href=\"https://twitter.com/AvNewsMag?ref_src=twsrc%5Etfw\">@AvNewsMag</a> <a href=\"https://t.co/9dHxRdpKk9\">pic.twitter.com/9dHxRdpKk9</a></p>&mdash; Chris Howe Photography (@cjh3051) <a href=\"https://twitter.com/cjh3051/status/1221840269437435905?ref_src=twsrc%5Etfw\">January 27, 2020</a></blockquote>\\n<script async src=\"https://platform.twitter.com/widgets.js\" charset=\"utf-8\"></script>\\n')\n",
      "PostgreSQL connection is closed\n",
      "Table Before updating record \n",
      "(64, '1221843281543340033', datetime.datetime(2020, 1, 27, 17, 11, 53, tzinfo=psycopg2.tz.FixedOffsetTimezone(offset=0, name=None)), '@realDonaldTrump How many buckets of KFC can you consume during todays', 'negative', 60, '<blockquote class=\"twitter-tweet\"><p lang=\"en\" dir=\"ltr\">How many buckets of KFC can you consume during today’s hearing?</p>&mdash; popeponchodaveI (@popeponchodave) <a href=\"https://twitter.com/popeponchodave/status/1221843281543340033?ref_src=twsrc%5Etfw\">January 27, 2020</a></blockquote>\\n<script async src=\"https://platform.twitter.com/widgets.js\" charset=\"utf-8\"></script>\\n')\n",
      "1 Record Updated successfully \n",
      "Table After updating record \n",
      "(64, '1221843281543340033', datetime.datetime(2020, 1, 27, 17, 11, 53, tzinfo=psycopg2.tz.FixedOffsetTimezone(offset=0, name=None)), '@realDonaldTrump How many buckets of KFC can you consume during todays', 'positive', 60, '<blockquote class=\"twitter-tweet\"><p lang=\"en\" dir=\"ltr\">How many buckets of KFC can you consume during today’s hearing?</p>&mdash; popeponchodaveI (@popeponchodave) <a href=\"https://twitter.com/popeponchodave/status/1221843281543340033?ref_src=twsrc%5Etfw\">January 27, 2020</a></blockquote>\\n<script async src=\"https://platform.twitter.com/widgets.js\" charset=\"utf-8\"></script>\\n')\n",
      "PostgreSQL connection is closed\n",
      "Table Before updating record \n",
      "(65, '1221843273691598848', datetime.datetime(2020, 1, 27, 17, 11, 51, tzinfo=psycopg2.tz.FixedOffsetTimezone(offset=0, name=None)), '@saraheliseg @KFC_UKI legend our les', 'negative', 61, '<blockquote class=\"twitter-tweet\"><p lang=\"en\" dir=\"ltr\">😂😂😂 legend our les is</p>&mdash; Olly Hanstock (@_olly11) <a href=\"https://twitter.com/_olly11/status/1221843273691598848?ref_src=twsrc%5Etfw\">January 27, 2020</a></blockquote>\\n<script async src=\"https://platform.twitter.com/widgets.js\" charset=\"utf-8\"></script>\\n')\n",
      "1 Record Updated successfully \n",
      "Table After updating record \n",
      "(65, '1221843273691598848', datetime.datetime(2020, 1, 27, 17, 11, 51, tzinfo=psycopg2.tz.FixedOffsetTimezone(offset=0, name=None)), '@saraheliseg @KFC_UKI legend our les', 'negative', 61, '<blockquote class=\"twitter-tweet\"><p lang=\"en\" dir=\"ltr\">😂😂😂 legend our les is</p>&mdash; Olly Hanstock (@_olly11) <a href=\"https://twitter.com/_olly11/status/1221843273691598848?ref_src=twsrc%5Etfw\">January 27, 2020</a></blockquote>\\n<script async src=\"https://platform.twitter.com/widgets.js\" charset=\"utf-8\"></script>\\n')\n",
      "PostgreSQL connection is closed\n",
      "Table Before updating record \n",
      "(67, '1221843242523811842', datetime.datetime(2020, 1, 27, 17, 11, 44, tzinfo=psycopg2.tz.FixedOffsetTimezone(offset=0, name=None)), \"@JoRussell_FM I know... And there's the kfc/pizza hut crossover 2020... The Year of food Ps-reckon theyre gluten free? Asking for a friend\", 'negative', 63, '<blockquote class=\"twitter-tweet\"><p lang=\"en\" dir=\"ltr\">I know... And there&#39;s the kfc/pizza hut crossover<br><br>2020... The Year of food<br><br>Ps-reckon theyre gluten free? Asking for a friend 😂</p>&mdash; Ant Footitt (@FootittAnt) <a href=\"https://twitter.com/FootittAnt/status/1221843242523811842?ref_src=twsrc%5Etfw\">January 27, 2020</a></blockquote>\\n<script async src=\"https://platform.twitter.com/widgets.js\" charset=\"utf-8\"></script>\\n')\n",
      "1 Record Updated successfully \n",
      "Table After updating record \n",
      "(67, '1221843242523811842', datetime.datetime(2020, 1, 27, 17, 11, 44, tzinfo=psycopg2.tz.FixedOffsetTimezone(offset=0, name=None)), \"@JoRussell_FM I know... And there's the kfc/pizza hut crossover 2020... The Year of food Ps-reckon theyre gluten free? Asking for a friend\", 'negative', 63, '<blockquote class=\"twitter-tweet\"><p lang=\"en\" dir=\"ltr\">I know... And there&#39;s the kfc/pizza hut crossover<br><br>2020... The Year of food<br><br>Ps-reckon theyre gluten free? Asking for a friend 😂</p>&mdash; Ant Footitt (@FootittAnt) <a href=\"https://twitter.com/FootittAnt/status/1221843242523811842?ref_src=twsrc%5Etfw\">January 27, 2020</a></blockquote>\\n<script async src=\"https://platform.twitter.com/widgets.js\" charset=\"utf-8\"></script>\\n')\n",
      "PostgreSQL connection is closed\n",
      "Table Before updating record \n",
      "(68, '1221843239688294400', datetime.datetime(2020, 1, 27, 17, 11, 43, tzinfo=psycopg2.tz.FixedOffsetTimezone(offset=0, name=None)), 'When your brand cant compete with KFC &amp; McD, just use religion as your added value. S3 Marketing Havard.', 'negative', 64, '<blockquote class=\"twitter-tweet\"><p lang=\"en\" dir=\"ltr\">When your brand can’t compete with KFC &amp; McD, just use religion as your added value. S3 Marketing Havard. <a href=\"https://t.co/5ivzCHjZTF\">pic.twitter.com/5ivzCHjZTF</a></p>&mdash; Aditya Wisnu (@AdityaWisnu) <a href=\"https://twitter.com/AdityaWisnu/status/1221367092777115649?ref_src=twsrc%5Etfw\">January 26, 2020</a></blockquote>\\n<script async src=\"https://platform.twitter.com/widgets.js\" charset=\"utf-8\"></script>\\n')\n",
      "1 Record Updated successfully \n",
      "Table After updating record \n",
      "(68, '1221843239688294400', datetime.datetime(2020, 1, 27, 17, 11, 43, tzinfo=psycopg2.tz.FixedOffsetTimezone(offset=0, name=None)), 'When your brand cant compete with KFC &amp; McD, just use religion as your added value. S3 Marketing Havard.', 'negative', 64, '<blockquote class=\"twitter-tweet\"><p lang=\"en\" dir=\"ltr\">When your brand can’t compete with KFC &amp; McD, just use religion as your added value. S3 Marketing Havard. <a href=\"https://t.co/5ivzCHjZTF\">pic.twitter.com/5ivzCHjZTF</a></p>&mdash; Aditya Wisnu (@AdityaWisnu) <a href=\"https://twitter.com/AdityaWisnu/status/1221367092777115649?ref_src=twsrc%5Etfw\">January 26, 2020</a></blockquote>\\n<script async src=\"https://platform.twitter.com/widgets.js\" charset=\"utf-8\"></script>\\n')\n",
      "PostgreSQL connection is closed\n"
     ]
    },
    {
     "name": "stdout",
     "output_type": "stream",
     "text": [
      "Table Before updating record \n",
      "(69, '1221842995776897024', datetime.datetime(2020, 1, 27, 17, 10, 45, tzinfo=psycopg2.tz.FixedOffsetTimezone(offset=0, name=None)), '@pizzahut I challenge u to stop selling', 'negative', 65, '<blockquote class=\"twitter-tweet\"><p lang=\"en\" dir=\"ltr\">I challenge u to stop selling pizzas</p>&mdash; ごきぶり (@GogetaKurasaki) <a href=\"https://twitter.com/GogetaKurasaki/status/1221842995776897024?ref_src=twsrc%5Etfw\">January 27, 2020</a></blockquote>\\n<script async src=\"https://platform.twitter.com/widgets.js\" charset=\"utf-8\"></script>\\n')\n",
      "1 Record Updated successfully \n",
      "Table After updating record \n",
      "(69, '1221842995776897024', datetime.datetime(2020, 1, 27, 17, 10, 45, tzinfo=psycopg2.tz.FixedOffsetTimezone(offset=0, name=None)), '@pizzahut I challenge u to stop selling', 'positive', 65, '<blockquote class=\"twitter-tweet\"><p lang=\"en\" dir=\"ltr\">I challenge u to stop selling pizzas</p>&mdash; ごきぶり (@GogetaKurasaki) <a href=\"https://twitter.com/GogetaKurasaki/status/1221842995776897024?ref_src=twsrc%5Etfw\">January 27, 2020</a></blockquote>\\n<script async src=\"https://platform.twitter.com/widgets.js\" charset=\"utf-8\"></script>\\n')\n",
      "PostgreSQL connection is closed\n",
      "Table Before updating record \n",
      "(70, '1221842809151479808', datetime.datetime(2020, 1, 27, 17, 10, 1, tzinfo=psycopg2.tz.FixedOffsetTimezone(offset=0, name=None)), '@pizzahut ordering every day can i get a', 'negative', 66, '<blockquote class=\"twitter-tweet\"><p lang=\"en\" dir=\"ltr\"><a href=\"https://twitter.com/pizzahut?ref_src=twsrc%5Etfw\">@pizzahut</a> ordering every day can i get a followback?</p>&mdash; Sammy (@YaBoiiMarcy) <a href=\"https://twitter.com/YaBoiiMarcy/status/1221842809151479808?ref_src=twsrc%5Etfw\">January 27, 2020</a></blockquote>\\n<script async src=\"https://platform.twitter.com/widgets.js\" charset=\"utf-8\"></script>\\n')\n",
      "1 Record Updated successfully \n",
      "Table After updating record \n",
      "(70, '1221842809151479808', datetime.datetime(2020, 1, 27, 17, 10, 1, tzinfo=psycopg2.tz.FixedOffsetTimezone(offset=0, name=None)), '@pizzahut ordering every day can i get a', 'positive', 66, '<blockquote class=\"twitter-tweet\"><p lang=\"en\" dir=\"ltr\"><a href=\"https://twitter.com/pizzahut?ref_src=twsrc%5Etfw\">@pizzahut</a> ordering every day can i get a followback?</p>&mdash; Sammy (@YaBoiiMarcy) <a href=\"https://twitter.com/YaBoiiMarcy/status/1221842809151479808?ref_src=twsrc%5Etfw\">January 27, 2020</a></blockquote>\\n<script async src=\"https://platform.twitter.com/widgets.js\" charset=\"utf-8\"></script>\\n')\n",
      "PostgreSQL connection is closed\n",
      "Table Before updating record \n",
      "(71, '1221842808778129408', datetime.datetime(2020, 1, 27, 17, 10, 1, tzinfo=psycopg2.tz.FixedOffsetTimezone(offset=0, name=None)), '@pizzahut Ok but how do you outpizza the', 'negative', 67, '<blockquote class=\"twitter-tweet\"><p lang=\"en\" dir=\"ltr\">Ok but how do you outpizza the hut??🤔🤔🤔</p>&mdash; Xavier (@tsmheb) <a href=\"https://twitter.com/tsmheb/status/1221842808778129408?ref_src=twsrc%5Etfw\">January 27, 2020</a></blockquote>\\n<script async src=\"https://platform.twitter.com/widgets.js\" charset=\"utf-8\"></script>\\n')\n",
      "1 Record Updated successfully \n",
      "Table After updating record \n",
      "(71, '1221842808778129408', datetime.datetime(2020, 1, 27, 17, 10, 1, tzinfo=psycopg2.tz.FixedOffsetTimezone(offset=0, name=None)), '@pizzahut Ok but how do you outpizza the', 'negative', 67, '<blockquote class=\"twitter-tweet\"><p lang=\"en\" dir=\"ltr\">Ok but how do you outpizza the hut??🤔🤔🤔</p>&mdash; Xavier (@tsmheb) <a href=\"https://twitter.com/tsmheb/status/1221842808778129408?ref_src=twsrc%5Etfw\">January 27, 2020</a></blockquote>\\n<script async src=\"https://platform.twitter.com/widgets.js\" charset=\"utf-8\"></script>\\n')\n",
      "PostgreSQL connection is closed\n",
      "Table Before updating record \n",
      "(72, '1221842679199387660', datetime.datetime(2020, 1, 27, 17, 9, 30, tzinfo=psycopg2.tz.FixedOffsetTimezone(offset=0, name=None)), \"@pizzahut Couldn't tell\", 'negative', 68, '<blockquote class=\"twitter-tweet\"><p lang=\"en\" dir=\"ltr\">Couldn&#39;t tell you.</p>&mdash; Ty (@tylerrozwell13) <a href=\"https://twitter.com/tylerrozwell13/status/1221842679199387660?ref_src=twsrc%5Etfw\">January 27, 2020</a></blockquote>\\n<script async src=\"https://platform.twitter.com/widgets.js\" charset=\"utf-8\"></script>\\n')\n",
      "1 Record Updated successfully \n",
      "Table After updating record \n",
      "(72, '1221842679199387660', datetime.datetime(2020, 1, 27, 17, 9, 30, tzinfo=psycopg2.tz.FixedOffsetTimezone(offset=0, name=None)), \"@pizzahut Couldn't tell\", 'negative', 68, '<blockquote class=\"twitter-tweet\"><p lang=\"en\" dir=\"ltr\">Couldn&#39;t tell you.</p>&mdash; Ty (@tylerrozwell13) <a href=\"https://twitter.com/tylerrozwell13/status/1221842679199387660?ref_src=twsrc%5Etfw\">January 27, 2020</a></blockquote>\\n<script async src=\"https://platform.twitter.com/widgets.js\" charset=\"utf-8\"></script>\\n')\n",
      "PostgreSQL connection is closed\n",
      "Table Before updating record \n",
      "(73, '1221842426530320386', datetime.datetime(2020, 1, 27, 17, 8, 29, tzinfo=psycopg2.tz.FixedOffsetTimezone(offset=0, name=None)), 'Ok honestly this seems doable', 'negative', 69, '<blockquote class=\"twitter-tweet\"><p lang=\"en\" dir=\"ltr\">Ok honestly this seems doable <a href=\"https://t.co/dok6bwtPzE\">pic.twitter.com/dok6bwtPzE</a></p>&mdash; Pizza Hut (@pizzahut) <a href=\"https://twitter.com/pizzahut/status/1221840312164868096?ref_src=twsrc%5Etfw\">January 27, 2020</a></blockquote>\\n<script async src=\"https://platform.twitter.com/widgets.js\" charset=\"utf-8\"></script>\\n')\n",
      "1 Record Updated successfully \n",
      "Table After updating record \n",
      "(73, '1221842426530320386', datetime.datetime(2020, 1, 27, 17, 8, 29, tzinfo=psycopg2.tz.FixedOffsetTimezone(offset=0, name=None)), 'Ok honestly this seems doable', 'negative', 69, '<blockquote class=\"twitter-tweet\"><p lang=\"en\" dir=\"ltr\">Ok honestly this seems doable <a href=\"https://t.co/dok6bwtPzE\">pic.twitter.com/dok6bwtPzE</a></p>&mdash; Pizza Hut (@pizzahut) <a href=\"https://twitter.com/pizzahut/status/1221840312164868096?ref_src=twsrc%5Etfw\">January 27, 2020</a></blockquote>\\n<script async src=\"https://platform.twitter.com/widgets.js\" charset=\"utf-8\"></script>\\n')\n",
      "PostgreSQL connection is closed\n",
      "Table Before updating record \n",
      "(74, '1221842384247558144', datetime.datetime(2020, 1, 27, 17, 8, 19, tzinfo=psycopg2.tz.FixedOffsetTimezone(offset=0, name=None)), 'Ok honestly this seems doable', 'negative', 70, '<blockquote class=\"twitter-tweet\"><p lang=\"en\" dir=\"ltr\">Ok honestly this seems doable <a href=\"https://t.co/dok6bwtPzE\">pic.twitter.com/dok6bwtPzE</a></p>&mdash; Pizza Hut (@pizzahut) <a href=\"https://twitter.com/pizzahut/status/1221840312164868096?ref_src=twsrc%5Etfw\">January 27, 2020</a></blockquote>\\n<script async src=\"https://platform.twitter.com/widgets.js\" charset=\"utf-8\"></script>\\n')\n",
      "1 Record Updated successfully \n",
      "Table After updating record \n",
      "(74, '1221842384247558144', datetime.datetime(2020, 1, 27, 17, 8, 19, tzinfo=psycopg2.tz.FixedOffsetTimezone(offset=0, name=None)), 'Ok honestly this seems doable', 'negative', 70, '<blockquote class=\"twitter-tweet\"><p lang=\"en\" dir=\"ltr\">Ok honestly this seems doable <a href=\"https://t.co/dok6bwtPzE\">pic.twitter.com/dok6bwtPzE</a></p>&mdash; Pizza Hut (@pizzahut) <a href=\"https://twitter.com/pizzahut/status/1221840312164868096?ref_src=twsrc%5Etfw\">January 27, 2020</a></blockquote>\\n<script async src=\"https://platform.twitter.com/widgets.js\" charset=\"utf-8\"></script>\\n')\n",
      "PostgreSQL connection is closed\n",
      "Table Before updating record \n",
      "(75, '1221842318598320128', datetime.datetime(2020, 1, 27, 17, 8, 4, tzinfo=psycopg2.tz.FixedOffsetTimezone(offset=0, name=None)), \"@pizzahut What's my\", 'negative', 71, '<blockquote class=\"twitter-tweet\"><p lang=\"en\" dir=\"ltr\">What&#39;s my reward</p>&mdash; Dramatic Spooder (@DramaticSpooder) <a href=\"https://twitter.com/DramaticSpooder/status/1221842318598320128?ref_src=twsrc%5Etfw\">January 27, 2020</a></blockquote>\\n<script async src=\"https://platform.twitter.com/widgets.js\" charset=\"utf-8\"></script>\\n')\n",
      "1 Record Updated successfully \n",
      "Table After updating record \n",
      "(75, '1221842318598320128', datetime.datetime(2020, 1, 27, 17, 8, 4, tzinfo=psycopg2.tz.FixedOffsetTimezone(offset=0, name=None)), \"@pizzahut What's my\", 'negative', 71, '<blockquote class=\"twitter-tweet\"><p lang=\"en\" dir=\"ltr\">What&#39;s my reward</p>&mdash; Dramatic Spooder (@DramaticSpooder) <a href=\"https://twitter.com/DramaticSpooder/status/1221842318598320128?ref_src=twsrc%5Etfw\">January 27, 2020</a></blockquote>\\n<script async src=\"https://platform.twitter.com/widgets.js\" charset=\"utf-8\"></script>\\n')\n",
      "PostgreSQL connection is closed\n"
     ]
    },
    {
     "name": "stdout",
     "output_type": "stream",
     "text": [
      "Table Before updating record \n",
      "(76, '1221842200868290564', datetime.datetime(2020, 1, 27, 17, 7, 36, tzinfo=psycopg2.tz.FixedOffsetTimezone(offset=0, name=None)), '@pizzahut Havent had any Pizza Hut for almost a year! The people here are rude and restaurant is', 'negative', 72, '<blockquote class=\"twitter-tweet\"><p lang=\"en\" dir=\"ltr\">Haven’t had any Pizza Hut for almost a year! The people here are rude and restaurant is disgusting.</p>&mdash; Aileen Orduño (@AileenOrduno) <a href=\"https://twitter.com/AileenOrduno/status/1221842200868290564?ref_src=twsrc%5Etfw\">January 27, 2020</a></blockquote>\\n<script async src=\"https://platform.twitter.com/widgets.js\" charset=\"utf-8\"></script>\\n')\n",
      "1 Record Updated successfully \n",
      "Table After updating record \n",
      "(76, '1221842200868290564', datetime.datetime(2020, 1, 27, 17, 7, 36, tzinfo=psycopg2.tz.FixedOffsetTimezone(offset=0, name=None)), '@pizzahut Havent had any Pizza Hut for almost a year! The people here are rude and restaurant is', 'positive', 72, '<blockquote class=\"twitter-tweet\"><p lang=\"en\" dir=\"ltr\">Haven’t had any Pizza Hut for almost a year! The people here are rude and restaurant is disgusting.</p>&mdash; Aileen Orduño (@AileenOrduno) <a href=\"https://twitter.com/AileenOrduno/status/1221842200868290564?ref_src=twsrc%5Etfw\">January 27, 2020</a></blockquote>\\n<script async src=\"https://platform.twitter.com/widgets.js\" charset=\"utf-8\"></script>\\n')\n",
      "PostgreSQL connection is closed\n",
      "Table Before updating record \n",
      "(77, '1221841956814249984', datetime.datetime(2020, 1, 27, 17, 6, 37, tzinfo=psycopg2.tz.FixedOffsetTimezone(offset=0, name=None)), \"@tylerrozwell13 We don't even know how that even\", 'negative', 73, '<blockquote class=\"twitter-tweet\"><p lang=\"en\" dir=\"ltr\">We don&#39;t even know how that even happens.</p>&mdash; Pizza Hut (@pizzahut) <a href=\"https://twitter.com/pizzahut/status/1221841956814249984?ref_src=twsrc%5Etfw\">January 27, 2020</a></blockquote>\\n<script async src=\"https://platform.twitter.com/widgets.js\" charset=\"utf-8\"></script>\\n')\n",
      "1 Record Updated successfully \n",
      "Table After updating record \n",
      "(77, '1221841956814249984', datetime.datetime(2020, 1, 27, 17, 6, 37, tzinfo=psycopg2.tz.FixedOffsetTimezone(offset=0, name=None)), \"@tylerrozwell13 We don't even know how that even\", 'negative', 73, '<blockquote class=\"twitter-tweet\"><p lang=\"en\" dir=\"ltr\">We don&#39;t even know how that even happens.</p>&mdash; Pizza Hut (@pizzahut) <a href=\"https://twitter.com/pizzahut/status/1221841956814249984?ref_src=twsrc%5Etfw\">January 27, 2020</a></blockquote>\\n<script async src=\"https://platform.twitter.com/widgets.js\" charset=\"utf-8\"></script>\\n')\n",
      "PostgreSQL connection is closed\n"
     ]
    }
   ],
   "source": [
    "for i in range(len(df)):\n",
    "    updateTable(int((df.iloc[i])[\"customer_id\"]), str((df.iloc[i])[\"sentiment\"]))"
   ]
  },
  {
   "cell_type": "code",
   "execution_count": null,
   "metadata": {},
   "outputs": [],
   "source": []
  },
  {
   "cell_type": "code",
   "execution_count": null,
   "metadata": {},
   "outputs": [],
   "source": []
  },
  {
   "cell_type": "code",
   "execution_count": null,
   "metadata": {},
   "outputs": [],
   "source": []
  },
  {
   "cell_type": "code",
   "execution_count": null,
   "metadata": {},
   "outputs": [],
   "source": []
  },
  {
   "cell_type": "code",
   "execution_count": null,
   "metadata": {},
   "outputs": [],
   "source": []
  },
  {
   "cell_type": "code",
   "execution_count": 76,
   "metadata": {
    "scrolled": true
   },
   "outputs": [
    {
     "data": {
      "text/html": [
       "<div>\n",
       "<style scoped>\n",
       "    .dataframe tbody tr th:only-of-type {\n",
       "        vertical-align: middle;\n",
       "    }\n",
       "\n",
       "    .dataframe tbody tr th {\n",
       "        vertical-align: top;\n",
       "    }\n",
       "\n",
       "    .dataframe thead th {\n",
       "        text-align: right;\n",
       "    }\n",
       "</style>\n",
       "<table border=\"1\" class=\"dataframe\">\n",
       "  <thead>\n",
       "    <tr style=\"text-align: right;\">\n",
       "      <th></th>\n",
       "      <th>id</th>\n",
       "      <th>tweet_id</th>\n",
       "      <th>datetime</th>\n",
       "      <th>text</th>\n",
       "      <th>sentiment</th>\n",
       "      <th>customer_id</th>\n",
       "      <th>html</th>\n",
       "    </tr>\n",
       "  </thead>\n",
       "  <tbody>\n",
       "    <tr>\n",
       "      <th>0</th>\n",
       "      <td>3</td>\n",
       "      <td>1221838735014187008</td>\n",
       "      <td>2020-01-27 16:53:49+00:00</td>\n",
       "      <td>To know more such interesting facts, follow th...</td>\n",
       "      <td>negative</td>\n",
       "      <td>3</td>\n",
       "      <td>&lt;blockquote class=\"twitter-tweet\"&gt;&lt;p lang=\"en\"...</td>\n",
       "    </tr>\n",
       "    <tr>\n",
       "      <th>1</th>\n",
       "      <td>4</td>\n",
       "      <td>1221838463495917568</td>\n",
       "      <td>2020-01-27 16:52:45+00:00</td>\n",
       "      <td>@BLRAirport Excellent Staff Service by Krishna...</td>\n",
       "      <td>positive</td>\n",
       "      <td>4</td>\n",
       "      <td>&lt;blockquote class=\"twitter-tweet\"&gt;&lt;p lang=\"en\"...</td>\n",
       "    </tr>\n",
       "    <tr>\n",
       "      <th>2</th>\n",
       "      <td>5</td>\n",
       "      <td>1221822560121184256</td>\n",
       "      <td>2020-01-27 15:49:33+00:00</td>\n",
       "      <td>Follow the BLR airport for such tasty facts.</td>\n",
       "      <td>negative</td>\n",
       "      <td>5</td>\n",
       "      <td>&lt;blockquote class=\"twitter-tweet\"&gt;&lt;p lang=\"en\"...</td>\n",
       "    </tr>\n",
       "    <tr>\n",
       "      <th>3</th>\n",
       "      <td>9</td>\n",
       "      <td>1221806466983530496</td>\n",
       "      <td>2020-01-27 14:45:36+00:00</td>\n",
       "      <td>@BLRAviation @khabri_lal @BLRAirport Pre empti...</td>\n",
       "      <td>positive</td>\n",
       "      <td>9</td>\n",
       "      <td>&lt;blockquote class=\"twitter-tweet\"&gt;&lt;p lang=\"en\"...</td>\n",
       "    </tr>\n",
       "    <tr>\n",
       "      <th>4</th>\n",
       "      <td>14</td>\n",
       "      <td>1221678985408417792</td>\n",
       "      <td>2020-01-27 06:19:02+00:00</td>\n",
       "      <td>iTWEET:On a busy day, Bengaluru Airport is all...</td>\n",
       "      <td>negative</td>\n",
       "      <td>12</td>\n",
       "      <td>&lt;blockquote class=\"twitter-tweet\"&gt;&lt;p lang=\"en\"...</td>\n",
       "    </tr>\n",
       "  </tbody>\n",
       "</table>\n",
       "</div>"
      ],
      "text/plain": [
       "   id             tweet_id                  datetime  \\\n",
       "0   3  1221838735014187008 2020-01-27 16:53:49+00:00   \n",
       "1   4  1221838463495917568 2020-01-27 16:52:45+00:00   \n",
       "2   5  1221822560121184256 2020-01-27 15:49:33+00:00   \n",
       "3   9  1221806466983530496 2020-01-27 14:45:36+00:00   \n",
       "4  14  1221678985408417792 2020-01-27 06:19:02+00:00   \n",
       "\n",
       "                                                text sentiment  customer_id  \\\n",
       "0  To know more such interesting facts, follow th...  negative            3   \n",
       "1  @BLRAirport Excellent Staff Service by Krishna...  positive            4   \n",
       "2       Follow the BLR airport for such tasty facts.  negative            5   \n",
       "3  @BLRAviation @khabri_lal @BLRAirport Pre empti...  positive            9   \n",
       "4  iTWEET:On a busy day, Bengaluru Airport is all...  negative           12   \n",
       "\n",
       "                                                html  \n",
       "0  <blockquote class=\"twitter-tweet\"><p lang=\"en\"...  \n",
       "1  <blockquote class=\"twitter-tweet\"><p lang=\"en\"...  \n",
       "2  <blockquote class=\"twitter-tweet\"><p lang=\"en\"...  \n",
       "3  <blockquote class=\"twitter-tweet\"><p lang=\"en\"...  \n",
       "4  <blockquote class=\"twitter-tweet\"><p lang=\"en\"...  "
      ]
     },
     "execution_count": 76,
     "metadata": {},
     "output_type": "execute_result"
    }
   ],
   "source": [
    "df_check = pd.read_sql_query('select * from twitterops_tweet',con=engine)\n",
    "df_check.head()"
   ]
  },
  {
   "cell_type": "code",
   "execution_count": 77,
   "metadata": {},
   "outputs": [
    {
     "data": {
      "text/plain": [
       "77"
      ]
     },
     "execution_count": 77,
     "metadata": {},
     "output_type": "execute_result"
    }
   ],
   "source": [
    "len(df_check)"
   ]
  },
  {
   "cell_type": "code",
   "execution_count": null,
   "metadata": {},
   "outputs": [],
   "source": []
  }
 ],
 "metadata": {
  "kernelspec": {
   "display_name": "Python 3",
   "language": "python",
   "name": "python3"
  },
  "language_info": {
   "codemirror_mode": {
    "name": "ipython",
    "version": 3
   },
   "file_extension": ".py",
   "mimetype": "text/x-python",
   "name": "python",
   "nbconvert_exporter": "python",
   "pygments_lexer": "ipython3",
   "version": "3.7.3"
  }
 },
 "nbformat": 4,
 "nbformat_minor": 2
}
